{
 "cells": [
  {
   "cell_type": "markdown",
   "metadata": {},
   "source": [
    "# Описание проекта\n",
    "\n",
    "Вы работаете в стартапе, который продаёт продукты питания. Нужно разобраться, как ведут себя пользователи вашего мобильного приложения.\n",
    "\n",
    "Необходимо:\n",
    "- изучить воронку продаж (как пользователи доходят до покупки, сколько пользователей доходит до покупки, а сколько — «застревает» на предыдущих шагах);\n",
    "- исследовать результаты A/A/B-эксперимента *(Дизайнеры захотели поменять шрифты во всём приложении, а менеджеры испугались, что пользователям будет непривычно. Договорились принять решение по результатам A/A/B-теста. Пользователей разбили на 3 группы: 2 контрольные со старыми шрифтами и одну экспериментальную — с новыми, выяснить, какой шрифт лучше)*.\n",
    "\n",
    "**План:**\n",
    "1. Откройте файл с данными и изучите общую информацию.\n",
    "2. Подготовьте данные.\n",
    "3. Изучите и проверьте данные.\n",
    "4. Изучите воронку событий.\n",
    "5. Изучите результаты эксперимента."
   ]
  },
  {
   "cell_type": "markdown",
   "metadata": {},
   "source": [
    "## Откройте файл с данными и изучите общую информацию."
   ]
  },
  {
   "cell_type": "markdown",
   "metadata": {},
   "source": [
    "Сначала импортируем необходимые библиотеки."
   ]
  },
  {
   "cell_type": "code",
   "execution_count": 1,
   "metadata": {},
   "outputs": [
    {
     "data": {
      "text/html": [
       " <style>\n",
       ".output_png {\n",
       "    display: table-cell;\n",
       "    text-align: center;\n",
       "    vertical-align: middle;\n",
       "}\n",
       "</style> "
      ],
      "text/plain": [
       "<IPython.core.display.HTML object>"
      ]
     },
     "execution_count": 1,
     "metadata": {},
     "output_type": "execute_result"
    }
   ],
   "source": [
    "import pandas as pd\n",
    "from datetime import datetime as dt\n",
    "import seaborn as sns\n",
    "import numpy as np\n",
    "import scipy.stats as stats\n",
    "import math as mth\n",
    "import matplotlib.pyplot as plt\n",
    "from pandas.plotting import register_matplotlib_converters\n",
    "import warnings\n",
    "# конвертеры, которые позволяют использовать типы pandas в matplotlib  \n",
    "register_matplotlib_converters()\n",
    "\n",
    "#для размещения графиков посередины страницы\n",
    "from IPython.core.display import HTML as Center\n",
    "\n",
    "Center(\"\"\" <style>\n",
    ".output_png {\n",
    "    display: table-cell;\n",
    "    text-align: center;\n",
    "    vertical-align: middle;\n",
    "}\n",
    "</style> \"\"\")"
   ]
  },
  {
   "cell_type": "markdown",
   "metadata": {},
   "source": [
    "Откроем файл и сохраним его в переменной."
   ]
  },
  {
   "cell_type": "code",
   "execution_count": 3,
   "metadata": {},
   "outputs": [],
   "source": [
    "data = pd.read_csv('....csv', sep='\\t')"
   ]
  },
  {
   "cell_type": "code",
   "execution_count": 4,
   "metadata": {},
   "outputs": [
    {
     "data": {
      "text/html": [
       "<div>\n",
       "<style scoped>\n",
       "    .dataframe tbody tr th:only-of-type {\n",
       "        vertical-align: middle;\n",
       "    }\n",
       "\n",
       "    .dataframe tbody tr th {\n",
       "        vertical-align: top;\n",
       "    }\n",
       "\n",
       "    .dataframe thead th {\n",
       "        text-align: right;\n",
       "    }\n",
       "</style>\n",
       "<table border=\"1\" class=\"dataframe\">\n",
       "  <thead>\n",
       "    <tr style=\"text-align: right;\">\n",
       "      <th></th>\n",
       "      <th>EventName</th>\n",
       "      <th>DeviceIDHash</th>\n",
       "      <th>EventTimestamp</th>\n",
       "      <th>ExpId</th>\n",
       "    </tr>\n",
       "  </thead>\n",
       "  <tbody>\n",
       "    <tr>\n",
       "      <th>0</th>\n",
       "      <td>MainScreenAppear</td>\n",
       "      <td>4575588528974610257</td>\n",
       "      <td>1564029816</td>\n",
       "      <td>246</td>\n",
       "    </tr>\n",
       "    <tr>\n",
       "      <th>1</th>\n",
       "      <td>MainScreenAppear</td>\n",
       "      <td>7416695313311560658</td>\n",
       "      <td>1564053102</td>\n",
       "      <td>246</td>\n",
       "    </tr>\n",
       "    <tr>\n",
       "      <th>2</th>\n",
       "      <td>PaymentScreenSuccessful</td>\n",
       "      <td>3518123091307005509</td>\n",
       "      <td>1564054127</td>\n",
       "      <td>248</td>\n",
       "    </tr>\n",
       "    <tr>\n",
       "      <th>3</th>\n",
       "      <td>CartScreenAppear</td>\n",
       "      <td>3518123091307005509</td>\n",
       "      <td>1564054127</td>\n",
       "      <td>248</td>\n",
       "    </tr>\n",
       "    <tr>\n",
       "      <th>4</th>\n",
       "      <td>PaymentScreenSuccessful</td>\n",
       "      <td>6217807653094995999</td>\n",
       "      <td>1564055322</td>\n",
       "      <td>248</td>\n",
       "    </tr>\n",
       "  </tbody>\n",
       "</table>\n",
       "</div>"
      ],
      "text/plain": [
       "                 EventName         DeviceIDHash  EventTimestamp  ExpId\n",
       "0         MainScreenAppear  4575588528974610257      1564029816    246\n",
       "1         MainScreenAppear  7416695313311560658      1564053102    246\n",
       "2  PaymentScreenSuccessful  3518123091307005509      1564054127    248\n",
       "3         CartScreenAppear  3518123091307005509      1564054127    248\n",
       "4  PaymentScreenSuccessful  6217807653094995999      1564055322    248"
      ]
     },
     "execution_count": 4,
     "metadata": {},
     "output_type": "execute_result"
    }
   ],
   "source": [
    "data.head()"
   ]
  },
  {
   "cell_type": "code",
   "execution_count": 5,
   "metadata": {},
   "outputs": [
    {
     "name": "stdout",
     "output_type": "stream",
     "text": [
      "<class 'pandas.core.frame.DataFrame'>\n",
      "RangeIndex: 244126 entries, 0 to 244125\n",
      "Data columns (total 4 columns):\n",
      " #   Column          Non-Null Count   Dtype \n",
      "---  ------          --------------   ----- \n",
      " 0   EventName       244126 non-null  object\n",
      " 1   DeviceIDHash    244126 non-null  int64 \n",
      " 2   EventTimestamp  244126 non-null  int64 \n",
      " 3   ExpId           244126 non-null  int64 \n",
      "dtypes: int64(3), object(1)\n",
      "memory usage: 7.5+ MB\n"
     ]
    }
   ],
   "source": [
    "data.info()"
   ]
  },
  {
   "cell_type": "markdown",
   "metadata": {},
   "source": [
    "### Вывод по пункту 1\n",
    "Таким образом, в датасете 244 тысячи строк, пропущенные значения отсутствуют."
   ]
  },
  {
   "cell_type": "markdown",
   "metadata": {},
   "source": [
    "## Подготовьте данные."
   ]
  },
  {
   "cell_type": "markdown",
   "metadata": {},
   "source": [
    "###  Замените названия столбцов на удобные для вас."
   ]
  },
  {
   "cell_type": "markdown",
   "metadata": {},
   "source": [
    "Приведём названия столбцов к строчным буквам и змеиному регистру."
   ]
  },
  {
   "cell_type": "code",
   "execution_count": 6,
   "metadata": {},
   "outputs": [
    {
     "data": {
      "text/html": [
       "<div>\n",
       "<style scoped>\n",
       "    .dataframe tbody tr th:only-of-type {\n",
       "        vertical-align: middle;\n",
       "    }\n",
       "\n",
       "    .dataframe tbody tr th {\n",
       "        vertical-align: top;\n",
       "    }\n",
       "\n",
       "    .dataframe thead th {\n",
       "        text-align: right;\n",
       "    }\n",
       "</style>\n",
       "<table border=\"1\" class=\"dataframe\">\n",
       "  <thead>\n",
       "    <tr style=\"text-align: right;\">\n",
       "      <th></th>\n",
       "      <th>event_name</th>\n",
       "      <th>device_id_hash</th>\n",
       "      <th>event_time_stamp</th>\n",
       "      <th>exp_id</th>\n",
       "    </tr>\n",
       "  </thead>\n",
       "  <tbody>\n",
       "    <tr>\n",
       "      <th>0</th>\n",
       "      <td>MainScreenAppear</td>\n",
       "      <td>4575588528974610257</td>\n",
       "      <td>1564029816</td>\n",
       "      <td>246</td>\n",
       "    </tr>\n",
       "    <tr>\n",
       "      <th>1</th>\n",
       "      <td>MainScreenAppear</td>\n",
       "      <td>7416695313311560658</td>\n",
       "      <td>1564053102</td>\n",
       "      <td>246</td>\n",
       "    </tr>\n",
       "    <tr>\n",
       "      <th>2</th>\n",
       "      <td>PaymentScreenSuccessful</td>\n",
       "      <td>3518123091307005509</td>\n",
       "      <td>1564054127</td>\n",
       "      <td>248</td>\n",
       "    </tr>\n",
       "    <tr>\n",
       "      <th>3</th>\n",
       "      <td>CartScreenAppear</td>\n",
       "      <td>3518123091307005509</td>\n",
       "      <td>1564054127</td>\n",
       "      <td>248</td>\n",
       "    </tr>\n",
       "    <tr>\n",
       "      <th>4</th>\n",
       "      <td>PaymentScreenSuccessful</td>\n",
       "      <td>6217807653094995999</td>\n",
       "      <td>1564055322</td>\n",
       "      <td>248</td>\n",
       "    </tr>\n",
       "  </tbody>\n",
       "</table>\n",
       "</div>"
      ],
      "text/plain": [
       "                event_name       device_id_hash  event_time_stamp  exp_id\n",
       "0         MainScreenAppear  4575588528974610257        1564029816     246\n",
       "1         MainScreenAppear  7416695313311560658        1564053102     246\n",
       "2  PaymentScreenSuccessful  3518123091307005509        1564054127     248\n",
       "3         CartScreenAppear  3518123091307005509        1564054127     248\n",
       "4  PaymentScreenSuccessful  6217807653094995999        1564055322     248"
      ]
     },
     "execution_count": 6,
     "metadata": {},
     "output_type": "execute_result"
    }
   ],
   "source": [
    "data.columns = data.columns.str.lower()\n",
    "\n",
    "data = data.rename( \n",
    " columns={ \n",
    "'eventname': 'event_name', \n",
    "'deviceidhash': 'device_id_hash', \n",
    "'eventtimestamp': 'event_time_stamp',\n",
    "'expid': 'exp_id', \n",
    " } \n",
    ")\n",
    "data.head()"
   ]
  },
  {
   "cell_type": "markdown",
   "metadata": {},
   "source": [
    "###  Проверьте пропуски и типы данных. Откорректируйте, если нужно."
   ]
  },
  {
   "cell_type": "markdown",
   "metadata": {},
   "source": [
    "Посмотрим есть ли в датасете пропущенные значения."
   ]
  },
  {
   "cell_type": "code",
   "execution_count": 7,
   "metadata": {},
   "outputs": [
    {
     "data": {
      "text/plain": [
       "event_name          0\n",
       "device_id_hash      0\n",
       "event_time_stamp    0\n",
       "exp_id              0\n",
       "dtype: int64"
      ]
     },
     "execution_count": 7,
     "metadata": {},
     "output_type": "execute_result"
    }
   ],
   "source": [
    "data.isna().sum()"
   ]
  },
  {
   "cell_type": "markdown",
   "metadata": {},
   "source": [
    "Пропущенные значения отстутствуют. Теперь перейдём к поиску дубликатов."
   ]
  },
  {
   "cell_type": "code",
   "execution_count": 8,
   "metadata": {},
   "outputs": [
    {
     "data": {
      "text/plain": [
       "413"
      ]
     },
     "execution_count": 8,
     "metadata": {},
     "output_type": "execute_result"
    }
   ],
   "source": [
    "data.duplicated().sum()"
   ]
  },
  {
   "cell_type": "markdown",
   "metadata": {},
   "source": [
    "Удалим дубликаты."
   ]
  },
  {
   "cell_type": "code",
   "execution_count": 9,
   "metadata": {},
   "outputs": [
    {
     "name": "stdout",
     "output_type": "stream",
     "text": [
      "Изначальное количество строк в датасете:  244 126\n",
      "--------------------------------------------------------------------------------\n",
      "Количество удалённых строк:  413\n",
      "Доля удалённых строк:  0.17%\n",
      "--------------------------------------------------------------------------------\n",
      "Количество строк после удаления:  243 713\n"
     ]
    }
   ],
   "source": [
    "count_rows_start = data.shape[0]\n",
    "print('Изначальное количество строк в датасете: ', '{0:,}'.format(count_rows_start).replace(',', ' '))\n",
    "data = data.drop_duplicates().reset_index(drop=True)\n",
    "count_rows_after = data.shape[0]\n",
    "print('-' * 80)\n",
    "print('Количество удалённых строк: ', '{0:,}'.format(count_rows_start - count_rows_after).replace(',', ' '))\n",
    "print('Доля удалённых строк: ', '{0:.2%}'.format((count_rows_start - count_rows_after)/count_rows_after))\n",
    "print('-' * 80)\n",
    "print('Количество строк после удаления: ', '{0:,}'.format(count_rows_after).replace(',', ' '))"
   ]
  },
  {
   "cell_type": "markdown",
   "metadata": {},
   "source": [
    "###  Добавьте столбец даты и времени, а также отдельный столбец дат."
   ]
  },
  {
   "cell_type": "code",
   "execution_count": 10,
   "metadata": {},
   "outputs": [],
   "source": [
    "data['event_datetime'] = data['event_time_stamp'].map(lambda x: dt.fromtimestamp(x))\n",
    "data['event_date'] = data['event_datetime'].map(lambda x: x.date())"
   ]
  },
  {
   "cell_type": "code",
   "execution_count": 11,
   "metadata": {},
   "outputs": [
    {
     "data": {
      "text/html": [
       "<div>\n",
       "<style scoped>\n",
       "    .dataframe tbody tr th:only-of-type {\n",
       "        vertical-align: middle;\n",
       "    }\n",
       "\n",
       "    .dataframe tbody tr th {\n",
       "        vertical-align: top;\n",
       "    }\n",
       "\n",
       "    .dataframe thead th {\n",
       "        text-align: right;\n",
       "    }\n",
       "</style>\n",
       "<table border=\"1\" class=\"dataframe\">\n",
       "  <thead>\n",
       "    <tr style=\"text-align: right;\">\n",
       "      <th></th>\n",
       "      <th>event_name</th>\n",
       "      <th>device_id_hash</th>\n",
       "      <th>event_time_stamp</th>\n",
       "      <th>exp_id</th>\n",
       "      <th>event_datetime</th>\n",
       "      <th>event_date</th>\n",
       "    </tr>\n",
       "  </thead>\n",
       "  <tbody>\n",
       "    <tr>\n",
       "      <th>0</th>\n",
       "      <td>MainScreenAppear</td>\n",
       "      <td>4575588528974610257</td>\n",
       "      <td>1564029816</td>\n",
       "      <td>246</td>\n",
       "      <td>2019-07-25 10:43:36</td>\n",
       "      <td>2019-07-25</td>\n",
       "    </tr>\n",
       "    <tr>\n",
       "      <th>1</th>\n",
       "      <td>MainScreenAppear</td>\n",
       "      <td>7416695313311560658</td>\n",
       "      <td>1564053102</td>\n",
       "      <td>246</td>\n",
       "      <td>2019-07-25 17:11:42</td>\n",
       "      <td>2019-07-25</td>\n",
       "    </tr>\n",
       "    <tr>\n",
       "      <th>2</th>\n",
       "      <td>PaymentScreenSuccessful</td>\n",
       "      <td>3518123091307005509</td>\n",
       "      <td>1564054127</td>\n",
       "      <td>248</td>\n",
       "      <td>2019-07-25 17:28:47</td>\n",
       "      <td>2019-07-25</td>\n",
       "    </tr>\n",
       "    <tr>\n",
       "      <th>3</th>\n",
       "      <td>CartScreenAppear</td>\n",
       "      <td>3518123091307005509</td>\n",
       "      <td>1564054127</td>\n",
       "      <td>248</td>\n",
       "      <td>2019-07-25 17:28:47</td>\n",
       "      <td>2019-07-25</td>\n",
       "    </tr>\n",
       "    <tr>\n",
       "      <th>4</th>\n",
       "      <td>PaymentScreenSuccessful</td>\n",
       "      <td>6217807653094995999</td>\n",
       "      <td>1564055322</td>\n",
       "      <td>248</td>\n",
       "      <td>2019-07-25 17:48:42</td>\n",
       "      <td>2019-07-25</td>\n",
       "    </tr>\n",
       "  </tbody>\n",
       "</table>\n",
       "</div>"
      ],
      "text/plain": [
       "                event_name       device_id_hash  event_time_stamp  exp_id  \\\n",
       "0         MainScreenAppear  4575588528974610257        1564029816     246   \n",
       "1         MainScreenAppear  7416695313311560658        1564053102     246   \n",
       "2  PaymentScreenSuccessful  3518123091307005509        1564054127     248   \n",
       "3         CartScreenAppear  3518123091307005509        1564054127     248   \n",
       "4  PaymentScreenSuccessful  6217807653094995999        1564055322     248   \n",
       "\n",
       "       event_datetime  event_date  \n",
       "0 2019-07-25 10:43:36  2019-07-25  \n",
       "1 2019-07-25 17:11:42  2019-07-25  \n",
       "2 2019-07-25 17:28:47  2019-07-25  \n",
       "3 2019-07-25 17:28:47  2019-07-25  \n",
       "4 2019-07-25 17:48:42  2019-07-25  "
      ]
     },
     "execution_count": 11,
     "metadata": {},
     "output_type": "execute_result"
    }
   ],
   "source": [
    "data.head()"
   ]
  },
  {
   "cell_type": "markdown",
   "metadata": {},
   "source": [
    "Также изменим наименования групп (столбец 'exp_id'):\n",
    "- вместо 246 пропишем A_1;\n",
    "- вместо 247 - A_2;\n",
    "- вместо 248 - B."
   ]
  },
  {
   "cell_type": "code",
   "execution_count": 12,
   "metadata": {},
   "outputs": [],
   "source": [
    "data['exp_id'] = data['exp_id'].replace({246:'A1', 247:'A2', 248:'B'})"
   ]
  },
  {
   "cell_type": "code",
   "execution_count": 13,
   "metadata": {},
   "outputs": [
    {
     "data": {
      "text/html": [
       "<div>\n",
       "<style scoped>\n",
       "    .dataframe tbody tr th:only-of-type {\n",
       "        vertical-align: middle;\n",
       "    }\n",
       "\n",
       "    .dataframe tbody tr th {\n",
       "        vertical-align: top;\n",
       "    }\n",
       "\n",
       "    .dataframe thead th {\n",
       "        text-align: right;\n",
       "    }\n",
       "</style>\n",
       "<table border=\"1\" class=\"dataframe\">\n",
       "  <thead>\n",
       "    <tr style=\"text-align: right;\">\n",
       "      <th></th>\n",
       "      <th>event_name</th>\n",
       "      <th>device_id_hash</th>\n",
       "      <th>event_time_stamp</th>\n",
       "      <th>exp_id</th>\n",
       "      <th>event_datetime</th>\n",
       "      <th>event_date</th>\n",
       "    </tr>\n",
       "  </thead>\n",
       "  <tbody>\n",
       "    <tr>\n",
       "      <th>0</th>\n",
       "      <td>MainScreenAppear</td>\n",
       "      <td>4575588528974610257</td>\n",
       "      <td>1564029816</td>\n",
       "      <td>A1</td>\n",
       "      <td>2019-07-25 10:43:36</td>\n",
       "      <td>2019-07-25</td>\n",
       "    </tr>\n",
       "    <tr>\n",
       "      <th>1</th>\n",
       "      <td>MainScreenAppear</td>\n",
       "      <td>7416695313311560658</td>\n",
       "      <td>1564053102</td>\n",
       "      <td>A1</td>\n",
       "      <td>2019-07-25 17:11:42</td>\n",
       "      <td>2019-07-25</td>\n",
       "    </tr>\n",
       "    <tr>\n",
       "      <th>2</th>\n",
       "      <td>PaymentScreenSuccessful</td>\n",
       "      <td>3518123091307005509</td>\n",
       "      <td>1564054127</td>\n",
       "      <td>B</td>\n",
       "      <td>2019-07-25 17:28:47</td>\n",
       "      <td>2019-07-25</td>\n",
       "    </tr>\n",
       "    <tr>\n",
       "      <th>3</th>\n",
       "      <td>CartScreenAppear</td>\n",
       "      <td>3518123091307005509</td>\n",
       "      <td>1564054127</td>\n",
       "      <td>B</td>\n",
       "      <td>2019-07-25 17:28:47</td>\n",
       "      <td>2019-07-25</td>\n",
       "    </tr>\n",
       "    <tr>\n",
       "      <th>4</th>\n",
       "      <td>PaymentScreenSuccessful</td>\n",
       "      <td>6217807653094995999</td>\n",
       "      <td>1564055322</td>\n",
       "      <td>B</td>\n",
       "      <td>2019-07-25 17:48:42</td>\n",
       "      <td>2019-07-25</td>\n",
       "    </tr>\n",
       "  </tbody>\n",
       "</table>\n",
       "</div>"
      ],
      "text/plain": [
       "                event_name       device_id_hash  event_time_stamp exp_id  \\\n",
       "0         MainScreenAppear  4575588528974610257        1564029816     A1   \n",
       "1         MainScreenAppear  7416695313311560658        1564053102     A1   \n",
       "2  PaymentScreenSuccessful  3518123091307005509        1564054127      B   \n",
       "3         CartScreenAppear  3518123091307005509        1564054127      B   \n",
       "4  PaymentScreenSuccessful  6217807653094995999        1564055322      B   \n",
       "\n",
       "       event_datetime  event_date  \n",
       "0 2019-07-25 10:43:36  2019-07-25  \n",
       "1 2019-07-25 17:11:42  2019-07-25  \n",
       "2 2019-07-25 17:28:47  2019-07-25  \n",
       "3 2019-07-25 17:28:47  2019-07-25  \n",
       "4 2019-07-25 17:48:42  2019-07-25  "
      ]
     },
     "execution_count": 13,
     "metadata": {},
     "output_type": "execute_result"
    }
   ],
   "source": [
    "data.head()"
   ]
  },
  {
   "cell_type": "markdown",
   "metadata": {},
   "source": [
    "### Вывод по пункту 2\n",
    "1. Названия столбцов приведены к строчным буквам и змеиному регистру.\n",
    "2. Пропущенные значения отсутствуют.\n",
    "3. Выявлены и удалены дубликаты (413 строк, что менее 1% от изначального объёма датасета).\n",
    "4. Добавлены 2 (два) столбца:\n",
    "    - даты и времени;\n",
    "    - даты.\n",
    "5. В столбце 'exp_id' в наименовании групп вместо чисел проставлены буквенные обозначения."
   ]
  },
  {
   "cell_type": "markdown",
   "metadata": {},
   "source": [
    "## Изучите и проверьте данные."
   ]
  },
  {
   "cell_type": "markdown",
   "metadata": {},
   "source": [
    "###  Сколько всего событий в логе?"
   ]
  },
  {
   "cell_type": "code",
   "execution_count": 14,
   "metadata": {},
   "outputs": [
    {
     "name": "stdout",
     "output_type": "stream",
     "text": [
      "Всего событий в логе: 243 713\n"
     ]
    }
   ],
   "source": [
    "print('Всего событий в логе:', '{0:,}'.format(data['event_time_stamp'].count()).replace(',', ' '))"
   ]
  },
  {
   "cell_type": "markdown",
   "metadata": {},
   "source": [
    "###  Сколько всего пользователей в логе?"
   ]
  },
  {
   "cell_type": "code",
   "execution_count": 15,
   "metadata": {},
   "outputs": [
    {
     "name": "stdout",
     "output_type": "stream",
     "text": [
      "Всего пользователей в логе: 7 551\n"
     ]
    }
   ],
   "source": [
    "print('Всего пользователей в логе:', '{0:,}'.format(data['device_id_hash'].nunique()).replace(',', ' '))"
   ]
  },
  {
   "cell_type": "markdown",
   "metadata": {},
   "source": [
    "###  Сколько в среднем событий приходится на пользователя?"
   ]
  },
  {
   "cell_type": "code",
   "execution_count": 16,
   "metadata": {},
   "outputs": [
    {
     "name": "stdout",
     "output_type": "stream",
     "text": [
      "В среднем на пользователя приходится 32 события.\n"
     ]
    }
   ],
   "source": [
    "print('В среднем на пользователя приходится',\\\n",
    "      '{:.0f}'.format(data['event_time_stamp'].count()/data['device_id_hash'].nunique()), 'события.')"
   ]
  },
  {
   "cell_type": "markdown",
   "metadata": {},
   "source": [
    "###  Данными за какой период вы располагаете?"
   ]
  },
  {
   "cell_type": "markdown",
   "metadata": {},
   "source": [
    "####  Найдите максимальную и минимальную дату."
   ]
  },
  {
   "cell_type": "code",
   "execution_count": 17,
   "metadata": {},
   "outputs": [
    {
     "name": "stdout",
     "output_type": "stream",
     "text": [
      "Максимальная дата равна 2019-08-08\n",
      "Минимальная дата равна 2019-07-25\n"
     ]
    }
   ],
   "source": [
    "print('Максимальная дата равна', data['event_date'].max())\n",
    "print('Минимальная дата равна', data['event_date'].min())"
   ]
  },
  {
   "cell_type": "markdown",
   "metadata": {},
   "source": [
    "####  Постройте гистограмму по дате и времени.\n",
    "**Можно ли быть уверенным, что у вас одинаково полные данные за весь период? Технически в логи новых дней по некоторым пользователям могут «доезжать» события из прошлого — это может «перекашивать данные».**"
   ]
  },
  {
   "cell_type": "code",
   "execution_count": 18,
   "metadata": {},
   "outputs": [
    {
     "data": {
      "image/png": "[encoded data removed]",
      "text/plain": [
       "<Figure size 1500x500 with 1 Axes>"
      ]
     },
     "metadata": {},
     "output_type": "display_data"
    }
   ],
   "source": [
    "list_log = data.groupby('event_date')[['event_name']].count().reset_index()\n",
    "\n",
    "plt.figure(figsize=(15, 5))\n",
    "ax = sns.barplot(x='event_date', y='event_name', data=list_log, palette='rocket')\n",
    "\n",
    "for x, y in list_log.iterrows():\n",
    "    ax.text(x, y[1]+400, str(y[1]), ha='center')\n",
    "        \n",
    "plt.title('Динамика количества логов',fontsize = 20)\n",
    "plt.xlabel(' ', fontsize = 15)\n",
    "plt.xticks(rotation=55)\n",
    "plt.ylabel('количество логов', fontsize = 15)\n",
    "plt.grid(True)\n",
    "plt.show()"
   ]
  },
  {
   "cell_type": "markdown",
   "metadata": {},
   "source": [
    "Как видно на графике, у нас неполные данные:\n",
    "- в период с 2019-07-25 по 2019-07-31 количество логов не превышает 2 тысяч;\n",
    "- 2019-08-01 количество логов резко возрастает (в 18 раз) и остаётся примерно в этом же диапазоне до конца проведения A/A/B-эксперимента."
   ]
  },
  {
   "cell_type": "markdown",
   "metadata": {},
   "source": [
    "####  Определите, с какого момента данные полные и отбросьте более старые. Данными за какой период времени вы располагаете на самом деле?"
   ]
  },
  {
   "cell_type": "markdown",
   "metadata": {},
   "source": [
    "Основываясь на предыдущих выводах, для дальнейшей работы возьмём данные за период с 2019-08-01 по 2019-08-07."
   ]
  },
  {
   "cell_type": "code",
   "execution_count": 19,
   "metadata": {},
   "outputs": [],
   "source": [
    "data_new = data.loc[data['event_datetime'] > '2019-07-31']"
   ]
  },
  {
   "cell_type": "markdown",
   "metadata": {},
   "source": [
    "###  Много ли событий и пользователей вы потеряли, отбросив старые данные?"
   ]
  },
  {
   "cell_type": "code",
   "execution_count": 20,
   "metadata": {},
   "outputs": [
    {
     "name": "stdout",
     "output_type": "stream",
     "text": [
      "Количество удалённых событий равно 718 или 0.29%\n",
      "Количество удалённых пользователей равно 8 или 0.11%\n"
     ]
    }
   ],
   "source": [
    "print('Количество удалённых событий равно', data['event_name'].count() - data_new['event_name'].count(),\\\n",
    "     'или', '{0:.2%}'.format((data['event_name'].count() - data_new['event_name'].count())/data['event_name'].count()))\n",
    "print('Количество удалённых пользователей равно', data['device_id_hash'].nunique() - data_new['device_id_hash'].nunique(),\\\n",
    "     'или', '{0:.2%}'.format((data['device_id_hash'].nunique() - data_new['device_id_hash'].nunique())/\\\n",
    "                             data['device_id_hash'].nunique()))"
   ]
  },
  {
   "cell_type": "markdown",
   "metadata": {},
   "source": [
    "###  Проверьте, что у вас есть пользователи из всех трёх экспериментальных групп."
   ]
  },
  {
   "cell_type": "code",
   "execution_count": 21,
   "metadata": {},
   "outputs": [
    {
     "data": {
      "text/html": [
       "<style type=\"text/css\">\n",
       "#T_8cd55 caption {\n",
       "  color: black;\n",
       "  text-align: center;\n",
       "  font-size: 18px;\n",
       "}\n",
       "</style>\n",
       "<table id=\"T_8cd55\">\n",
       "  <caption>Количество пользователей в разрезе экспериментальных групп</caption>\n",
       "  <thead>\n",
       "    <tr>\n",
       "      <th class=\"blank level0\" >&nbsp;</th>\n",
       "      <th id=\"T_8cd55_level0_col0\" class=\"col_heading level0 col0\" >количество пользователей</th>\n",
       "    </tr>\n",
       "    <tr>\n",
       "      <th class=\"index_name level0\" >группа эксперимента</th>\n",
       "      <th class=\"blank col0\" >&nbsp;</th>\n",
       "    </tr>\n",
       "  </thead>\n",
       "  <tbody>\n",
       "    <tr>\n",
       "      <th id=\"T_8cd55_level0_row0\" class=\"row_heading level0 row0\" >A1</th>\n",
       "      <td id=\"T_8cd55_row0_col0\" class=\"data row0 col0\" >2,486</td>\n",
       "    </tr>\n",
       "    <tr>\n",
       "      <th id=\"T_8cd55_level0_row1\" class=\"row_heading level0 row1\" >A2</th>\n",
       "      <td id=\"T_8cd55_row1_col0\" class=\"data row1 col0\" >2,517</td>\n",
       "    </tr>\n",
       "    <tr>\n",
       "      <th id=\"T_8cd55_level0_row2\" class=\"row_heading level0 row2\" >B</th>\n",
       "      <td id=\"T_8cd55_row2_col0\" class=\"data row2 col0\" >2,540</td>\n",
       "    </tr>\n",
       "  </tbody>\n",
       "</table>\n"
      ],
      "text/plain": [
       "<pandas.io.formats.style.Styler at 0x173e04a0050>"
      ]
     },
     "execution_count": 21,
     "metadata": {},
     "output_type": "execute_result"
    }
   ],
   "source": [
    "data_groups = data_new.groupby('exp_id').agg({'device_id_hash': 'nunique'})\n",
    "data_groups.columns = ['количество пользователей']\n",
    "data_groups.index.names = ['группа эксперимента']\n",
    "(data_groups\n",
    " .style\n",
    " .format('{0:,.0f}', subset='количество пользователей')\n",
    " .set_caption('Количество пользователей в разрезе экспериментальных групп')\n",
    " .set_table_styles([{'selector': 'caption', \n",
    "                    'props': [('color', 'black'), ('text-align','center'), ('font-size', '18px')]\n",
    "                    }])\n",
    ")"
   ]
  },
  {
   "cell_type": "markdown",
   "metadata": {},
   "source": [
    "Таким образом, пользователи есть во всех трёх экспериментальных группах и распределены практически одинаково (по 2,5 тысячи)."
   ]
  },
  {
   "cell_type": "markdown",
   "metadata": {},
   "source": [
    "### Вывод по пункту 3\n",
    "1. Всего в логе почти 244 тысячи событий.\n",
    "2. Всего в логе 7,5 тысячи пользователей.\n",
    "3. В среднем на пользователя приходится 32 события.\n",
    "4. Максимальная дата равна 2019-08-07, минимальная дата равна 2019-07-25.\n",
    "5. Так как у нас неполные данные в период с 2019-07-25 по 2019-07-31, для дальнейшей работы определены данные за период с 2019-08-01 по 2019-08-07.\n",
    "6. Количество удалённых событий за период с 2019-07-25 по 2019-07-31 равно 796 или 0.33%, количество удалённых пользователей равно 9 или 0.12%.\n",
    "7. Пользователи есть во всех трёх экспериментальных группах и распределены практически одинаково (по 2,5 тысячи)."
   ]
  },
  {
   "cell_type": "markdown",
   "metadata": {},
   "source": [
    "## Изучите воронку событий."
   ]
  },
  {
   "cell_type": "markdown",
   "metadata": {},
   "source": [
    "### Посмотрите, какие события есть в логах, как часто они встречаются. Отсортируйте события по частоте."
   ]
  },
  {
   "cell_type": "code",
   "execution_count": 22,
   "metadata": {},
   "outputs": [
    {
     "data": {
      "text/html": [
       "<style type=\"text/css\">\n",
       "#T_8ac3d caption {\n",
       "  color: black;\n",
       "  text-align: center;\n",
       "  font-size: 22px;\n",
       "}\n",
       "#T_8ac3d_row0_col1 {\n",
       "  background-color: #faebdd;\n",
       "  color: #000000;\n",
       "}\n",
       "#T_8ac3d_row1_col1 {\n",
       "  background-color: #9c1b5b;\n",
       "  color: #f1f1f1;\n",
       "}\n",
       "#T_8ac3d_row2_col1 {\n",
       "  background-color: #8c1d5b;\n",
       "  color: #f1f1f1;\n",
       "}\n",
       "#T_8ac3d_row3_col1 {\n",
       "  background-color: #6d1f56;\n",
       "  color: #f1f1f1;\n",
       "}\n",
       "#T_8ac3d_row4_col1 {\n",
       "  background-color: #03051a;\n",
       "  color: #f1f1f1;\n",
       "}\n",
       "</style>\n",
       "<table id=\"T_8ac3d\">\n",
       "  <caption>Количество событий в логах</caption>\n",
       "  <thead>\n",
       "    <tr>\n",
       "      <th class=\"blank level0\" >&nbsp;</th>\n",
       "      <th id=\"T_8ac3d_level0_col0\" class=\"col_heading level0 col0\" >количество событий</th>\n",
       "      <th id=\"T_8ac3d_level0_col1\" class=\"col_heading level0 col1\" >доля событий</th>\n",
       "    </tr>\n",
       "    <tr>\n",
       "      <th class=\"index_name level0\" >события</th>\n",
       "      <th class=\"blank col0\" >&nbsp;</th>\n",
       "      <th class=\"blank col1\" >&nbsp;</th>\n",
       "    </tr>\n",
       "  </thead>\n",
       "  <tbody>\n",
       "    <tr>\n",
       "      <th id=\"T_8ac3d_level0_row0\" class=\"row_heading level0 row0\" >MainScreenAppear</th>\n",
       "      <td id=\"T_8ac3d_row0_col0\" class=\"data row0 col0\" >118,630</td>\n",
       "      <td id=\"T_8ac3d_row0_col1\" class=\"data row0 col1\" >48.82%</td>\n",
       "    </tr>\n",
       "    <tr>\n",
       "      <th id=\"T_8ac3d_level0_row1\" class=\"row_heading level0 row1\" >OffersScreenAppear</th>\n",
       "      <td id=\"T_8ac3d_row1_col0\" class=\"data row1 col0\" >46,721</td>\n",
       "      <td id=\"T_8ac3d_row1_col1\" class=\"data row1 col1\" >19.23%</td>\n",
       "    </tr>\n",
       "    <tr>\n",
       "      <th id=\"T_8ac3d_level0_row2\" class=\"row_heading level0 row2\" >CartScreenAppear</th>\n",
       "      <td id=\"T_8ac3d_row2_col0\" class=\"data row2 col0\" >42,567</td>\n",
       "      <td id=\"T_8ac3d_row2_col1\" class=\"data row2 col1\" >17.52%</td>\n",
       "    </tr>\n",
       "    <tr>\n",
       "      <th id=\"T_8ac3d_level0_row3\" class=\"row_heading level0 row3\" >PaymentScreenSuccessful</th>\n",
       "      <td id=\"T_8ac3d_row3_col0\" class=\"data row3 col0\" >34,063</td>\n",
       "      <td id=\"T_8ac3d_row3_col1\" class=\"data row3 col1\" >14.02%</td>\n",
       "    </tr>\n",
       "    <tr>\n",
       "      <th id=\"T_8ac3d_level0_row4\" class=\"row_heading level0 row4\" >Tutorial</th>\n",
       "      <td id=\"T_8ac3d_row4_col0\" class=\"data row4 col0\" >1,014</td>\n",
       "      <td id=\"T_8ac3d_row4_col1\" class=\"data row4 col1\" >0.42%</td>\n",
       "    </tr>\n",
       "  </tbody>\n",
       "</table>\n"
      ],
      "text/plain": [
       "<pandas.io.formats.style.Styler at 0x173e04b6dd0>"
      ]
     },
     "execution_count": 22,
     "metadata": {},
     "output_type": "execute_result"
    }
   ],
   "source": [
    "data_event = data_new.groupby('event_name').agg({'device_id_hash': 'count'})\\\n",
    "                     .sort_values(by='device_id_hash', ascending=False)\n",
    "\n",
    "data_event['ratio'] = data_event['device_id_hash']/data_event['device_id_hash'].sum()\n",
    "\n",
    "data_event.columns = ['количество событий', 'доля событий']\n",
    "data_event.index.names = ['события']\n",
    "\n",
    "(data_event\n",
    " .style\n",
    " .format('{0:,.0f}', subset='количество событий')\n",
    " .format('{0:,.2%}', subset='доля событий')\n",
    " .background_gradient(subset='доля событий', cmap='rocket')\n",
    " .set_caption('Количество событий в логах')\n",
    " .set_table_styles([{'selector': 'caption', \n",
    "                    'props': [('color', 'black'), ('text-align','center'), ('font-size', '22px')]\n",
    "                    }])\n",
    ")"
   ]
  },
  {
   "cell_type": "markdown",
   "metadata": {},
   "source": [
    "Как видно из таблицы, чаще всего встречается событие MainScreenAppear, реже всего - Tutorial."
   ]
  },
  {
   "cell_type": "markdown",
   "metadata": {},
   "source": [
    "### Посчитайте, сколько пользователей совершали каждое из этих событий.\n",
    "**Отсортируйте события по числу пользователей. Посчитайте долю пользователей, которые хоть раз совершали событие.**"
   ]
  },
  {
   "cell_type": "code",
   "execution_count": 23,
   "metadata": {},
   "outputs": [
    {
     "data": {
      "text/html": [
       "<style type=\"text/css\">\n",
       "#T_5e346 caption {\n",
       "  color: black;\n",
       "  text-align: center;\n",
       "  font-size: 22px;\n",
       "}\n",
       "#T_5e346_row0_col1 {\n",
       "  background-color: #faebdd;\n",
       "  color: #000000;\n",
       "}\n",
       "#T_5e346_row1_col1 {\n",
       "  background-color: #e13342;\n",
       "  color: #f1f1f1;\n",
       "}\n",
       "#T_5e346_row2_col1 {\n",
       "  background-color: #b21758;\n",
       "  color: #f1f1f1;\n",
       "}\n",
       "#T_5e346_row3_col1 {\n",
       "  background-color: #a4195b;\n",
       "  color: #f1f1f1;\n",
       "}\n",
       "#T_5e346_row4_col1 {\n",
       "  background-color: #03051a;\n",
       "  color: #f1f1f1;\n",
       "}\n",
       "</style>\n",
       "<table id=\"T_5e346\">\n",
       "  <caption>Количество пользователей в разрезе событий</caption>\n",
       "  <thead>\n",
       "    <tr>\n",
       "      <th class=\"blank level0\" >&nbsp;</th>\n",
       "      <th id=\"T_5e346_level0_col0\" class=\"col_heading level0 col0\" >количество пользователей</th>\n",
       "      <th id=\"T_5e346_level0_col1\" class=\"col_heading level0 col1\" >доля пользователей</th>\n",
       "    </tr>\n",
       "    <tr>\n",
       "      <th class=\"index_name level0\" >события</th>\n",
       "      <th class=\"blank col0\" >&nbsp;</th>\n",
       "      <th class=\"blank col1\" >&nbsp;</th>\n",
       "    </tr>\n",
       "  </thead>\n",
       "  <tbody>\n",
       "    <tr>\n",
       "      <th id=\"T_5e346_level0_row0\" class=\"row_heading level0 row0\" >MainScreenAppear</th>\n",
       "      <td id=\"T_5e346_row0_col0\" class=\"data row0 col0\" >7,430</td>\n",
       "      <td id=\"T_5e346_row0_col1\" class=\"data row0 col1\" >98.50%</td>\n",
       "    </tr>\n",
       "    <tr>\n",
       "      <th id=\"T_5e346_level0_row1\" class=\"row_heading level0 row1\" >OffersScreenAppear</th>\n",
       "      <td id=\"T_5e346_row1_col0\" class=\"data row1 col0\" >4,608</td>\n",
       "      <td id=\"T_5e346_row1_col1\" class=\"data row1 col1\" >61.09%</td>\n",
       "    </tr>\n",
       "    <tr>\n",
       "      <th id=\"T_5e346_level0_row2\" class=\"row_heading level0 row2\" >CartScreenAppear</th>\n",
       "      <td id=\"T_5e346_row2_col0\" class=\"data row2 col0\" >3,742</td>\n",
       "      <td id=\"T_5e346_row2_col1\" class=\"data row2 col1\" >49.61%</td>\n",
       "    </tr>\n",
       "    <tr>\n",
       "      <th id=\"T_5e346_level0_row3\" class=\"row_heading level0 row3\" >PaymentScreenSuccessful</th>\n",
       "      <td id=\"T_5e346_row3_col0\" class=\"data row3 col0\" >3,542</td>\n",
       "      <td id=\"T_5e346_row3_col1\" class=\"data row3 col1\" >46.96%</td>\n",
       "    </tr>\n",
       "    <tr>\n",
       "      <th id=\"T_5e346_level0_row4\" class=\"row_heading level0 row4\" >Tutorial</th>\n",
       "      <td id=\"T_5e346_row4_col0\" class=\"data row4 col0\" >845</td>\n",
       "      <td id=\"T_5e346_row4_col1\" class=\"data row4 col1\" >11.20%</td>\n",
       "    </tr>\n",
       "  </tbody>\n",
       "</table>\n"
      ],
      "text/plain": [
       "<pandas.io.formats.style.Styler at 0x173e0560a50>"
      ]
     },
     "execution_count": 23,
     "metadata": {},
     "output_type": "execute_result"
    }
   ],
   "source": [
    "data_users = data_new.groupby('event_name').agg({'device_id_hash': 'nunique'})\\\n",
    "                     .sort_values(by='device_id_hash', ascending=False)\n",
    "\n",
    "user_total = data_new['device_id_hash'].nunique()\n",
    "data_users['ratio'] = data_users['device_id_hash']/user_total\n",
    "\n",
    "data_users.columns = ['количество пользователей', 'доля пользователей']\n",
    "data_users.index.names = ['события']\n",
    "\n",
    "(data_users\n",
    " .style\n",
    " .format('{0:,.0f}', subset='количество пользователей')\n",
    " .format('{0:,.2%}', subset='доля пользователей')\n",
    " .background_gradient(subset='доля пользователей', cmap='rocket')\n",
    " .set_caption('Количество пользователей в разрезе событий')\n",
    " .set_table_styles([{'selector': 'caption', \n",
    "                    'props': [('color', 'black'), ('text-align','center'), ('font-size', '22px')]\n",
    "                    }])\n",
    ")"
   ]
  },
  {
   "cell_type": "markdown",
   "metadata": {},
   "source": [
    "Как видно, самая высокая конверсия у события MainScreenAppear, самая низкая - у Tutorial."
   ]
  },
  {
   "cell_type": "markdown",
   "metadata": {},
   "source": [
    "### Предположите, в каком порядке происходят события.\n",
    "**Все ли они выстраиваются в последовательную цепочку? Их не нужно учитывать при расчёте воронки.**"
   ]
  },
  {
   "cell_type": "markdown",
   "metadata": {},
   "source": [
    "Как следует из полученных расчётов, у нас 5 (пять) событий:\n",
    "1. MainScreenAppear - просмотр главной страницы.\n",
    "2. OffersScreenAppear - просмотр страницы предложений.\n",
    "3. CartScreenAppear - просмотр корзины.\n",
    "4. PaymentScreenSuccessful - переход на страницу оплаты.\n",
    "5. Tutorial - просмотр инструкции.\n",
    "\n",
    "Таким образом, определим, что в воронку входят первые 4 (четыре) пункта, так как просмотр инструкции не явялется целевым действием."
   ]
  },
  {
   "cell_type": "code",
   "execution_count": 24,
   "metadata": {},
   "outputs": [
    {
     "name": "stdout",
     "output_type": "stream",
     "text": [
      "Изначальное количество строк в датасете:  244 126\n",
      "--------------------------------------------------------------------------------\n",
      "Количество удалённых строк всего:  2 145\n",
      "Доля удалённых строк:  0.89%\n",
      "Количество удалённых строк на текущем этапе:  1 014\n",
      "--------------------------------------------------------------------------------\n",
      "Количество строк после удаления:  241 981\n"
     ]
    }
   ],
   "source": [
    "print('Изначальное количество строк в датасете: ', '{0:,}'.format(count_rows_start).replace(',', ' '))\n",
    "count_rows_before = data_new.shape[0]\n",
    "data_result = data_new.query('event_name != \"Tutorial\"')\n",
    "count_rows_after = data_result.shape[0]\n",
    "print('-' * 80)\n",
    "print('Количество удалённых строк всего: ', '{0:,}'.format(count_rows_start - count_rows_after).replace(',', ' '))\n",
    "print('Доля удалённых строк: ', '{0:.2%}'.format((count_rows_start - count_rows_after)/count_rows_after))\n",
    "print('Количество удалённых строк на текущем этапе: ',\\\n",
    "      '{0:,}'.format(count_rows_before - count_rows_after).replace(',', ' '))\n",
    "print('-' * 80)\n",
    "print('Количество строк после удаления: ', '{0:,}'.format(count_rows_after).replace(',', ' '))"
   ]
  },
  {
   "cell_type": "code",
   "execution_count": 25,
   "metadata": {},
   "outputs": [
    {
     "name": "stdout",
     "output_type": "stream",
     "text": [
      "Количество удалённых событий равно 1 014 или 0.42%\n",
      "Количество удалённых пользователей равно 4 или 0.05%\n"
     ]
    }
   ],
   "source": [
    "print('Количество удалённых событий равно', \\\n",
    "      '{0:,}'.format(data_new['event_name'].count() - data_result['event_name'].count()).replace(',', ' '),\\\n",
    "     'или', '{0:.2%}'.format((data_new['event_name'].count() - data_result['event_name'].count())/\\\n",
    "                             data_new['event_name'].count()))\n",
    "print('Количество удалённых пользователей равно',\\\n",
    "      data_new['device_id_hash'].nunique() - data_result['device_id_hash'].nunique(),\\\n",
    "     'или', '{0:.2%}'.format((data_new['device_id_hash'].nunique() - data_result['device_id_hash'].nunique())/\\\n",
    "                             data_new['device_id_hash'].nunique()))"
   ]
  },
  {
   "cell_type": "markdown",
   "metadata": {},
   "source": [
    "Теперь построим таблицу с конверсией на каждом этапе по очищенным данным."
   ]
  },
  {
   "cell_type": "code",
   "execution_count": 26,
   "metadata": {},
   "outputs": [
    {
     "data": {
      "text/html": [
       "<style type=\"text/css\">\n",
       "#T_036d5 caption {\n",
       "  color: black;\n",
       "  text-align: center;\n",
       "  font-size: 22px;\n",
       "}\n",
       "#T_036d5_row0_col1 {\n",
       "  background-color: #faebdd;\n",
       "  color: #000000;\n",
       "}\n",
       "#T_036d5_row1_col1 {\n",
       "  background-color: #6b1f56;\n",
       "  color: #f1f1f1;\n",
       "}\n",
       "#T_036d5_row2_col1 {\n",
       "  background-color: #140e26;\n",
       "  color: #f1f1f1;\n",
       "}\n",
       "#T_036d5_row3_col1 {\n",
       "  background-color: #03051a;\n",
       "  color: #f1f1f1;\n",
       "}\n",
       "</style>\n",
       "<table id=\"T_036d5\">\n",
       "  <caption>Количество пользователей в разрезе событий по очищенным данным</caption>\n",
       "  <thead>\n",
       "    <tr>\n",
       "      <th class=\"blank level0\" >&nbsp;</th>\n",
       "      <th id=\"T_036d5_level0_col0\" class=\"col_heading level0 col0\" >количество пользователей</th>\n",
       "      <th id=\"T_036d5_level0_col1\" class=\"col_heading level0 col1\" >доля пользователей</th>\n",
       "    </tr>\n",
       "    <tr>\n",
       "      <th class=\"index_name level0\" >события</th>\n",
       "      <th class=\"blank col0\" >&nbsp;</th>\n",
       "      <th class=\"blank col1\" >&nbsp;</th>\n",
       "    </tr>\n",
       "  </thead>\n",
       "  <tbody>\n",
       "    <tr>\n",
       "      <th id=\"T_036d5_level0_row0\" class=\"row_heading level0 row0\" >MainScreenAppear</th>\n",
       "      <td id=\"T_036d5_row0_col0\" class=\"data row0 col0\" >7,430</td>\n",
       "      <td id=\"T_036d5_row0_col1\" class=\"data row0 col1\" >98.55%</td>\n",
       "    </tr>\n",
       "    <tr>\n",
       "      <th id=\"T_036d5_level0_row1\" class=\"row_heading level0 row1\" >OffersScreenAppear</th>\n",
       "      <td id=\"T_036d5_row1_col0\" class=\"data row1 col0\" >4,608</td>\n",
       "      <td id=\"T_036d5_row1_col1\" class=\"data row1 col1\" >61.12%</td>\n",
       "    </tr>\n",
       "    <tr>\n",
       "      <th id=\"T_036d5_level0_row2\" class=\"row_heading level0 row2\" >CartScreenAppear</th>\n",
       "      <td id=\"T_036d5_row2_col0\" class=\"data row2 col0\" >3,742</td>\n",
       "      <td id=\"T_036d5_row2_col1\" class=\"data row2 col1\" >49.64%</td>\n",
       "    </tr>\n",
       "    <tr>\n",
       "      <th id=\"T_036d5_level0_row3\" class=\"row_heading level0 row3\" >PaymentScreenSuccessful</th>\n",
       "      <td id=\"T_036d5_row3_col0\" class=\"data row3 col0\" >3,542</td>\n",
       "      <td id=\"T_036d5_row3_col1\" class=\"data row3 col1\" >46.98%</td>\n",
       "    </tr>\n",
       "  </tbody>\n",
       "</table>\n"
      ],
      "text/plain": [
       "<pandas.io.formats.style.Styler at 0x173e2b96410>"
      ]
     },
     "execution_count": 26,
     "metadata": {},
     "output_type": "execute_result"
    }
   ],
   "source": [
    "data_users = data_result.groupby('event_name').agg({'device_id_hash': 'nunique'})\\\n",
    "                     .sort_values(by='device_id_hash', ascending=False)\n",
    "\n",
    "user_total = data_result['device_id_hash'].nunique()\n",
    "data_users['ratio'] = data_users['device_id_hash']/user_total\n",
    "\n",
    "data_users.columns = ['количество пользователей', 'доля пользователей']\n",
    "data_users.index.names = ['события']\n",
    "\n",
    "(data_users\n",
    " .style\n",
    " .format('{0:,.0f}', subset='количество пользователей')\n",
    " .format('{0:,.2%}', subset='доля пользователей')\n",
    " .background_gradient(subset='доля пользователей', cmap='rocket')\n",
    " .set_caption('Количество пользователей в разрезе событий по очищенным данным')\n",
    " .set_table_styles([{'selector': 'caption', \n",
    "                    'props': [('color', 'black'), ('text-align','center'), ('font-size', '22px')]\n",
    "                    }])\n",
    ")"
   ]
  },
  {
   "cell_type": "markdown",
   "metadata": {},
   "source": [
    "### По воронке событий посчитайте, какая доля пользователей проходит на следующий шаг воронки (от числа пользователей на предыдущем).\n",
    "**То есть для последовательности событий A → B → C посчитайте отношение числа пользователей с событием B к количеству пользователей с событием A, а также отношение числа пользователей с событием C к количеству пользователей с событием B.**"
   ]
  },
  {
   "cell_type": "code",
   "execution_count": 27,
   "metadata": {},
   "outputs": [
    {
     "data": {
      "text/html": [
       "<style type=\"text/css\">\n",
       "#T_0be36 caption {\n",
       "  color: black;\n",
       "  text-align: center;\n",
       "  font-size: 22px;\n",
       "}\n",
       "#T_0be36_row0_col1 {\n",
       "  background-color: #000000;\n",
       "  color: #f1f1f1;\n",
       "}\n",
       "#T_0be36_row1_col1 {\n",
       "  background-color: #03051a;\n",
       "  color: #f1f1f1;\n",
       "}\n",
       "#T_0be36_row2_col1 {\n",
       "  background-color: #e53940;\n",
       "  color: #f1f1f1;\n",
       "}\n",
       "#T_0be36_row3_col1 {\n",
       "  background-color: #faebdd;\n",
       "  color: #000000;\n",
       "}\n",
       "</style>\n",
       "<table id=\"T_0be36\">\n",
       "  <caption>Конверсия по очищенным данным</caption>\n",
       "  <thead>\n",
       "    <tr>\n",
       "      <th class=\"blank level0\" >&nbsp;</th>\n",
       "      <th id=\"T_0be36_level0_col0\" class=\"col_heading level0 col0\" >количество пользователей</th>\n",
       "      <th id=\"T_0be36_level0_col1\" class=\"col_heading level0 col1\" >конверсия</th>\n",
       "    </tr>\n",
       "    <tr>\n",
       "      <th class=\"index_name level0\" >события</th>\n",
       "      <th class=\"blank col0\" >&nbsp;</th>\n",
       "      <th class=\"blank col1\" >&nbsp;</th>\n",
       "    </tr>\n",
       "  </thead>\n",
       "  <tbody>\n",
       "    <tr>\n",
       "      <th id=\"T_0be36_level0_row0\" class=\"row_heading level0 row0\" >MainScreenAppear</th>\n",
       "      <td id=\"T_0be36_row0_col0\" class=\"data row0 col0\" >7,430</td>\n",
       "      <td id=\"T_0be36_row0_col1\" class=\"data row0 col1\" >nan%</td>\n",
       "    </tr>\n",
       "    <tr>\n",
       "      <th id=\"T_0be36_level0_row1\" class=\"row_heading level0 row1\" >OffersScreenAppear</th>\n",
       "      <td id=\"T_0be36_row1_col0\" class=\"data row1 col0\" >4,608</td>\n",
       "      <td id=\"T_0be36_row1_col1\" class=\"data row1 col1\" >62.02%</td>\n",
       "    </tr>\n",
       "    <tr>\n",
       "      <th id=\"T_0be36_level0_row2\" class=\"row_heading level0 row2\" >CartScreenAppear</th>\n",
       "      <td id=\"T_0be36_row2_col0\" class=\"data row2 col0\" >3,742</td>\n",
       "      <td id=\"T_0be36_row2_col1\" class=\"data row2 col1\" >81.21%</td>\n",
       "    </tr>\n",
       "    <tr>\n",
       "      <th id=\"T_0be36_level0_row3\" class=\"row_heading level0 row3\" >PaymentScreenSuccessful</th>\n",
       "      <td id=\"T_0be36_row3_col0\" class=\"data row3 col0\" >3,542</td>\n",
       "      <td id=\"T_0be36_row3_col1\" class=\"data row3 col1\" >94.66%</td>\n",
       "    </tr>\n",
       "  </tbody>\n",
       "</table>\n"
      ],
      "text/plain": [
       "<pandas.io.formats.style.Styler at 0x173e045f290>"
      ]
     },
     "execution_count": 27,
     "metadata": {},
     "output_type": "execute_result"
    }
   ],
   "source": [
    "data_conv = data_users.drop('доля пользователей', axis=1)\n",
    "data_conv['конверсия'] = data_conv['количество пользователей']/data_conv['количество пользователей'].shift(1)\n",
    "\n",
    "(data_conv\n",
    " .style\n",
    " .format('{0:,.0f}', subset='количество пользователей')\n",
    " .format('{0:,.2%}', subset='конверсия')\n",
    " .background_gradient(subset='конверсия', cmap='rocket')\n",
    " .set_caption('Конверсия по очищенным данным')\n",
    " .set_table_styles([{'selector': 'caption', \n",
    "                    'props': [('color', 'black'), ('text-align','center'), ('font-size', '22px')]\n",
    "                    }])\n",
    ")"
   ]
  },
  {
   "cell_type": "markdown",
   "metadata": {},
   "source": [
    "Теперь визуализируем воронку продаж."
   ]
  },
  {
   "cell_type": "code",
   "execution_count": 28,
   "metadata": {},
   "outputs": [
    {
     "data": {
      "image/png": "[encoded data removed]",
      "text/plain": [
       "<Figure size 1500x500 with 1 Axes>"
      ]
     },
     "metadata": {},
     "output_type": "display_data"
    }
   ],
   "source": [
    "data_funnel = data_conv.drop('конверсия', axis=1)\n",
    "data_funnel_list = data_funnel['количество пользователей'].tolist()\n",
    "ax = data_funnel.plot(kind='bar', cmap='flare',grid=True, edgecolor='k', legend=None, figsize=(15, 5))\n",
    "\n",
    "data_funnel = data_funnel.reset_index().sort_values(by='количество пользователей', ascending=True)\n",
    "   \n",
    "for x, y in data_funnel[::-1].iterrows():\n",
    "    ax.text(x, y[1]+100, str(y[1]), ha='center')\n",
    "    \n",
    "plt.title('Воронка событий',fontsize = 20)\n",
    "plt.xlabel(' ')\n",
    "plt.ylabel('количество пользователей', fontsize = 15)\n",
    "plt.xticks(rotation=35)\n",
    "plt.show()"
   ]
  },
  {
   "cell_type": "markdown",
   "metadata": {},
   "source": [
    "На графике видно, что самая высокая конверсия из шага 3 (CartScreenAppear - просмотр корзины) в шаг 4 (aymentScreenSuccessful - переход на страницу оплаты), самая низкая из шага 1 (MainScreenAppear - просмотр главной страницы) в шаг 2 (OffersScreenAppear - просмотр страницы предложений)."
   ]
  },
  {
   "cell_type": "markdown",
   "metadata": {},
   "source": [
    "### На каком шаге теряете больше всего пользователей?"
   ]
  },
  {
   "cell_type": "markdown",
   "metadata": {},
   "source": [
    "Как видно из таблицы, самая низкая конверсия из первого шага воронки (MainScreenAppear - просмотр главной страницы) во второй (OffersScreenAppear - просмотр страницы предложений).\n",
    "\n",
    "Вероятно, пользователей, не перешедших на страницу товаров, не заинтересовывает главная страница мобильного приложения:\n",
    "   - такие пользователи, возможно, не относятся к нашей целевой аудитории (если переходы по рекламным каналам, необходимо проводить анализ, чтобы не терять деньги);\n",
    "   - или проблемы с главной страницей приложения (неудобный поиск по товарам, страница не побуждает совершить покупку или, хотя бы, посмотреть ассортимент товаров)."
   ]
  },
  {
   "cell_type": "markdown",
   "metadata": {},
   "source": [
    "### Какая доля пользователей доходит от первого события до оплаты?"
   ]
  },
  {
   "cell_type": "code",
   "execution_count": 30,
   "metadata": {},
   "outputs": [
    {
     "name": "stdout",
     "output_type": "stream",
     "text": [
      "От первого события до оплаты доходят 47.67% пользователей\n"
     ]
    }
   ],
   "source": [
    "ratio = data_conv.iloc[3,0]/data_conv.iloc[0,0]\n",
    "print('От первого события до оплаты доходят', '{0:,.2%}'.format(ratio), 'пользователей')"
   ]
  },
  {
   "cell_type": "markdown",
   "metadata": {},
   "source": [
    "### Вывод по пункту 4\n",
    "1. Чаще всего встречается событие MainScreenAppear, реже всего - Tutorial.\n",
    "\n",
    "2. Самая высокая конверсия у события MainScreenAppear, самая низкая - у Tutorial.\n",
    "\n",
    "3. В воронку входят первые 4 (четыре) пункта, так как просмотр инструкции не явялется целевым действием.\n",
    "\n",
    "4. Самая высокая конверсия из шага 3 (CartScreenAppear - просмотр корзины) в шаг 4 (aymentScreenSuccessful - переход на страницу оплаты), самая низкая из шага 1 (MainScreenAppear - просмотр главной страницы) в шаг 2 (OffersScreenAppear - просмотр страницы предложений).\n",
    "\n",
    "5. Самая низкая конверсия из первого шага воронки (MainScreenAppear - просмотр главной страницы) во второй (OffersScreenAppear - просмотр страницы предложений).\n",
    "Вероятно, пользователей, не перешедших на страницу товаров, не заинтересовывает главная страница мобильного приложения:\n",
    "- такие пользователи, возможно, не относятся к нашей целевой аудитории (если переходы по рекламным каналам, необходимо проводить анализ, чтобы не терять деньги);\n",
    "- или проблемы с главной страницей приложения (неудобный поиск по товарам, страница не побуждает совершить покупку или, хотя бы, посмотреть ассортимент товаров).\n",
    "\n",
    "6. От первого события до оплаты доходят 47.68% пользователей."
   ]
  },
  {
   "cell_type": "markdown",
   "metadata": {},
   "source": [
    "## Изучите результаты эксперимента."
   ]
  },
  {
   "cell_type": "markdown",
   "metadata": {},
   "source": [
    "### Сколько пользователей в каждой экспериментальной группе?"
   ]
  },
  {
   "cell_type": "code",
   "execution_count": 31,
   "metadata": {},
   "outputs": [
    {
     "data": {
      "text/html": [
       "<style type=\"text/css\">\n",
       "#T_40023 caption {\n",
       "  color: black;\n",
       "  text-align: center;\n",
       "  font-size: 18px;\n",
       "}\n",
       "#T_40023_row0_col1 {\n",
       "  background-color: #03051a;\n",
       "  color: #f1f1f1;\n",
       "}\n",
       "#T_40023_row1_col1 {\n",
       "  background-color: #e43841;\n",
       "  color: #f1f1f1;\n",
       "}\n",
       "#T_40023_row2_col1 {\n",
       "  background-color: #faebdd;\n",
       "  color: #000000;\n",
       "}\n",
       "</style>\n",
       "<table id=\"T_40023\">\n",
       "  <caption>Количество пользователей в разрезе экспериментальных групп</caption>\n",
       "  <thead>\n",
       "    <tr>\n",
       "      <th class=\"blank level0\" >&nbsp;</th>\n",
       "      <th id=\"T_40023_level0_col0\" class=\"col_heading level0 col0\" >количество пользователей</th>\n",
       "      <th id=\"T_40023_level0_col1\" class=\"col_heading level0 col1\" >доля группы</th>\n",
       "    </tr>\n",
       "    <tr>\n",
       "      <th class=\"index_name level0\" >группа эксперимента</th>\n",
       "      <th class=\"blank col0\" >&nbsp;</th>\n",
       "      <th class=\"blank col1\" >&nbsp;</th>\n",
       "    </tr>\n",
       "  </thead>\n",
       "  <tbody>\n",
       "    <tr>\n",
       "      <th id=\"T_40023_level0_row0\" class=\"row_heading level0 row0\" >A1</th>\n",
       "      <td id=\"T_40023_row0_col0\" class=\"data row0 col0\" >2,485</td>\n",
       "      <td id=\"T_40023_row0_col1\" class=\"data row0 col1\" >32.96%</td>\n",
       "    </tr>\n",
       "    <tr>\n",
       "      <th id=\"T_40023_level0_row1\" class=\"row_heading level0 row1\" >A2</th>\n",
       "      <td id=\"T_40023_row1_col0\" class=\"data row1 col0\" >2,516</td>\n",
       "      <td id=\"T_40023_row1_col1\" class=\"data row1 col1\" >33.37%</td>\n",
       "    </tr>\n",
       "    <tr>\n",
       "      <th id=\"T_40023_level0_row2\" class=\"row_heading level0 row2\" >B</th>\n",
       "      <td id=\"T_40023_row2_col0\" class=\"data row2 col0\" >2,538</td>\n",
       "      <td id=\"T_40023_row2_col1\" class=\"data row2 col1\" >33.66%</td>\n",
       "    </tr>\n",
       "  </tbody>\n",
       "</table>\n"
      ],
      "text/plain": [
       "<pandas.io.formats.style.Styler at 0x173e82dee50>"
      ]
     },
     "execution_count": 31,
     "metadata": {},
     "output_type": "execute_result"
    }
   ],
   "source": [
    "data_result_general = data_result.groupby('exp_id').agg({'device_id_hash': 'nunique'})\n",
    "user_total = data_result_general['device_id_hash'].sum()\n",
    "data_result_general['ratio'] = data_result_general['device_id_hash']/user_total\n",
    "\n",
    "data_result_general.columns = ['количество пользователей', 'доля группы']\n",
    "data_result_general.index.names = ['группа эксперимента']\n",
    "(data_result_general\n",
    " .style\n",
    " .format('{0:,.0f}', subset='количество пользователей')\n",
    " .format('{0:,.2%}', subset='доля группы')\n",
    " .background_gradient(subset='доля группы', cmap='rocket')\n",
    " .set_caption('Количество пользователей в разрезе экспериментальных групп')\n",
    " .set_table_styles([{'selector': 'caption', \n",
    "                    'props': [('color', 'black'), ('text-align','center'), ('font-size', '18px')]\n",
    "                    }])\n",
    ")"
   ]
  },
  {
   "cell_type": "markdown",
   "metadata": {},
   "source": [
    "Таким образом, количество пользователей во всех трёх группах примерно одинаковое: около 33%. Также проверим есть ли пользователи, которые состоят более чем в одной группе."
   ]
  },
  {
   "cell_type": "code",
   "execution_count": 30,
   "metadata": {},
   "outputs": [
    {
     "name": "stdout",
     "output_type": "stream",
     "text": [
      "Количество пользователей, состоящих более чем в одной группе равно 0\n"
     ]
    }
   ],
   "source": [
    "count_clients = data_result.groupby('device_id_hash').agg({'exp_id': 'nunique'}).query('exp_id > 1').reset_index()\n",
    "print('Количество пользователей, состоящих более чем в одной группе равно',\\\n",
    "     count_clients['device_id_hash'].count())"
   ]
  },
  {
   "cell_type": "markdown",
   "metadata": {},
   "source": [
    "### Проверьте, находят ли статистические критерии разницу между выборками 246 и 247.\n",
    "**Есть 2 контрольные группы для А/А-эксперимента, чтобы проверить корректность всех механизмов и расчётов.**"
   ]
  },
  {
   "cell_type": "markdown",
   "metadata": {},
   "source": [
    "Необходимо проверить соблюдение критериев успешного A/A-теста: \n",
    "1. Количество пользователей в различных группах различается не более, чем на 1%.\n",
    "2. Для всех групп фиксируют и отправляют в системы аналитики данные об одном и том же.\n",
    "3. Различие ключевых метрик по группам не превышает 1% и не имеет статистической значимости.\n",
    "4. Попавший в одну из групп посетитель остаётся в этой группе до конца теста."
   ]
  },
  {
   "cell_type": "markdown",
   "metadata": {},
   "source": [
    "В предыдущем пункте 5.1 уже проверили количество пользователей в экспериментальных группах:\n",
    "- количество пользователей в контрольных группах (A1 и A2) различаются на 1,3% (относительная разница) и на 0,43 процентных пункта (абсолютная разница).\n",
    "\n",
    "Также определили, что отсутствуют пользователи, состоящие более чем в одной группе.\n",
    "\n",
    "Теперь необходимо проверить третий критерий успешного A/A-теста:\n",
    "- различие ключевых метрик по группам не превышает 1% и не имеет статистической значимости.\n",
    "\n",
    "Для этого будем проводить проверку гипотезы о равенстве долей по каждому из 4 (четырёх) событий. Для этого сначала сформируем:\n",
    "- таблицу с данными по всем экспериментальным группам в разрезе событий;\n",
    "- таблицу с данными об общем количестве уникальных пользователей в разрезе групп (будем обращаться к ним и в дельнейшем)\n",
    "\n",
    "и напишем общую функцию для расчёта p_value."
   ]
  },
  {
   "cell_type": "code",
   "execution_count": 32,
   "metadata": {},
   "outputs": [],
   "source": [
    "# подготовим данные по всем трём экспериментальным группам\n",
    "data_A1 = data_result.loc[data_result['exp_id'] == 'A1']\n",
    "data_A2 = data_result.loc[data_result['exp_id'] == 'A2']\n",
    "data_B = data_result.loc[data_result['exp_id'] == 'B']\n",
    "\n",
    "result_first_step_A1 = data_A1.groupby('event_name').agg({'device_id_hash': 'nunique'})\\\n",
    ".sort_values(by='device_id_hash', ascending=False)\n",
    "result_first_step_A2 = data_A2.groupby('event_name').agg({'device_id_hash': 'nunique'})\\\n",
    ".sort_values(by='device_id_hash', ascending=False)\n",
    "result_first_step_B = data_B.groupby('event_name').agg({'device_id_hash': 'nunique'})\\\n",
    ".sort_values(by='device_id_hash', ascending=False)\n",
    "\n",
    "result_first_step_A = result_first_step_A1\\\n",
    ".merge(result_first_step_A2, left_on='event_name', right_on='event_name', how='inner')\n",
    "result_steps = result_first_step_A\\\n",
    ".merge(result_first_step_B, left_on='event_name', right_on='event_name', how='inner')\n",
    "\n",
    "result_steps.index.names = ['событие']\n",
    "result_steps.columns = ['A1', 'A2', 'B']\n",
    "result_steps['A1 + A2'] = result_steps['A1']+result_steps['A2']\n",
    "result_steps['всего клиентов'] = result_steps['A1']+result_steps['A2']+result_steps['B']\n",
    "result_steps['доля A1'] = result_steps['A1'] / result_steps['всего клиентов']\n",
    "result_steps['доля A2'] = result_steps['A2'] / result_steps['всего клиентов']\n",
    "result_steps['доля B'] = result_steps['B'] / result_steps['всего клиентов']\n",
    "result_steps['доля A1 + A2'] = result_steps['A1 + A2'] / result_steps['всего клиентов']"
   ]
  },
  {
   "cell_type": "code",
   "execution_count": 33,
   "metadata": {},
   "outputs": [],
   "source": [
    "result_steps_total = data_result.groupby('exp_id')['device_id_hash'].nunique().reset_index()\n",
    "number = result_steps_total.loc[(result_steps_total['exp_id'] == 'A1')|(result_steps_total['exp_id'] == 'A2')]\\\n",
    "['device_id_hash'].sum()\n",
    "result_steps_total.loc[3] = ['A1 + A2', number]"
   ]
  },
  {
   "cell_type": "markdown",
   "metadata": {},
   "source": [
    "Выведем данные только по группам в A/A-тесте."
   ]
  },
  {
   "cell_type": "code",
   "execution_count": 34,
   "metadata": {},
   "outputs": [
    {
     "data": {
      "text/html": [
       "<style type=\"text/css\">\n",
       "#T_30aad caption {\n",
       "  color: black;\n",
       "  text-align: center;\n",
       "  font-size: 18px;\n",
       "}\n",
       "</style>\n",
       "<table id=\"T_30aad\">\n",
       "  <caption>Количество пользователей A/A-теста</caption>\n",
       "  <thead>\n",
       "    <tr>\n",
       "      <th class=\"blank level0\" >&nbsp;</th>\n",
       "      <th id=\"T_30aad_level0_col0\" class=\"col_heading level0 col0\" >A1</th>\n",
       "      <th id=\"T_30aad_level0_col1\" class=\"col_heading level0 col1\" >A2</th>\n",
       "      <th id=\"T_30aad_level0_col2\" class=\"col_heading level0 col2\" >всего клиентов</th>\n",
       "      <th id=\"T_30aad_level0_col3\" class=\"col_heading level0 col3\" >доля A1</th>\n",
       "      <th id=\"T_30aad_level0_col4\" class=\"col_heading level0 col4\" >доля A2</th>\n",
       "    </tr>\n",
       "    <tr>\n",
       "      <th class=\"index_name level0\" >событие</th>\n",
       "      <th class=\"blank col0\" >&nbsp;</th>\n",
       "      <th class=\"blank col1\" >&nbsp;</th>\n",
       "      <th class=\"blank col2\" >&nbsp;</th>\n",
       "      <th class=\"blank col3\" >&nbsp;</th>\n",
       "      <th class=\"blank col4\" >&nbsp;</th>\n",
       "    </tr>\n",
       "  </thead>\n",
       "  <tbody>\n",
       "    <tr>\n",
       "      <th id=\"T_30aad_level0_row0\" class=\"row_heading level0 row0\" >MainScreenAppear</th>\n",
       "      <td id=\"T_30aad_row0_col0\" class=\"data row0 col0\" >2,453</td>\n",
       "      <td id=\"T_30aad_row0_col1\" class=\"data row0 col1\" >2,479</td>\n",
       "      <td id=\"T_30aad_row0_col2\" class=\"data row0 col2\" >7,430</td>\n",
       "      <td id=\"T_30aad_row0_col3\" class=\"data row0 col3\" >33.01%</td>\n",
       "      <td id=\"T_30aad_row0_col4\" class=\"data row0 col4\" >33.36%</td>\n",
       "    </tr>\n",
       "    <tr>\n",
       "      <th id=\"T_30aad_level0_row1\" class=\"row_heading level0 row1\" >OffersScreenAppear</th>\n",
       "      <td id=\"T_30aad_row1_col0\" class=\"data row1 col0\" >1,545</td>\n",
       "      <td id=\"T_30aad_row1_col1\" class=\"data row1 col1\" >1,527</td>\n",
       "      <td id=\"T_30aad_row1_col2\" class=\"data row1 col2\" >4,608</td>\n",
       "      <td id=\"T_30aad_row1_col3\" class=\"data row1 col3\" >33.53%</td>\n",
       "      <td id=\"T_30aad_row1_col4\" class=\"data row1 col4\" >33.14%</td>\n",
       "    </tr>\n",
       "    <tr>\n",
       "      <th id=\"T_30aad_level0_row2\" class=\"row_heading level0 row2\" >CartScreenAppear</th>\n",
       "      <td id=\"T_30aad_row2_col0\" class=\"data row2 col0\" >1,267</td>\n",
       "      <td id=\"T_30aad_row2_col1\" class=\"data row2 col1\" >1,239</td>\n",
       "      <td id=\"T_30aad_row2_col2\" class=\"data row2 col2\" >3,742</td>\n",
       "      <td id=\"T_30aad_row2_col3\" class=\"data row2 col3\" >33.86%</td>\n",
       "      <td id=\"T_30aad_row2_col4\" class=\"data row2 col4\" >33.11%</td>\n",
       "    </tr>\n",
       "    <tr>\n",
       "      <th id=\"T_30aad_level0_row3\" class=\"row_heading level0 row3\" >PaymentScreenSuccessful</th>\n",
       "      <td id=\"T_30aad_row3_col0\" class=\"data row3 col0\" >1,200</td>\n",
       "      <td id=\"T_30aad_row3_col1\" class=\"data row3 col1\" >1,159</td>\n",
       "      <td id=\"T_30aad_row3_col2\" class=\"data row3 col2\" >3,542</td>\n",
       "      <td id=\"T_30aad_row3_col3\" class=\"data row3 col3\" >33.88%</td>\n",
       "      <td id=\"T_30aad_row3_col4\" class=\"data row3 col4\" >32.72%</td>\n",
       "    </tr>\n",
       "  </tbody>\n",
       "</table>\n"
      ],
      "text/plain": [
       "<pandas.io.formats.style.Styler at 0x173e2b8dc10>"
      ]
     },
     "execution_count": 34,
     "metadata": {},
     "output_type": "execute_result"
    }
   ],
   "source": [
    "result_steps_control = result_steps[['A1', 'A2', 'всего клиентов', 'доля A1', 'доля A2']]\n",
    "(result_steps_control\n",
    " .style\n",
    " .format('{0:,.0f}', subset=['A1', 'A2', 'всего клиентов'])\n",
    " .format('{0:,.2%}', subset=['доля A1', 'доля A2'])\n",
    " .set_caption('Количество пользователей A/A-теста')\n",
    " .set_table_styles([{'selector': 'caption', \n",
    "                    'props': [('color', 'black'), ('text-align','center'), ('font-size', '18px')]\n",
    "                    }])\n",
    ")"
   ]
  },
  {
   "cell_type": "markdown",
   "metadata": {},
   "source": [
    "Напишем функцию для проверки гипотезы о равенстве долей."
   ]
  },
  {
   "cell_type": "code",
   "execution_count": 35,
   "metadata": {},
   "outputs": [],
   "source": [
    "def hypo_result_function(number_alpha, successes_group1, successes_group2, number_total_1, number_total_2, name_of_event):\n",
    "    \"\"\"Функция для проверки гипотезы о равенстве долей.\"\"\"\n",
    "    alpha = number_alpha # критический уровень статистической значимости\n",
    "\n",
    "    successes = np.array([result_steps.loc[name_of_event, successes_group1], \\\n",
    "                          result_steps.loc[name_of_event, successes_group2]])\n",
    "    trials = np.array([number_total_1, number_total_2])\n",
    "\n",
    "    # пропорция успехов в первой группе:\n",
    "    p1 = successes[0]/trials[0]\n",
    "\n",
    "    # пропорция успехов во второй группе:\n",
    "    p2 = successes[1]/trials[1]\n",
    "\n",
    "    # пропорция успехов в комбинированном датасете:\n",
    "    p_combined = (successes[0] + successes[1]) / (trials[0] + trials[1])\n",
    "\n",
    "    # разница пропорций в датасетах\n",
    "    difference = p1 - p2 \n",
    "\n",
    "    # считаем статистику в ст.отклонениях стандартного нормального распределения\n",
    "    z_value = difference / mth.sqrt(p_combined * (1 - p_combined) * (1/trials[0] + 1/trials[1]))\n",
    "\n",
    "    # задаем стандартное нормальное распределение (среднее 0, ст.отклонение 1)\n",
    "    distr = stats.norm(0, 1)  \n",
    "\n",
    "    p_value = (1 - distr.cdf(abs(z_value))) * 2\n",
    "    \n",
    "    print('Событие (этап воронки продаж):', name_of_event)\n",
    "    print('p_value равно ', float(p_value))\n",
    "\n",
    "    if p_value < alpha:\n",
    "        print('Отвергаем нулевую гипотезу: между долями групп', successes_group1,\\\n",
    "              'и', successes_group2, 'есть значимая разница.')\n",
    "    else:\n",
    "        print('Не получилось отвергнуть нулевую гипотезу, нет оснований считать доли групп', successes_group1, 'и',\\\n",
    "              successes_group2, 'разными.')\n",
    "    print('-'*80)"
   ]
  },
  {
   "cell_type": "code",
   "execution_count": 36,
   "metadata": {},
   "outputs": [
    {
     "data": {
      "text/html": [
       "<div>\n",
       "<style scoped>\n",
       "    .dataframe tbody tr th:only-of-type {\n",
       "        vertical-align: middle;\n",
       "    }\n",
       "\n",
       "    .dataframe tbody tr th {\n",
       "        vertical-align: top;\n",
       "    }\n",
       "\n",
       "    .dataframe thead th {\n",
       "        text-align: right;\n",
       "    }\n",
       "</style>\n",
       "<table border=\"1\" class=\"dataframe\">\n",
       "  <thead>\n",
       "    <tr style=\"text-align: right;\">\n",
       "      <th></th>\n",
       "      <th>exp_id</th>\n",
       "      <th>device_id_hash</th>\n",
       "    </tr>\n",
       "  </thead>\n",
       "  <tbody>\n",
       "    <tr>\n",
       "      <th>0</th>\n",
       "      <td>A1</td>\n",
       "      <td>2485</td>\n",
       "    </tr>\n",
       "    <tr>\n",
       "      <th>1</th>\n",
       "      <td>A2</td>\n",
       "      <td>2516</td>\n",
       "    </tr>\n",
       "    <tr>\n",
       "      <th>2</th>\n",
       "      <td>B</td>\n",
       "      <td>2538</td>\n",
       "    </tr>\n",
       "    <tr>\n",
       "      <th>3</th>\n",
       "      <td>A1 + A2</td>\n",
       "      <td>5001</td>\n",
       "    </tr>\n",
       "  </tbody>\n",
       "</table>\n",
       "</div>"
      ],
      "text/plain": [
       "    exp_id  device_id_hash\n",
       "0       A1            2485\n",
       "1       A2            2516\n",
       "2        B            2538\n",
       "3  A1 + A2            5001"
      ]
     },
     "execution_count": 36,
     "metadata": {},
     "output_type": "execute_result"
    }
   ],
   "source": [
    "result_steps_total"
   ]
  },
  {
   "cell_type": "code",
   "execution_count": 37,
   "metadata": {},
   "outputs": [
    {
     "name": "stdout",
     "output_type": "stream",
     "text": [
      "Событие (этап воронки продаж): MainScreenAppear\n",
      "p_value равно  0.5793830190357201\n",
      "Не получилось отвергнуть нулевую гипотезу, нет оснований считать доли групп A1 и A2 разными.\n",
      "--------------------------------------------------------------------------------\n",
      "\n",
      "Событие (этап воронки продаж): OffersScreenAppear\n",
      "p_value равно  0.2818728044312424\n",
      "Не получилось отвергнуть нулевую гипотезу, нет оснований считать доли групп A1 и A2 разными.\n",
      "--------------------------------------------------------------------------------\n",
      "\n",
      "Событие (этап воронки продаж): CartScreenAppear\n",
      "p_value равно  0.21823550095390543\n",
      "Не получилось отвергнуть нулевую гипотезу, нет оснований считать доли групп A1 и A2 разными.\n",
      "--------------------------------------------------------------------------------\n",
      "\n",
      "Событие (этап воронки продаж): PaymentScreenSuccessful\n",
      "p_value равно  0.11510642249769809\n",
      "Не получилось отвергнуть нулевую гипотезу, нет оснований считать доли групп A1 и A2 разными.\n",
      "--------------------------------------------------------------------------------\n",
      "\n"
     ]
    }
   ],
   "source": [
    "result_steps_1 = result_steps[['A1', 'A2']]\n",
    "number_total_1 = result_steps_total.iloc[0,1]\n",
    "number_total_2 = result_steps_total.iloc[1,1]\n",
    "for name_of_event in result_steps_1.index:\n",
    "    alpha = 0.05\n",
    "    hypo_result_function(alpha, 'A1', 'A2', number_total_1, number_total_2, name_of_event)\n",
    "    print()"
   ]
  },
  {
   "cell_type": "markdown",
   "metadata": {},
   "source": [
    "Таким образом, статистически значимой разницы между группам A1 (246) и A2 (247) в разрезе событий нет.\n",
    "\n",
    "Следовательно, можно сделать вывод об успешности A/A теста."
   ]
  },
  {
   "cell_type": "markdown",
   "metadata": {},
   "source": [
    "### Выберите самое популярное событие.\n",
    "**1. Посчитайте число пользователей, совершивших это событие в каждой из контрольных групп.**\n",
    "\n",
    "**2. Посчитайте долю пользователей, совершивших это событие. Проверьте, будет ли отличие между группами статистически \n",
    "достоверным.**\n",
    "\n",
    "**3. Проделайте то же самое для всех других событий (удобно обернуть проверку в отдельную функцию).**\n",
    "\n",
    "**4. Можно ли сказать, что разбиение на группы работает корректно?**"
   ]
  },
  {
   "cell_type": "markdown",
   "metadata": {},
   "source": [
    "Исходя из ранее проведённого анализа, самое популярное событие - MainScreenAppear (просмотр главной страницы). Сформируем таблицу для контрольных групп (A1, A2)."
   ]
  },
  {
   "cell_type": "code",
   "execution_count": 38,
   "metadata": {},
   "outputs": [
    {
     "data": {
      "text/html": [
       "<style type=\"text/css\">\n",
       "#T_a5473 caption {\n",
       "  color: black;\n",
       "  text-align: center;\n",
       "  font-size: 18px;\n",
       "}\n",
       "</style>\n",
       "<table id=\"T_a5473\">\n",
       "  <caption>Количество пользователей A/A теста на самом популярном событии</caption>\n",
       "  <thead>\n",
       "    <tr>\n",
       "      <th class=\"blank level0\" >&nbsp;</th>\n",
       "      <th id=\"T_a5473_level0_col0\" class=\"col_heading level0 col0\" >A1</th>\n",
       "      <th id=\"T_a5473_level0_col1\" class=\"col_heading level0 col1\" >A2</th>\n",
       "      <th id=\"T_a5473_level0_col2\" class=\"col_heading level0 col2\" >доля A1</th>\n",
       "      <th id=\"T_a5473_level0_col3\" class=\"col_heading level0 col3\" >доля A2</th>\n",
       "    </tr>\n",
       "    <tr>\n",
       "      <th class=\"index_name level0\" >событие</th>\n",
       "      <th class=\"blank col0\" >&nbsp;</th>\n",
       "      <th class=\"blank col1\" >&nbsp;</th>\n",
       "      <th class=\"blank col2\" >&nbsp;</th>\n",
       "      <th class=\"blank col3\" >&nbsp;</th>\n",
       "    </tr>\n",
       "  </thead>\n",
       "  <tbody>\n",
       "    <tr>\n",
       "      <th id=\"T_a5473_level0_row0\" class=\"row_heading level0 row0\" >MainScreenAppear</th>\n",
       "      <td id=\"T_a5473_row0_col0\" class=\"data row0 col0\" >2,453</td>\n",
       "      <td id=\"T_a5473_row0_col1\" class=\"data row0 col1\" >2,479</td>\n",
       "      <td id=\"T_a5473_row0_col2\" class=\"data row0 col2\" >33.01%</td>\n",
       "      <td id=\"T_a5473_row0_col3\" class=\"data row0 col3\" >33.36%</td>\n",
       "    </tr>\n",
       "  </tbody>\n",
       "</table>\n"
      ],
      "text/plain": [
       "<pandas.io.formats.style.Styler at 0x173e500dc10>"
      ]
     },
     "execution_count": 38,
     "metadata": {},
     "output_type": "execute_result"
    }
   ],
   "source": [
    "result_steps_2 = result_steps.loc[result_steps.index == 'MainScreenAppear'][['A1', 'A2', 'доля A1', 'доля A2']]\n",
    "(result_steps_2\n",
    " .style\n",
    " .format('{0:,.0f}', subset=['A1', 'A2'])\n",
    " .format('{0:,.2%}', subset=['доля A1', 'доля A2'])\n",
    " .set_caption('Количество пользователей A/A теста на самом популярном событии')\n",
    " .set_table_styles([{'selector': 'caption', \n",
    "                    'props': [('color', 'black'), ('text-align','center'), ('font-size', '18px')]\n",
    "                    }])\n",
    ")"
   ]
  },
  {
   "cell_type": "markdown",
   "metadata": {},
   "source": [
    "В каждой группе самое популярное событие (MainScreenAppear (просмотр главной страницы)) совершили почти 2,5 тысячи человек. Как видно из таблицы, что пользователи практически одинаково распределены по группам (около 33-34%).\n",
    "\n",
    "Ещё раз выведем результаты расчёта статистической значимости разности долей."
   ]
  },
  {
   "cell_type": "code",
   "execution_count": 39,
   "metadata": {},
   "outputs": [
    {
     "name": "stdout",
     "output_type": "stream",
     "text": [
      "Событие (этап воронки продаж): MainScreenAppear\n",
      "p_value равно  0.5793830190357201\n",
      "Не получилось отвергнуть нулевую гипотезу, нет оснований считать доли групп A1 и A2 разными.\n",
      "--------------------------------------------------------------------------------\n"
     ]
    }
   ],
   "source": [
    "number_total_1 = result_steps_total.iloc[0,1]\n",
    "number_total_2 = result_steps_total.iloc[1,1]\n",
    "\n",
    "hypo_result_function(0.05, 'A1', 'A2', number_total_1, number_total_2, 'MainScreenAppear')"
   ]
  },
  {
   "cell_type": "markdown",
   "metadata": {},
   "source": [
    "Ещё раз выведем результаты расчёта статистической значимости разности долей между контрольными группами по другим событиям."
   ]
  },
  {
   "cell_type": "code",
   "execution_count": 40,
   "metadata": {},
   "outputs": [
    {
     "name": "stdout",
     "output_type": "stream",
     "text": [
      "Событие (этап воронки продаж): OffersScreenAppear\n",
      "p_value равно  0.2818728044312424\n",
      "Не получилось отвергнуть нулевую гипотезу, нет оснований считать доли групп A1 и A2 разными.\n",
      "--------------------------------------------------------------------------------\n",
      "\n",
      "Событие (этап воронки продаж): CartScreenAppear\n",
      "p_value равно  0.21823550095390543\n",
      "Не получилось отвергнуть нулевую гипотезу, нет оснований считать доли групп A1 и A2 разными.\n",
      "--------------------------------------------------------------------------------\n",
      "\n",
      "Событие (этап воронки продаж): PaymentScreenSuccessful\n",
      "p_value равно  0.11510642249769809\n",
      "Не получилось отвергнуть нулевую гипотезу, нет оснований считать доли групп A1 и A2 разными.\n",
      "--------------------------------------------------------------------------------\n",
      "\n"
     ]
    }
   ],
   "source": [
    "list_event = ['OffersScreenAppear', 'CartScreenAppear', 'PaymentScreenSuccessful']\n",
    "\n",
    "number_total_1 = result_steps_total.iloc[0,1]\n",
    "number_total_2 = result_steps_total.iloc[1,1]\n",
    "for name_of_event in list_event:\n",
    "    alpha = 0.05\n",
    "    hypo_result_function(alpha, 'A1', 'A2', number_total_1, number_total_2, name_of_event)\n",
    "    print()"
   ]
  },
  {
   "cell_type": "markdown",
   "metadata": {},
   "source": [
    "Таким образом, делаем вывод, что разбиение на группы работает корректно."
   ]
  },
  {
   "cell_type": "markdown",
   "metadata": {},
   "source": [
    "### Аналогично поступите с группой с изменённым шрифтом.\n",
    "**1. Сравните результаты с каждой из контрольных групп в отдельности по каждому событию.**\n",
    "\n",
    "**2. Сравните результаты с объединённой контрольной группой. Какие выводы из эксперимента можно сделать?**"
   ]
  },
  {
   "cell_type": "markdown",
   "metadata": {},
   "source": [
    "Рассчитаем статистическую значимость разности долей между контрольными и тестовой группами. Используем поправку Бонферрони для множественных сравнений (разделим уровень статистической значимости на 16 (столько всего у нас проверок результатов тестирования))."
   ]
  },
  {
   "cell_type": "code",
   "execution_count": 41,
   "metadata": {},
   "outputs": [
    {
     "name": "stdout",
     "output_type": "stream",
     "text": [
      "Событие (этап воронки продаж): MainScreenAppear\n",
      "p_value равно  0.3900609939665136\n",
      "Не получилось отвергнуть нулевую гипотезу, нет оснований считать доли групп A1 и B разными.\n",
      "--------------------------------------------------------------------------------\n",
      "\n",
      "Событие (этап воронки продаж): OffersScreenAppear\n",
      "p_value равно  0.22907005590620733\n",
      "Не получилось отвергнуть нулевую гипотезу, нет оснований считать доли групп A1 и B разными.\n",
      "--------------------------------------------------------------------------------\n",
      "\n",
      "Событие (этап воронки продаж): CartScreenAppear\n",
      "p_value равно  0.10519224200668087\n",
      "Не получилось отвергнуть нулевую гипотезу, нет оснований считать доли групп A1 и B разными.\n",
      "--------------------------------------------------------------------------------\n",
      "\n",
      "Событие (этап воронки продаж): PaymentScreenSuccessful\n",
      "p_value равно  0.23368891375831957\n",
      "Не получилось отвергнуть нулевую гипотезу, нет оснований считать доли групп A1 и B разными.\n",
      "--------------------------------------------------------------------------------\n",
      "\n"
     ]
    }
   ],
   "source": [
    "result_steps_4 = result_steps[['A1', 'B']]\n",
    "\n",
    "number_total_1 = result_steps_total.iloc[0,1]\n",
    "number_total_2 = result_steps_total.iloc[2,1]\n",
    "for name_of_event in result_steps_4.index:\n",
    "    alpha = 0.05/16\n",
    "    hypo_result_function(alpha, 'A1', 'B', number_total_1, number_total_2, name_of_event)\n",
    "    print()"
   ]
  },
  {
   "cell_type": "markdown",
   "metadata": {},
   "source": [
    "Различий между контрольной A1 и тестовой B группами не найдено. Стоит отметить, что даже без учёта поправки Бонферрони для множественных сравнений, уровень p_value значительно выше обычного уровня статистической значимости в 5%.\n",
    "\n",
    "Теперь перейдём к сравнению A2 и B групп."
   ]
  },
  {
   "cell_type": "code",
   "execution_count": 42,
   "metadata": {},
   "outputs": [
    {
     "name": "stdout",
     "output_type": "stream",
     "text": [
      "Событие (этап воронки продаж): MainScreenAppear\n",
      "p_value равно  0.7595837257920652\n",
      "Не получилось отвергнуть нулевую гипотезу, нет оснований считать доли групп A2 и B разными.\n",
      "--------------------------------------------------------------------------------\n",
      "\n",
      "Событие (этап воронки продаж): OffersScreenAppear\n",
      "p_value равно  0.9007258094194959\n",
      "Не получилось отвергнуть нулевую гипотезу, нет оснований считать доли групп A2 и B разными.\n",
      "--------------------------------------------------------------------------------\n",
      "\n",
      "Событие (этап воронки продаж): CartScreenAppear\n",
      "p_value равно  0.6983295296960459\n",
      "Не получилось отвергнуть нулевую гипотезу, нет оснований считать доли групп A2 и B разными.\n",
      "--------------------------------------------------------------------------------\n",
      "\n",
      "Событие (этап воронки продаж): PaymentScreenSuccessful\n",
      "p_value равно  0.6969580996470051\n",
      "Не получилось отвергнуть нулевую гипотезу, нет оснований считать доли групп A2 и B разными.\n",
      "--------------------------------------------------------------------------------\n",
      "\n"
     ]
    }
   ],
   "source": [
    "result_steps_5 = result_steps[['A2', 'B']]\n",
    "number_total_1 = result_steps_total.iloc[1,1]\n",
    "number_total_2 = result_steps_total.iloc[2,1]\n",
    "for name_of_event in result_steps_4.index:\n",
    "    alpha = 0.05/16\n",
    "    hypo_result_function(alpha, 'A2', 'B', number_total_1, number_total_2, name_of_event)\n",
    "    print()"
   ]
  },
  {
   "cell_type": "markdown",
   "metadata": {},
   "source": [
    "Здесь такая же ситуация, как и при сравнении тестовой группы B с контрольной группой A1. Следовательно, введение новых шрифтов не привело к увеличению конверсии (росту продаж).\n",
    "\n",
    "Теперь сравним результаты с объединённой контрольной группой."
   ]
  },
  {
   "cell_type": "code",
   "execution_count": 43,
   "metadata": {},
   "outputs": [
    {
     "name": "stdout",
     "output_type": "stream",
     "text": [
      "Событие (этап воронки продаж): MainScreenAppear\n",
      "p_value равно  0.4997899191897228\n",
      "Не получилось отвергнуть нулевую гипотезу, нет оснований считать доли групп A1 + A2 и B разными.\n",
      "--------------------------------------------------------------------------------\n",
      "\n",
      "Событие (этап воронки продаж): OffersScreenAppear\n",
      "p_value равно  0.4448907129599069\n",
      "Не получилось отвергнуть нулевую гипотезу, нет оснований считать доли групп A1 + A2 и B разными.\n",
      "--------------------------------------------------------------------------------\n",
      "\n",
      "Событие (этап воронки продаж): CartScreenAppear\n",
      "p_value равно  0.24715186728909577\n",
      "Не получилось отвергнуть нулевую гипотезу, нет оснований считать доли групп A1 + A2 и B разными.\n",
      "--------------------------------------------------------------------------------\n",
      "\n",
      "Событие (этап воронки продаж): PaymentScreenSuccessful\n",
      "p_value равно  0.6457891141255783\n",
      "Не получилось отвергнуть нулевую гипотезу, нет оснований считать доли групп A1 + A2 и B разными.\n",
      "--------------------------------------------------------------------------------\n",
      "\n"
     ]
    }
   ],
   "source": [
    "result_steps_6 = result_steps[['A1 + A2', 'B']]\n",
    "number_total_1 = result_steps_total.iloc[3,1]\n",
    "number_total_2 = result_steps_total.iloc[2,1]\n",
    "for name_of_event in result_steps_4.index:\n",
    "    alpha = 0.05/16\n",
    "    hypo_result_function(alpha, 'A1 + A2', 'B', number_total_1, number_total_2, name_of_event)\n",
    "    print()"
   ]
  },
  {
   "cell_type": "markdown",
   "metadata": {},
   "source": [
    "Значимой разницы нет, так как разницы в долях между трёмя группами (контрольными A1 и A2 и тестовой B) нет, следовательно, и у объединённой контрольной группы разницы в долях с тестовой группой B также нет."
   ]
  },
  {
   "cell_type": "markdown",
   "metadata": {},
   "source": [
    "### Какой уровень значимости вы выбрали при проверке статистических гипотез выше?\n",
    "**1. Посчитайте, сколько проверок статистических гипотез вы сделали.**\n",
    "\n",
    "**2. При уровне значимости 0.1 каждый десятый раз можно получать ложный результат. Какой уровень значимости стоит применить?**\n",
    "\n",
    "**3. Если вы хотите изменить его, проделайте предыдущие пункты и проверьте свои выводы.**"
   ]
  },
  {
   "cell_type": "markdown",
   "metadata": {},
   "source": [
    "Всего проведено 16 проверок статических гипотез. Следовательно, учитывая поправку Бонферрони для множественных сравнений, необходимо разделить уровень статической значимости на 16. То есть, 0.1 поделить на 16 (получаем 0.00625).\n",
    "\n",
    "Так как только проверки статических гипотез по объединённой контрольной и тестовой группам определили наличие значимой разницы, а в других p_value значительно выше уровня статической значимости в 10%, то перепроверим только те проверки, где определено наличие значимой разницы."
   ]
  },
  {
   "cell_type": "code",
   "execution_count": 44,
   "metadata": {},
   "outputs": [
    {
     "name": "stdout",
     "output_type": "stream",
     "text": [
      "Событие (этап воронки продаж): MainScreenAppear\n",
      "p_value равно  0.4997899191897228\n",
      "Не получилось отвергнуть нулевую гипотезу, нет оснований считать доли групп A1 + A2 и B разными.\n",
      "--------------------------------------------------------------------------------\n",
      "\n",
      "Событие (этап воронки продаж): OffersScreenAppear\n",
      "p_value равно  0.4448907129599069\n",
      "Не получилось отвергнуть нулевую гипотезу, нет оснований считать доли групп A1 + A2 и B разными.\n",
      "--------------------------------------------------------------------------------\n",
      "\n",
      "Событие (этап воронки продаж): CartScreenAppear\n",
      "p_value равно  0.24715186728909577\n",
      "Не получилось отвергнуть нулевую гипотезу, нет оснований считать доли групп A1 + A2 и B разными.\n",
      "--------------------------------------------------------------------------------\n",
      "\n",
      "Событие (этап воронки продаж): PaymentScreenSuccessful\n",
      "p_value равно  0.6457891141255783\n",
      "Не получилось отвергнуть нулевую гипотезу, нет оснований считать доли групп A1 + A2 и B разными.\n",
      "--------------------------------------------------------------------------------\n",
      "\n"
     ]
    }
   ],
   "source": [
    "result_steps_6 = result_steps[['A1 + A2', 'B']]\n",
    "number_total_1 = result_steps_total.iloc[3,1]\n",
    "number_total_2 = result_steps_total.iloc[2,1]\n",
    "for name_of_event in result_steps_4.index:\n",
    "    alpha = 0.01/16\n",
    "    hypo_result_function(alpha, 'A1 + A2', 'B', number_total_1, number_total_2, name_of_event)\n",
    "    print()"
   ]
  },
  {
   "cell_type": "markdown",
   "metadata": {},
   "source": [
    "Всё равно, несмотря на применение множественной поправки Бонферрони, разницы в долях нет."
   ]
  },
  {
   "cell_type": "markdown",
   "metadata": {},
   "source": [
    "### Вывод по пункту 5\n",
    "1. Количество пользователей во всех трёх группах примерно одинаковое: около 2,5 тысяч или 33% от общего количества клиентов.\n",
    "\n",
    "2. A/A тест является успешным. *(количество пользователей в контрольных группах примерно равно и различается на 1,3% (относительная разница) и на 0,43 процентных пункта (абсолютная разница), пользователи, состоящие более чем в одной группе, отсутствуют, различие ключевых метрик по группам не превышает 1% и не имеет статистической значимости)*\n",
    "\n",
    "3. Разбиение на группы контрольные группы работает корректно.\n",
    "\n",
    "4. Различий между контрольными A1 и A2 и тестовой B группами не найдено. Стоит отметить, что даже без учёта поправки Бонферрони для множественных сравнений, уровень p_value значительно выше обычного уровня статистической значимости в 5%. Следовательно, введение новых шрифтов не привело к увеличению конверсии (росту продаж).\n",
    "\n",
    "5. При сравнении объединённой контрольной и B групп значимой разницы не установлено, так как разницы в долях между трёмя группами (контрольными A1 и A2 и тестовой B) нет, следовательно, и у объединённой контрольной группы разницы в долях с тестовой группой B также нет.\n",
    "\n",
    "6. Применение множественной поправки Бонферрони не повлияло на предыдущие выводы исследования."
   ]
  },
  {
   "cell_type": "markdown",
   "metadata": {},
   "source": [
    "## Общий вывод."
   ]
  },
  {
   "cell_type": "markdown",
   "metadata": {},
   "source": [
    "1. Перед проведением исследования удалены 0.92% или 2,2 тысячи строк (2 223 строки, из которых: 413 строк - дубликаты, 796 строк - вне выбранного для анализа периода времени, 1 014 строк - не относятся к воронке событий (этап Tutorial - просмотр инструкции). \n",
    "\n",
    "2. Для целей настоящего исследования взят период с 2019-08-01 по 2019-08-07 (до 2019-08-01 у нас неполные данные, которые исказили бы дальнейшие выводы).\n",
    "\n",
    "3. Воронка событий:\n",
    "- в неё входят 4 (четыре) пункта (просмотр инструкции, Tutorial, не является целевым действием);\n",
    "- самая низкая конверсия из первого шага воронки (MainScreenAppear - просмотр главной страницы) во второй (OffersScreenAppear - просмотр страницы предложений). Вероятно, пользователей, не перешедших на страницу товаров, не заинтересовывает главная страница мобильного приложения:\n",
    "    - такие пользователи, возможно, не относятся к нашей целевой аудитории (если переходы по рекламным каналам, необходимо проводить анализ, чтобы не терять деньги);\n",
    "    - или проблемы с главной страницей приложения (неудобный поиск по товарам, страница не побуждает совершить покупку или, хотя бы, посмотреть ассортимент товаров);\n",
    "- от первого события до оплаты доходят 47.68% пользователей.\n",
    "\n",
    "4. Результаты эксперимента A/A/B тестирование:\n",
    "- A/A тест является успешным. *(количество пользователей в контрольных группах примерно равно и различается на 1,3% (относительная разница) и на 0,43 процентных пункта (абсолютная разница), пользователи, состоящие более чем в одной группе, отсутствуют, различие ключевых метрик по группам не превышает 1% и не имеет статистической значимости)*;\n",
    "- различий между контрольными A1 и A2 и тестовой B группами не найдено. Следовательно, введение новых шрифтов не привело к увеличению конверсии (росту продаж);\n",
    "- при сравнении объединённой контрольной и B групп значимой разницы не установлено, так как разницы в долях между трёмя группами (контрольными A1 и A2 и тестовой B) нет, следовательно, и у объединённой контрольной группы разницы в долях с тестовой группой B также нет;\n",
    "- применение множественной поправки Бонферрони не повлияло на предыдущие выводы исследования."
   ]
  }
 ],
 "metadata": {
  "ExecuteTimeLog": [
   {
    "duration": 1304,
    "start_time": "2023-05-22T08:23:20.057Z"
   },
   {
    "duration": 834,
    "start_time": "2023-05-22T08:23:58.278Z"
   },
   {
    "duration": 21,
    "start_time": "2023-05-22T08:28:02.945Z"
   },
   {
    "duration": 8,
    "start_time": "2023-05-22T08:28:34.239Z"
   },
   {
    "duration": 8,
    "start_time": "2023-05-22T08:28:45.639Z"
   },
   {
    "duration": 314,
    "start_time": "2023-05-22T08:29:15.939Z"
   },
   {
    "duration": 10,
    "start_time": "2023-05-22T08:29:16.530Z"
   },
   {
    "duration": 85,
    "start_time": "2023-05-22T08:29:28.698Z"
   },
   {
    "duration": 6,
    "start_time": "2023-05-22T08:29:29.159Z"
   },
   {
    "duration": 175,
    "start_time": "2023-05-22T08:29:40.988Z"
   },
   {
    "duration": 8,
    "start_time": "2023-05-22T08:29:41.856Z"
   },
   {
    "duration": 41,
    "start_time": "2023-05-22T08:33:39.219Z"
   },
   {
    "duration": 24,
    "start_time": "2023-05-22T08:38:02.960Z"
   },
   {
    "duration": 7,
    "start_time": "2023-05-22T08:39:35.980Z"
   },
   {
    "duration": 6,
    "start_time": "2023-05-22T08:44:04.273Z"
   },
   {
    "duration": 13,
    "start_time": "2023-05-22T08:44:12.414Z"
   },
   {
    "duration": 17,
    "start_time": "2023-05-22T08:45:11.754Z"
   },
   {
    "duration": 98,
    "start_time": "2023-05-22T09:27:27.067Z"
   },
   {
    "duration": 8,
    "start_time": "2023-05-22T09:27:34.757Z"
   },
   {
    "duration": 13,
    "start_time": "2023-05-22T09:27:48.298Z"
   },
   {
    "duration": 10,
    "start_time": "2023-05-22T09:29:16.657Z"
   },
   {
    "duration": 12,
    "start_time": "2023-05-22T09:29:24.298Z"
   },
   {
    "duration": 11,
    "start_time": "2023-05-22T09:29:27.768Z"
   },
   {
    "duration": 11,
    "start_time": "2023-05-22T09:33:15.868Z"
   },
   {
    "duration": 1222,
    "start_time": "2023-05-22T09:34:13.245Z"
   },
   {
    "duration": 15815,
    "start_time": "2023-05-22T10:04:22.039Z"
   },
   {
    "duration": 12,
    "start_time": "2023-05-22T10:04:51.557Z"
   },
   {
    "duration": 21,
    "start_time": "2023-05-22T10:05:18.776Z"
   },
   {
    "duration": 22001,
    "start_time": "2023-05-22T10:05:54.341Z"
   },
   {
    "duration": 22,
    "start_time": "2023-05-22T10:07:05.157Z"
   },
   {
    "duration": 9,
    "start_time": "2023-05-22T10:07:11.216Z"
   },
   {
    "duration": 1184,
    "start_time": "2023-05-22T10:38:06.198Z"
   },
   {
    "duration": 186,
    "start_time": "2023-05-22T10:38:07.384Z"
   },
   {
    "duration": 10,
    "start_time": "2023-05-22T10:38:07.572Z"
   },
   {
    "duration": 21,
    "start_time": "2023-05-22T10:38:07.584Z"
   },
   {
    "duration": 40,
    "start_time": "2023-05-22T10:38:07.607Z"
   },
   {
    "duration": 22,
    "start_time": "2023-05-22T10:38:07.648Z"
   },
   {
    "duration": 72,
    "start_time": "2023-05-22T10:38:07.672Z"
   },
   {
    "duration": 0,
    "start_time": "2023-05-22T10:38:07.746Z"
   },
   {
    "duration": 0,
    "start_time": "2023-05-22T10:38:07.747Z"
   },
   {
    "duration": 79,
    "start_time": "2023-05-22T10:38:28.489Z"
   },
   {
    "duration": 21795,
    "start_time": "2023-05-22T10:38:36.762Z"
   },
   {
    "duration": 9,
    "start_time": "2023-05-22T10:39:38.309Z"
   },
   {
    "duration": 9,
    "start_time": "2023-05-22T11:51:14.337Z"
   },
   {
    "duration": 9,
    "start_time": "2023-05-22T11:51:20.483Z"
   },
   {
    "duration": 12,
    "start_time": "2023-05-22T11:52:06.293Z"
   },
   {
    "duration": 8,
    "start_time": "2023-05-22T11:52:08.150Z"
   },
   {
    "duration": 1286,
    "start_time": "2023-05-22T11:52:19.095Z"
   },
   {
    "duration": 187,
    "start_time": "2023-05-22T11:52:20.383Z"
   },
   {
    "duration": 9,
    "start_time": "2023-05-22T11:52:20.572Z"
   },
   {
    "duration": 27,
    "start_time": "2023-05-22T11:52:20.583Z"
   },
   {
    "duration": 22,
    "start_time": "2023-05-22T11:52:20.612Z"
   },
   {
    "duration": 24,
    "start_time": "2023-05-22T11:52:20.636Z"
   },
   {
    "duration": 1489,
    "start_time": "2023-05-22T11:52:20.662Z"
   },
   {
    "duration": 0,
    "start_time": "2023-05-22T11:52:22.153Z"
   },
   {
    "duration": 0,
    "start_time": "2023-05-22T11:52:22.154Z"
   },
   {
    "duration": 56,
    "start_time": "2023-05-22T11:57:57.619Z"
   },
   {
    "duration": 12,
    "start_time": "2023-05-22T11:57:59.914Z"
   },
   {
    "duration": 55,
    "start_time": "2023-05-22T11:59:06.426Z"
   },
   {
    "duration": 9,
    "start_time": "2023-05-22T11:59:07.577Z"
   },
   {
    "duration": 9,
    "start_time": "2023-05-22T12:02:55.075Z"
   },
   {
    "duration": 11,
    "start_time": "2023-05-22T12:05:01.652Z"
   },
   {
    "duration": 49,
    "start_time": "2023-05-22T12:05:39.503Z"
   },
   {
    "duration": 11,
    "start_time": "2023-05-22T12:05:52.875Z"
   },
   {
    "duration": 10,
    "start_time": "2023-05-22T13:26:42.598Z"
   },
   {
    "duration": 47,
    "start_time": "2023-05-22T13:27:06.867Z"
   },
   {
    "duration": 43,
    "start_time": "2023-05-22T13:27:14.838Z"
   },
   {
    "duration": 9,
    "start_time": "2023-05-22T13:27:17.606Z"
   },
   {
    "duration": 1104,
    "start_time": "2023-05-22T13:27:28.168Z"
   },
   {
    "duration": 169,
    "start_time": "2023-05-22T13:27:29.275Z"
   },
   {
    "duration": 10,
    "start_time": "2023-05-22T13:27:29.445Z"
   },
   {
    "duration": 21,
    "start_time": "2023-05-22T13:27:29.456Z"
   },
   {
    "duration": 12,
    "start_time": "2023-05-22T13:27:29.480Z"
   },
   {
    "duration": 39,
    "start_time": "2023-05-22T13:27:29.494Z"
   },
   {
    "duration": 36,
    "start_time": "2023-05-22T13:27:29.535Z"
   },
   {
    "duration": 28,
    "start_time": "2023-05-22T13:27:29.573Z"
   },
   {
    "duration": 37,
    "start_time": "2023-05-22T13:27:29.603Z"
   },
   {
    "duration": 94,
    "start_time": "2023-05-22T13:27:50.958Z"
   },
   {
    "duration": 1128,
    "start_time": "2023-05-22T13:28:13.771Z"
   },
   {
    "duration": 174,
    "start_time": "2023-05-22T13:28:14.901Z"
   },
   {
    "duration": 10,
    "start_time": "2023-05-22T13:28:15.077Z"
   },
   {
    "duration": 44,
    "start_time": "2023-05-22T13:28:15.089Z"
   },
   {
    "duration": 13,
    "start_time": "2023-05-22T13:28:15.136Z"
   },
   {
    "duration": 20,
    "start_time": "2023-05-22T13:28:15.151Z"
   },
   {
    "duration": 66,
    "start_time": "2023-05-22T13:28:15.172Z"
   },
   {
    "duration": 116,
    "start_time": "2023-05-22T13:28:15.240Z"
   },
   {
    "duration": 0,
    "start_time": "2023-05-22T13:28:15.358Z"
   },
   {
    "duration": 0,
    "start_time": "2023-05-22T13:28:15.360Z"
   },
   {
    "duration": 20,
    "start_time": "2023-05-22T13:31:39.389Z"
   },
   {
    "duration": 3,
    "start_time": "2023-05-22T13:31:59.429Z"
   },
   {
    "duration": 1150,
    "start_time": "2023-05-22T13:32:06.435Z"
   },
   {
    "duration": 165,
    "start_time": "2023-05-22T13:32:07.587Z"
   },
   {
    "duration": 11,
    "start_time": "2023-05-22T13:32:07.754Z"
   },
   {
    "duration": 21,
    "start_time": "2023-05-22T13:32:07.766Z"
   },
   {
    "duration": 12,
    "start_time": "2023-05-22T13:32:07.789Z"
   },
   {
    "duration": 35,
    "start_time": "2023-05-22T13:32:07.802Z"
   },
   {
    "duration": 6,
    "start_time": "2023-05-22T13:32:07.839Z"
   },
   {
    "duration": 39,
    "start_time": "2023-05-22T13:32:07.847Z"
   },
   {
    "duration": 1304,
    "start_time": "2023-05-22T13:32:07.888Z"
   },
   {
    "duration": 0,
    "start_time": "2023-05-22T13:32:09.194Z"
   },
   {
    "duration": 0,
    "start_time": "2023-05-22T13:32:09.195Z"
   },
   {
    "duration": 1440,
    "start_time": "2023-05-22T13:44:52.558Z"
   },
   {
    "duration": 11,
    "start_time": "2023-05-22T14:25:13.804Z"
   },
   {
    "duration": 3153,
    "start_time": "2023-05-22T14:30:17.589Z"
   },
   {
    "duration": 197,
    "start_time": "2023-05-22T14:30:37.994Z"
   },
   {
    "duration": 79,
    "start_time": "2023-05-22T14:32:34.958Z"
   },
   {
    "duration": 87,
    "start_time": "2023-05-22T14:32:40.509Z"
   },
   {
    "duration": 916,
    "start_time": "2023-05-22T14:32:48.406Z"
   },
   {
    "duration": 9,
    "start_time": "2023-05-22T14:56:52.292Z"
   },
   {
    "duration": 9,
    "start_time": "2023-05-22T14:56:56.684Z"
   },
   {
    "duration": 13,
    "start_time": "2023-05-22T14:57:47.272Z"
   },
   {
    "duration": 1302,
    "start_time": "2023-05-22T15:01:50.103Z"
   },
   {
    "duration": 382,
    "start_time": "2023-05-22T15:02:08.482Z"
   },
   {
    "duration": 159,
    "start_time": "2023-05-22T15:02:24.553Z"
   },
   {
    "duration": 10,
    "start_time": "2023-05-22T15:02:28.010Z"
   },
   {
    "duration": 21,
    "start_time": "2023-05-22T15:02:34.502Z"
   },
   {
    "duration": 16,
    "start_time": "2023-05-22T15:03:25.289Z"
   },
   {
    "duration": 173,
    "start_time": "2023-05-22T15:04:43.721Z"
   },
   {
    "duration": 19,
    "start_time": "2023-05-22T15:04:47.824Z"
   },
   {
    "duration": 1327,
    "start_time": "2023-05-22T15:05:29.413Z"
   },
   {
    "duration": 184,
    "start_time": "2023-05-22T15:05:30.742Z"
   },
   {
    "duration": 18,
    "start_time": "2023-05-22T15:05:30.929Z"
   },
   {
    "duration": 103,
    "start_time": "2023-05-22T15:05:30.949Z"
   },
   {
    "duration": 12,
    "start_time": "2023-05-22T15:05:31.055Z"
   },
   {
    "duration": 108,
    "start_time": "2023-05-22T15:05:31.069Z"
   },
   {
    "duration": 80,
    "start_time": "2023-05-22T15:05:31.179Z"
   },
   {
    "duration": 102,
    "start_time": "2023-05-22T15:05:31.261Z"
   },
   {
    "duration": 264,
    "start_time": "2023-05-22T15:05:31.366Z"
   },
   {
    "duration": 14,
    "start_time": "2023-05-22T15:05:31.632Z"
   },
   {
    "duration": 106,
    "start_time": "2023-05-22T15:05:31.648Z"
   },
   {
    "duration": 942,
    "start_time": "2023-05-22T15:20:33.392Z"
   },
   {
    "duration": 11,
    "start_time": "2023-05-22T15:20:35.047Z"
   },
   {
    "duration": 1241,
    "start_time": "2023-05-22T15:20:46.869Z"
   },
   {
    "duration": 171,
    "start_time": "2023-05-22T15:20:48.112Z"
   },
   {
    "duration": 10,
    "start_time": "2023-05-22T15:20:48.285Z"
   },
   {
    "duration": 36,
    "start_time": "2023-05-22T15:20:48.297Z"
   },
   {
    "duration": 12,
    "start_time": "2023-05-22T15:20:48.335Z"
   },
   {
    "duration": 19,
    "start_time": "2023-05-22T15:20:48.349Z"
   },
   {
    "duration": 913,
    "start_time": "2023-05-22T15:20:48.370Z"
   },
   {
    "duration": 11,
    "start_time": "2023-05-22T15:20:49.285Z"
   },
   {
    "duration": 97,
    "start_time": "2023-05-22T15:20:49.298Z"
   },
   {
    "duration": 1077,
    "start_time": "2023-05-22T15:23:45.798Z"
   },
   {
    "duration": 933,
    "start_time": "2023-05-22T15:24:00.298Z"
   },
   {
    "duration": 980,
    "start_time": "2023-05-22T15:24:45.917Z"
   },
   {
    "duration": 10,
    "start_time": "2023-05-22T15:24:48.518Z"
   },
   {
    "duration": 38,
    "start_time": "2023-05-22T15:31:06.838Z"
   },
   {
    "duration": 43,
    "start_time": "2023-05-22T15:32:07.019Z"
   },
   {
    "duration": 36,
    "start_time": "2023-05-22T15:32:11.118Z"
   },
   {
    "duration": 9,
    "start_time": "2023-05-22T15:32:12.218Z"
   },
   {
    "duration": 1200,
    "start_time": "2023-05-22T15:32:20.309Z"
   },
   {
    "duration": 182,
    "start_time": "2023-05-22T15:32:21.511Z"
   },
   {
    "duration": 10,
    "start_time": "2023-05-22T15:32:21.695Z"
   },
   {
    "duration": 36,
    "start_time": "2023-05-22T15:32:21.707Z"
   },
   {
    "duration": 13,
    "start_time": "2023-05-22T15:32:21.746Z"
   },
   {
    "duration": 57,
    "start_time": "2023-05-22T15:32:21.761Z"
   },
   {
    "duration": 46,
    "start_time": "2023-05-22T15:32:21.820Z"
   },
   {
    "duration": 18,
    "start_time": "2023-05-22T15:32:21.868Z"
   },
   {
    "duration": 42,
    "start_time": "2023-05-22T15:32:21.887Z"
   },
   {
    "duration": 1106,
    "start_time": "2023-05-22T15:33:17.718Z"
   },
   {
    "duration": 69,
    "start_time": "2023-05-22T15:33:25.539Z"
   },
   {
    "duration": 10,
    "start_time": "2023-05-22T15:33:27.178Z"
   },
   {
    "duration": 21,
    "start_time": "2023-05-22T15:33:28.739Z"
   },
   {
    "duration": 865,
    "start_time": "2023-05-22T15:34:37.386Z"
   },
   {
    "duration": 11,
    "start_time": "2023-05-22T15:34:39.063Z"
   },
   {
    "duration": 32,
    "start_time": "2023-05-22T15:34:41.010Z"
   },
   {
    "duration": 1166,
    "start_time": "2023-05-22T15:35:10.949Z"
   },
   {
    "duration": 197,
    "start_time": "2023-05-22T15:35:12.117Z"
   },
   {
    "duration": 17,
    "start_time": "2023-05-22T15:35:12.316Z"
   },
   {
    "duration": 47,
    "start_time": "2023-05-22T15:35:12.335Z"
   },
   {
    "duration": 20,
    "start_time": "2023-05-22T15:35:12.384Z"
   },
   {
    "duration": 40,
    "start_time": "2023-05-22T15:35:12.406Z"
   },
   {
    "duration": 931,
    "start_time": "2023-05-22T15:35:12.449Z"
   },
   {
    "duration": 11,
    "start_time": "2023-05-22T15:35:13.382Z"
   },
   {
    "duration": 92,
    "start_time": "2023-05-22T15:39:47.468Z"
   },
   {
    "duration": 20,
    "start_time": "2023-05-22T15:40:05.427Z"
   },
   {
    "duration": 4,
    "start_time": "2023-05-22T15:40:49.038Z"
   },
   {
    "duration": 5,
    "start_time": "2023-05-22T15:42:16.798Z"
   },
   {
    "duration": 8,
    "start_time": "2023-05-22T15:43:24.868Z"
   },
   {
    "duration": 4,
    "start_time": "2023-05-22T15:46:24.207Z"
   },
   {
    "duration": 8,
    "start_time": "2023-05-22T15:46:31.909Z"
   },
   {
    "duration": 80,
    "start_time": "2023-05-22T15:47:01.478Z"
   },
   {
    "duration": 104,
    "start_time": "2023-05-22T15:47:20.806Z"
   },
   {
    "duration": 8,
    "start_time": "2023-05-22T15:48:28.117Z"
   },
   {
    "duration": 11,
    "start_time": "2023-05-22T15:48:33.607Z"
   },
   {
    "duration": 8,
    "start_time": "2023-05-22T15:48:40.788Z"
   },
   {
    "duration": 10,
    "start_time": "2023-05-22T15:50:37.031Z"
   },
   {
    "duration": 9,
    "start_time": "2023-05-22T15:50:42.748Z"
   },
   {
    "duration": 7,
    "start_time": "2023-05-22T15:50:52.488Z"
   },
   {
    "duration": 8,
    "start_time": "2023-05-22T15:50:58.387Z"
   },
   {
    "duration": 13,
    "start_time": "2023-05-22T15:51:33.538Z"
   },
   {
    "duration": 10,
    "start_time": "2023-05-22T15:51:41.958Z"
   },
   {
    "duration": 10,
    "start_time": "2023-05-22T15:51:47.332Z"
   },
   {
    "duration": 8,
    "start_time": "2023-05-22T15:51:51.024Z"
   },
   {
    "duration": 14,
    "start_time": "2023-05-22T15:51:56.727Z"
   },
   {
    "duration": 9,
    "start_time": "2023-05-22T15:53:30.047Z"
   },
   {
    "duration": 17,
    "start_time": "2023-05-22T16:06:49.987Z"
   },
   {
    "duration": 32,
    "start_time": "2023-05-22T16:07:13.296Z"
   },
   {
    "duration": 266,
    "start_time": "2023-05-22T16:08:24.826Z"
   },
   {
    "duration": 204,
    "start_time": "2023-05-22T16:08:50.777Z"
   },
   {
    "duration": 181,
    "start_time": "2023-05-22T16:11:09.366Z"
   },
   {
    "duration": 192,
    "start_time": "2023-05-22T16:11:21.847Z"
   },
   {
    "duration": 246,
    "start_time": "2023-05-22T16:11:28.185Z"
   },
   {
    "duration": 174,
    "start_time": "2023-05-22T16:11:36.947Z"
   },
   {
    "duration": 205,
    "start_time": "2023-05-22T16:11:56.886Z"
   },
   {
    "duration": 193,
    "start_time": "2023-05-22T16:12:02.408Z"
   },
   {
    "duration": 188,
    "start_time": "2023-05-22T16:12:10.944Z"
   },
   {
    "duration": 218,
    "start_time": "2023-05-22T16:12:25.363Z"
   },
   {
    "duration": 196,
    "start_time": "2023-05-22T16:12:41.152Z"
   },
   {
    "duration": 195,
    "start_time": "2023-05-22T16:13:16.626Z"
   },
   {
    "duration": 237,
    "start_time": "2023-05-22T16:15:28.680Z"
   },
   {
    "duration": 216,
    "start_time": "2023-05-22T16:25:23.398Z"
   },
   {
    "duration": 203,
    "start_time": "2023-05-22T16:27:27.028Z"
   },
   {
    "duration": 307,
    "start_time": "2023-05-22T16:35:12.151Z"
   },
   {
    "duration": 215,
    "start_time": "2023-05-22T16:35:18.591Z"
   },
   {
    "duration": 231,
    "start_time": "2023-05-22T16:35:28.082Z"
   },
   {
    "duration": 221,
    "start_time": "2023-05-22T16:35:32.945Z"
   },
   {
    "duration": 204,
    "start_time": "2023-05-22T16:35:55.002Z"
   },
   {
    "duration": 220,
    "start_time": "2023-05-22T16:36:18.213Z"
   },
   {
    "duration": 51,
    "start_time": "2023-05-23T05:40:42.963Z"
   },
   {
    "duration": 1281,
    "start_time": "2023-05-23T05:40:49.768Z"
   },
   {
    "duration": 493,
    "start_time": "2023-05-23T05:40:51.052Z"
   },
   {
    "duration": 9,
    "start_time": "2023-05-23T05:40:51.547Z"
   },
   {
    "duration": 25,
    "start_time": "2023-05-23T05:40:51.557Z"
   },
   {
    "duration": 13,
    "start_time": "2023-05-23T05:40:51.584Z"
   },
   {
    "duration": 27,
    "start_time": "2023-05-23T05:40:51.598Z"
   },
   {
    "duration": 61,
    "start_time": "2023-05-23T05:40:51.627Z"
   },
   {
    "duration": 879,
    "start_time": "2023-05-23T05:40:51.689Z"
   },
   {
    "duration": 9,
    "start_time": "2023-05-23T05:40:52.569Z"
   },
   {
    "duration": 20,
    "start_time": "2023-05-23T05:40:52.580Z"
   },
   {
    "duration": 22,
    "start_time": "2023-05-23T05:40:52.601Z"
   },
   {
    "duration": 27,
    "start_time": "2023-05-23T05:40:52.625Z"
   },
   {
    "duration": 48,
    "start_time": "2023-05-23T05:40:52.654Z"
   },
   {
    "duration": 305,
    "start_time": "2023-05-23T05:40:52.704Z"
   },
   {
    "duration": 116,
    "start_time": "2023-05-23T05:57:36.892Z"
   },
   {
    "duration": 98,
    "start_time": "2023-05-23T05:58:34.963Z"
   },
   {
    "duration": 92,
    "start_time": "2023-05-23T06:03:10.283Z"
   },
   {
    "duration": 1193,
    "start_time": "2023-05-23T06:03:20.405Z"
   },
   {
    "duration": 163,
    "start_time": "2023-05-23T06:03:21.601Z"
   },
   {
    "duration": 9,
    "start_time": "2023-05-23T06:03:21.766Z"
   },
   {
    "duration": 30,
    "start_time": "2023-05-23T06:03:21.776Z"
   },
   {
    "duration": 19,
    "start_time": "2023-05-23T06:03:21.809Z"
   },
   {
    "duration": 15,
    "start_time": "2023-05-23T06:03:21.830Z"
   },
   {
    "duration": 81,
    "start_time": "2023-05-23T06:03:21.847Z"
   },
   {
    "duration": 74,
    "start_time": "2023-05-23T06:03:21.929Z"
   },
   {
    "duration": 885,
    "start_time": "2023-05-23T06:03:22.005Z"
   },
   {
    "duration": 10,
    "start_time": "2023-05-23T06:03:22.892Z"
   },
   {
    "duration": 22,
    "start_time": "2023-05-23T06:03:22.904Z"
   },
   {
    "duration": 27,
    "start_time": "2023-05-23T06:03:22.928Z"
   },
   {
    "duration": 13,
    "start_time": "2023-05-23T06:03:22.957Z"
   },
   {
    "duration": 31,
    "start_time": "2023-05-23T06:03:22.973Z"
   },
   {
    "duration": 306,
    "start_time": "2023-05-23T06:03:23.006Z"
   },
   {
    "duration": 129,
    "start_time": "2023-05-23T06:04:15.284Z"
   },
   {
    "duration": 1073,
    "start_time": "2023-05-23T06:04:22.084Z"
   },
   {
    "duration": 173,
    "start_time": "2023-05-23T06:04:23.158Z"
   },
   {
    "duration": 9,
    "start_time": "2023-05-23T06:04:23.333Z"
   },
   {
    "duration": 51,
    "start_time": "2023-05-23T06:04:23.343Z"
   },
   {
    "duration": 10,
    "start_time": "2023-05-23T06:04:23.396Z"
   },
   {
    "duration": 23,
    "start_time": "2023-05-23T06:04:23.408Z"
   },
   {
    "duration": 89,
    "start_time": "2023-05-23T06:04:23.433Z"
   },
   {
    "duration": 77,
    "start_time": "2023-05-23T06:04:23.524Z"
   },
   {
    "duration": 893,
    "start_time": "2023-05-23T06:04:23.602Z"
   },
   {
    "duration": 9,
    "start_time": "2023-05-23T06:04:24.497Z"
   },
   {
    "duration": 18,
    "start_time": "2023-05-23T06:04:24.508Z"
   },
   {
    "duration": 12,
    "start_time": "2023-05-23T06:04:24.527Z"
   },
   {
    "duration": 7,
    "start_time": "2023-05-23T06:04:24.541Z"
   },
   {
    "duration": 32,
    "start_time": "2023-05-23T06:04:24.551Z"
   },
   {
    "duration": 375,
    "start_time": "2023-05-23T06:04:24.585Z"
   },
   {
    "duration": 1022,
    "start_time": "2023-05-23T06:05:27.684Z"
   },
   {
    "duration": 156,
    "start_time": "2023-05-23T06:05:28.709Z"
   },
   {
    "duration": 9,
    "start_time": "2023-05-23T06:05:28.866Z"
   },
   {
    "duration": 35,
    "start_time": "2023-05-23T06:05:28.877Z"
   },
   {
    "duration": 11,
    "start_time": "2023-05-23T06:05:28.914Z"
   },
   {
    "duration": 25,
    "start_time": "2023-05-23T06:05:28.926Z"
   },
   {
    "duration": 81,
    "start_time": "2023-05-23T06:05:28.953Z"
   },
   {
    "duration": 76,
    "start_time": "2023-05-23T06:05:29.035Z"
   },
   {
    "duration": 888,
    "start_time": "2023-05-23T06:05:29.113Z"
   },
   {
    "duration": 10,
    "start_time": "2023-05-23T06:05:30.003Z"
   },
   {
    "duration": 21,
    "start_time": "2023-05-23T06:05:30.024Z"
   },
   {
    "duration": 34,
    "start_time": "2023-05-23T06:05:30.047Z"
   },
   {
    "duration": 42,
    "start_time": "2023-05-23T06:05:30.083Z"
   },
   {
    "duration": 61,
    "start_time": "2023-05-23T06:05:30.127Z"
   },
   {
    "duration": 294,
    "start_time": "2023-05-23T06:05:30.189Z"
   },
   {
    "duration": 1097,
    "start_time": "2023-05-23T06:07:02.483Z"
   },
   {
    "duration": 170,
    "start_time": "2023-05-23T06:07:03.583Z"
   },
   {
    "duration": 10,
    "start_time": "2023-05-23T06:07:03.754Z"
   },
   {
    "duration": 26,
    "start_time": "2023-05-23T06:07:03.766Z"
   },
   {
    "duration": 34,
    "start_time": "2023-05-23T06:07:03.794Z"
   },
   {
    "duration": 17,
    "start_time": "2023-05-23T06:07:03.830Z"
   },
   {
    "duration": 82,
    "start_time": "2023-05-23T06:07:03.848Z"
   },
   {
    "duration": 96,
    "start_time": "2023-05-23T06:07:03.932Z"
   },
   {
    "duration": 985,
    "start_time": "2023-05-23T06:07:04.029Z"
   },
   {
    "duration": 10,
    "start_time": "2023-05-23T06:07:05.015Z"
   },
   {
    "duration": 10,
    "start_time": "2023-05-23T06:07:05.027Z"
   },
   {
    "duration": 16,
    "start_time": "2023-05-23T06:07:05.039Z"
   },
   {
    "duration": 24,
    "start_time": "2023-05-23T06:07:05.056Z"
   },
   {
    "duration": 36,
    "start_time": "2023-05-23T06:07:05.082Z"
   },
   {
    "duration": 290,
    "start_time": "2023-05-23T06:07:05.119Z"
   },
   {
    "duration": 1046,
    "start_time": "2023-05-23T06:26:45.778Z"
   },
   {
    "duration": 150,
    "start_time": "2023-05-23T06:26:46.825Z"
   },
   {
    "duration": 9,
    "start_time": "2023-05-23T06:26:46.976Z"
   },
   {
    "duration": 41,
    "start_time": "2023-05-23T06:26:46.987Z"
   },
   {
    "duration": 13,
    "start_time": "2023-05-23T06:26:47.030Z"
   },
   {
    "duration": 46,
    "start_time": "2023-05-23T06:26:47.044Z"
   },
   {
    "duration": 57,
    "start_time": "2023-05-23T06:26:47.091Z"
   },
   {
    "duration": 103,
    "start_time": "2023-05-23T06:26:47.151Z"
   },
   {
    "duration": 846,
    "start_time": "2023-05-23T06:26:47.258Z"
   },
   {
    "duration": 11,
    "start_time": "2023-05-23T06:26:48.106Z"
   },
   {
    "duration": 27,
    "start_time": "2023-05-23T06:26:48.118Z"
   },
   {
    "duration": 20,
    "start_time": "2023-05-23T06:26:48.147Z"
   },
   {
    "duration": 34,
    "start_time": "2023-05-23T06:26:48.168Z"
   },
   {
    "duration": 43,
    "start_time": "2023-05-23T06:26:48.204Z"
   },
   {
    "duration": 276,
    "start_time": "2023-05-23T06:26:48.248Z"
   },
   {
    "duration": 1058,
    "start_time": "2023-05-23T06:31:17.375Z"
   },
   {
    "duration": 159,
    "start_time": "2023-05-23T06:31:18.435Z"
   },
   {
    "duration": 10,
    "start_time": "2023-05-23T06:31:18.596Z"
   },
   {
    "duration": 55,
    "start_time": "2023-05-23T06:31:18.608Z"
   },
   {
    "duration": 12,
    "start_time": "2023-05-23T06:31:18.666Z"
   },
   {
    "duration": 45,
    "start_time": "2023-05-23T06:31:18.680Z"
   },
   {
    "duration": 66,
    "start_time": "2023-05-23T06:31:18.727Z"
   },
   {
    "duration": 79,
    "start_time": "2023-05-23T06:31:18.795Z"
   },
   {
    "duration": 852,
    "start_time": "2023-05-23T06:31:18.876Z"
   },
   {
    "duration": 9,
    "start_time": "2023-05-23T06:31:19.729Z"
   },
   {
    "duration": 37,
    "start_time": "2023-05-23T06:31:19.740Z"
   },
   {
    "duration": 26,
    "start_time": "2023-05-23T06:31:19.779Z"
   },
   {
    "duration": 41,
    "start_time": "2023-05-23T06:31:19.806Z"
   },
   {
    "duration": 31,
    "start_time": "2023-05-23T06:31:19.849Z"
   },
   {
    "duration": 257,
    "start_time": "2023-05-23T06:31:19.881Z"
   },
   {
    "duration": 1124,
    "start_time": "2023-05-23T06:33:50.259Z"
   },
   {
    "duration": 155,
    "start_time": "2023-05-23T06:33:51.384Z"
   },
   {
    "duration": 9,
    "start_time": "2023-05-23T06:33:51.541Z"
   },
   {
    "duration": 23,
    "start_time": "2023-05-23T06:33:51.552Z"
   },
   {
    "duration": 11,
    "start_time": "2023-05-23T06:33:51.577Z"
   },
   {
    "duration": 35,
    "start_time": "2023-05-23T06:33:51.589Z"
   },
   {
    "duration": 58,
    "start_time": "2023-05-23T06:33:51.626Z"
   },
   {
    "duration": 83,
    "start_time": "2023-05-23T06:33:51.686Z"
   },
   {
    "duration": 845,
    "start_time": "2023-05-23T06:33:51.770Z"
   },
   {
    "duration": 14,
    "start_time": "2023-05-23T06:33:52.617Z"
   },
   {
    "duration": 16,
    "start_time": "2023-05-23T06:33:52.632Z"
   },
   {
    "duration": 29,
    "start_time": "2023-05-23T06:33:52.650Z"
   },
   {
    "duration": 9,
    "start_time": "2023-05-23T06:33:52.682Z"
   },
   {
    "duration": 35,
    "start_time": "2023-05-23T06:33:52.693Z"
   },
   {
    "duration": 311,
    "start_time": "2023-05-23T06:33:52.729Z"
   },
   {
    "duration": 6,
    "start_time": "2023-05-23T06:38:29.124Z"
   },
   {
    "duration": 1002,
    "start_time": "2023-05-23T06:38:36.087Z"
   },
   {
    "duration": 150,
    "start_time": "2023-05-23T06:38:37.091Z"
   },
   {
    "duration": 8,
    "start_time": "2023-05-23T06:38:37.243Z"
   },
   {
    "duration": 44,
    "start_time": "2023-05-23T06:38:37.253Z"
   },
   {
    "duration": 13,
    "start_time": "2023-05-23T06:38:37.299Z"
   },
   {
    "duration": 25,
    "start_time": "2023-05-23T06:38:37.313Z"
   },
   {
    "duration": 5,
    "start_time": "2023-05-23T06:38:37.339Z"
   },
   {
    "duration": 84,
    "start_time": "2023-05-23T06:38:37.345Z"
   },
   {
    "duration": 74,
    "start_time": "2023-05-23T06:38:37.430Z"
   },
   {
    "duration": 846,
    "start_time": "2023-05-23T06:38:37.506Z"
   },
   {
    "duration": 9,
    "start_time": "2023-05-23T06:38:38.353Z"
   },
   {
    "duration": 35,
    "start_time": "2023-05-23T06:38:38.363Z"
   },
   {
    "duration": 23,
    "start_time": "2023-05-23T06:38:38.399Z"
   },
   {
    "duration": 7,
    "start_time": "2023-05-23T06:38:38.424Z"
   },
   {
    "duration": 27,
    "start_time": "2023-05-23T06:38:38.432Z"
   },
   {
    "duration": 272,
    "start_time": "2023-05-23T06:38:38.461Z"
   },
   {
    "duration": 105,
    "start_time": "2023-05-23T06:53:26.637Z"
   },
   {
    "duration": 4,
    "start_time": "2023-05-23T06:53:34.705Z"
   },
   {
    "duration": 4,
    "start_time": "2023-05-23T06:54:29.758Z"
   },
   {
    "duration": 11,
    "start_time": "2023-05-23T06:54:41.156Z"
   },
   {
    "duration": 1038,
    "start_time": "2023-05-23T06:55:27.082Z"
   },
   {
    "duration": 158,
    "start_time": "2023-05-23T06:55:28.122Z"
   },
   {
    "duration": 10,
    "start_time": "2023-05-23T06:55:28.282Z"
   },
   {
    "duration": 19,
    "start_time": "2023-05-23T06:55:28.294Z"
   },
   {
    "duration": 11,
    "start_time": "2023-05-23T06:55:28.324Z"
   },
   {
    "duration": 15,
    "start_time": "2023-05-23T06:55:28.336Z"
   },
   {
    "duration": 79,
    "start_time": "2023-05-23T06:55:28.352Z"
   },
   {
    "duration": 76,
    "start_time": "2023-05-23T06:55:28.432Z"
   },
   {
    "duration": 882,
    "start_time": "2023-05-23T06:55:28.510Z"
   },
   {
    "duration": 10,
    "start_time": "2023-05-23T06:55:29.393Z"
   },
   {
    "duration": 20,
    "start_time": "2023-05-23T06:55:29.405Z"
   },
   {
    "duration": 9,
    "start_time": "2023-05-23T06:55:29.427Z"
   },
   {
    "duration": 8,
    "start_time": "2023-05-23T06:55:29.437Z"
   },
   {
    "duration": 11,
    "start_time": "2023-05-23T06:55:29.447Z"
   },
   {
    "duration": 7,
    "start_time": "2023-05-23T06:55:29.459Z"
   },
   {
    "duration": 29,
    "start_time": "2023-05-23T06:55:29.468Z"
   },
   {
    "duration": 282,
    "start_time": "2023-05-23T06:55:29.525Z"
   },
   {
    "duration": 5,
    "start_time": "2023-05-23T06:55:47.477Z"
   },
   {
    "duration": 11,
    "start_time": "2023-05-23T06:55:48.141Z"
   },
   {
    "duration": 23,
    "start_time": "2023-05-23T06:56:16.160Z"
   },
   {
    "duration": 11,
    "start_time": "2023-05-23T06:56:17.006Z"
   },
   {
    "duration": 327,
    "start_time": "2023-05-23T07:19:10.757Z"
   },
   {
    "duration": 194,
    "start_time": "2023-05-23T07:25:37.163Z"
   },
   {
    "duration": 256,
    "start_time": "2023-05-23T07:28:43.064Z"
   },
   {
    "duration": 414,
    "start_time": "2023-05-23T07:32:26.324Z"
   },
   {
    "duration": 322,
    "start_time": "2023-05-23T07:32:49.983Z"
   },
   {
    "duration": 39,
    "start_time": "2023-05-23T07:35:42.782Z"
   },
   {
    "duration": 37,
    "start_time": "2023-05-23T07:36:06.052Z"
   },
   {
    "duration": 39,
    "start_time": "2023-05-23T07:36:19.622Z"
   },
   {
    "duration": 32,
    "start_time": "2023-05-23T07:36:44.963Z"
   },
   {
    "duration": 40,
    "start_time": "2023-05-23T07:37:00.410Z"
   },
   {
    "duration": 36,
    "start_time": "2023-05-23T07:37:37.815Z"
   },
   {
    "duration": 1169,
    "start_time": "2023-05-23T07:38:04.913Z"
   },
   {
    "duration": 156,
    "start_time": "2023-05-23T07:38:06.084Z"
   },
   {
    "duration": 9,
    "start_time": "2023-05-23T07:38:06.242Z"
   },
   {
    "duration": 22,
    "start_time": "2023-05-23T07:38:06.253Z"
   },
   {
    "duration": 12,
    "start_time": "2023-05-23T07:38:06.278Z"
   },
   {
    "duration": 45,
    "start_time": "2023-05-23T07:38:06.292Z"
   },
   {
    "duration": 71,
    "start_time": "2023-05-23T07:38:06.339Z"
   },
   {
    "duration": 85,
    "start_time": "2023-05-23T07:38:06.412Z"
   },
   {
    "duration": 893,
    "start_time": "2023-05-23T07:38:06.499Z"
   },
   {
    "duration": 9,
    "start_time": "2023-05-23T07:38:07.393Z"
   },
   {
    "duration": 63,
    "start_time": "2023-05-23T07:38:07.404Z"
   },
   {
    "duration": 38,
    "start_time": "2023-05-23T07:38:07.468Z"
   },
   {
    "duration": 35,
    "start_time": "2023-05-23T07:38:07.507Z"
   },
   {
    "duration": 12,
    "start_time": "2023-05-23T07:38:07.545Z"
   },
   {
    "duration": 6,
    "start_time": "2023-05-23T07:38:07.559Z"
   },
   {
    "duration": 28,
    "start_time": "2023-05-23T07:38:07.566Z"
   },
   {
    "duration": 135,
    "start_time": "2023-05-23T07:38:07.595Z"
   },
   {
    "duration": 38,
    "start_time": "2023-05-23T07:38:32.682Z"
   },
   {
    "duration": 41,
    "start_time": "2023-05-23T07:39:18.414Z"
   },
   {
    "duration": 297,
    "start_time": "2023-05-23T07:40:14.903Z"
   },
   {
    "duration": 39,
    "start_time": "2023-05-23T07:41:19.853Z"
   },
   {
    "duration": 362,
    "start_time": "2023-05-23T07:41:37.322Z"
   },
   {
    "duration": 198,
    "start_time": "2023-05-23T07:41:50.342Z"
   },
   {
    "duration": 40,
    "start_time": "2023-05-23T07:50:18.333Z"
   },
   {
    "duration": 106,
    "start_time": "2023-05-23T07:54:02.293Z"
   },
   {
    "duration": 66,
    "start_time": "2023-05-23T07:54:13.823Z"
   },
   {
    "duration": 124,
    "start_time": "2023-05-23T07:54:58.343Z"
   },
   {
    "duration": 70,
    "start_time": "2023-05-23T07:55:26.451Z"
   },
   {
    "duration": 70,
    "start_time": "2023-05-23T07:59:48.793Z"
   },
   {
    "duration": 10,
    "start_time": "2023-05-23T08:01:52.653Z"
   },
   {
    "duration": 16,
    "start_time": "2023-05-23T08:02:36.790Z"
   },
   {
    "duration": 41,
    "start_time": "2023-05-23T08:02:58.573Z"
   },
   {
    "duration": 241,
    "start_time": "2023-05-23T08:03:16.614Z"
   },
   {
    "duration": 283,
    "start_time": "2023-05-23T08:04:03.783Z"
   },
   {
    "duration": 293,
    "start_time": "2023-05-23T08:04:42.262Z"
   },
   {
    "duration": 179,
    "start_time": "2023-05-23T08:05:05.864Z"
   },
   {
    "duration": 321,
    "start_time": "2023-05-23T08:05:23.592Z"
   },
   {
    "duration": 341,
    "start_time": "2023-05-23T08:06:56.894Z"
   },
   {
    "duration": 413,
    "start_time": "2023-05-23T08:08:12.593Z"
   },
   {
    "duration": 301,
    "start_time": "2023-05-23T08:09:00.231Z"
   },
   {
    "duration": 272,
    "start_time": "2023-05-23T08:09:10.534Z"
   },
   {
    "duration": 309,
    "start_time": "2023-05-23T08:09:15.464Z"
   },
   {
    "duration": 308,
    "start_time": "2023-05-23T08:09:22.903Z"
   },
   {
    "duration": 311,
    "start_time": "2023-05-23T08:09:29.183Z"
   },
   {
    "duration": 290,
    "start_time": "2023-05-23T08:09:35.998Z"
   },
   {
    "duration": 299,
    "start_time": "2023-05-23T08:09:43.984Z"
   },
   {
    "duration": 339,
    "start_time": "2023-05-23T08:10:05.713Z"
   },
   {
    "duration": 271,
    "start_time": "2023-05-23T08:14:09.904Z"
   },
   {
    "duration": 302,
    "start_time": "2023-05-23T08:14:21.763Z"
   },
   {
    "duration": 53,
    "start_time": "2023-05-23T08:15:38.715Z"
   },
   {
    "duration": 336,
    "start_time": "2023-05-23T08:15:45.783Z"
   },
   {
    "duration": 265,
    "start_time": "2023-05-23T08:16:37.673Z"
   },
   {
    "duration": 256,
    "start_time": "2023-05-23T08:16:58.854Z"
   },
   {
    "duration": 282,
    "start_time": "2023-05-23T08:17:24.273Z"
   },
   {
    "duration": 765,
    "start_time": "2023-05-23T08:25:36.170Z"
   },
   {
    "duration": 4,
    "start_time": "2023-05-23T08:25:44.074Z"
   },
   {
    "duration": 5,
    "start_time": "2023-05-23T08:26:03.133Z"
   },
   {
    "duration": 1216,
    "start_time": "2023-05-23T08:26:41.500Z"
   },
   {
    "duration": 14,
    "start_time": "2023-05-23T08:26:57.846Z"
   },
   {
    "duration": 15,
    "start_time": "2023-05-23T08:37:24.523Z"
   },
   {
    "duration": 42,
    "start_time": "2023-05-23T08:43:45.021Z"
   },
   {
    "duration": 51,
    "start_time": "2023-05-23T08:43:50.543Z"
   },
   {
    "duration": 65,
    "start_time": "2023-05-23T08:44:17.034Z"
   },
   {
    "duration": 85,
    "start_time": "2023-05-23T08:46:21.239Z"
   },
   {
    "duration": 76,
    "start_time": "2023-05-23T08:46:27.083Z"
   },
   {
    "duration": 20,
    "start_time": "2023-05-23T08:47:02.381Z"
   },
   {
    "duration": 17,
    "start_time": "2023-05-23T08:47:18.038Z"
   },
   {
    "duration": 123,
    "start_time": "2023-05-23T08:48:02.239Z"
   },
   {
    "duration": 143,
    "start_time": "2023-05-23T08:48:22.674Z"
   },
   {
    "duration": 174,
    "start_time": "2023-05-23T08:50:14.903Z"
   },
   {
    "duration": 160,
    "start_time": "2023-05-23T08:50:44.414Z"
   },
   {
    "duration": 177,
    "start_time": "2023-05-23T08:51:57.474Z"
   },
   {
    "duration": 178,
    "start_time": "2023-05-23T08:52:48.189Z"
   },
   {
    "duration": 92,
    "start_time": "2023-05-23T08:59:09.653Z"
   },
   {
    "duration": 51,
    "start_time": "2023-05-23T09:00:47.638Z"
   },
   {
    "duration": 64,
    "start_time": "2023-05-23T09:02:30.495Z"
   },
   {
    "duration": 57,
    "start_time": "2023-05-23T09:02:36.445Z"
   },
   {
    "duration": 49,
    "start_time": "2023-05-23T09:02:39.439Z"
   },
   {
    "duration": 63,
    "start_time": "2023-05-23T09:04:52.914Z"
   },
   {
    "duration": 18,
    "start_time": "2023-05-23T09:05:17.554Z"
   },
   {
    "duration": 127,
    "start_time": "2023-05-23T09:08:29.339Z"
   },
   {
    "duration": 57,
    "start_time": "2023-05-23T09:08:35.982Z"
   },
   {
    "duration": 60,
    "start_time": "2023-05-23T09:08:41.382Z"
   },
   {
    "duration": 94,
    "start_time": "2023-05-23T09:09:04.963Z"
   },
   {
    "duration": 49,
    "start_time": "2023-05-23T09:10:05.212Z"
   },
   {
    "duration": 56,
    "start_time": "2023-05-23T09:10:10.192Z"
   },
   {
    "duration": 68,
    "start_time": "2023-05-23T09:10:17.093Z"
   },
   {
    "duration": 70,
    "start_time": "2023-05-23T09:10:21.593Z"
   },
   {
    "duration": 61,
    "start_time": "2023-05-23T09:10:32.484Z"
   },
   {
    "duration": 14,
    "start_time": "2023-05-23T09:20:16.093Z"
   },
   {
    "duration": 31,
    "start_time": "2023-05-23T09:23:48.936Z"
   },
   {
    "duration": 57,
    "start_time": "2023-05-23T09:24:40.829Z"
   },
   {
    "duration": 27,
    "start_time": "2023-05-23T09:24:48.175Z"
   },
   {
    "duration": 28,
    "start_time": "2023-05-23T09:26:20.393Z"
   },
   {
    "duration": 30,
    "start_time": "2023-05-23T09:26:44.193Z"
   },
   {
    "duration": 29,
    "start_time": "2023-05-23T09:27:18.672Z"
   },
   {
    "duration": 34,
    "start_time": "2023-05-23T09:27:26.342Z"
   },
   {
    "duration": 29,
    "start_time": "2023-05-23T09:27:33.542Z"
   },
   {
    "duration": 519,
    "start_time": "2023-05-23T09:27:49.373Z"
   },
   {
    "duration": 30,
    "start_time": "2023-05-23T09:28:07.743Z"
   },
   {
    "duration": 27,
    "start_time": "2023-05-23T09:28:53.053Z"
   },
   {
    "duration": 1383,
    "start_time": "2023-05-23T09:29:01.961Z"
   },
   {
    "duration": 167,
    "start_time": "2023-05-23T09:29:03.345Z"
   },
   {
    "duration": 12,
    "start_time": "2023-05-23T09:29:03.513Z"
   },
   {
    "duration": 29,
    "start_time": "2023-05-23T09:29:03.538Z"
   },
   {
    "duration": 12,
    "start_time": "2023-05-23T09:29:03.570Z"
   },
   {
    "duration": 18,
    "start_time": "2023-05-23T09:29:03.584Z"
   },
   {
    "duration": 89,
    "start_time": "2023-05-23T09:29:03.604Z"
   },
   {
    "duration": 107,
    "start_time": "2023-05-23T09:29:03.696Z"
   },
   {
    "duration": 901,
    "start_time": "2023-05-23T09:29:03.804Z"
   },
   {
    "duration": 8,
    "start_time": "2023-05-23T09:29:04.707Z"
   },
   {
    "duration": 27,
    "start_time": "2023-05-23T09:29:04.733Z"
   },
   {
    "duration": 11,
    "start_time": "2023-05-23T09:29:04.761Z"
   },
   {
    "duration": 10,
    "start_time": "2023-05-23T09:29:04.773Z"
   },
   {
    "duration": 30,
    "start_time": "2023-05-23T09:29:04.786Z"
   },
   {
    "duration": 16,
    "start_time": "2023-05-23T09:29:04.818Z"
   },
   {
    "duration": 45,
    "start_time": "2023-05-23T09:29:04.841Z"
   },
   {
    "duration": 386,
    "start_time": "2023-05-23T09:29:04.888Z"
   },
   {
    "duration": 29,
    "start_time": "2023-05-23T09:29:05.277Z"
   },
   {
    "duration": 90,
    "start_time": "2023-05-23T09:29:05.309Z"
   },
   {
    "duration": 94,
    "start_time": "2023-05-23T09:29:05.401Z"
   },
   {
    "duration": 48,
    "start_time": "2023-05-23T09:29:05.498Z"
   },
   {
    "duration": 11,
    "start_time": "2023-05-23T09:29:05.548Z"
   },
   {
    "duration": 23,
    "start_time": "2023-05-23T09:32:52.170Z"
   },
   {
    "duration": 33,
    "start_time": "2023-05-23T09:33:01.530Z"
   },
   {
    "duration": 39,
    "start_time": "2023-05-23T09:33:20.522Z"
   },
   {
    "duration": 30,
    "start_time": "2023-05-23T09:33:32.139Z"
   },
   {
    "duration": 37,
    "start_time": "2023-05-23T09:33:41.072Z"
   },
   {
    "duration": 30,
    "start_time": "2023-05-23T09:34:00.367Z"
   },
   {
    "duration": 46,
    "start_time": "2023-05-23T09:34:35.252Z"
   },
   {
    "duration": 1252,
    "start_time": "2023-05-23T09:34:44.025Z"
   },
   {
    "duration": 188,
    "start_time": "2023-05-23T09:34:45.279Z"
   },
   {
    "duration": 13,
    "start_time": "2023-05-23T09:34:45.470Z"
   },
   {
    "duration": 45,
    "start_time": "2023-05-23T09:34:45.485Z"
   },
   {
    "duration": 15,
    "start_time": "2023-05-23T09:34:45.534Z"
   },
   {
    "duration": 16,
    "start_time": "2023-05-23T09:34:45.551Z"
   },
   {
    "duration": 89,
    "start_time": "2023-05-23T09:34:45.569Z"
   },
   {
    "duration": 112,
    "start_time": "2023-05-23T09:34:45.660Z"
   },
   {
    "duration": 974,
    "start_time": "2023-05-23T09:34:45.774Z"
   },
   {
    "duration": 10,
    "start_time": "2023-05-23T09:34:46.750Z"
   },
   {
    "duration": 30,
    "start_time": "2023-05-23T09:34:46.761Z"
   },
   {
    "duration": 9,
    "start_time": "2023-05-23T09:34:46.793Z"
   },
   {
    "duration": 32,
    "start_time": "2023-05-23T09:34:46.804Z"
   },
   {
    "duration": 11,
    "start_time": "2023-05-23T09:34:46.843Z"
   },
   {
    "duration": 7,
    "start_time": "2023-05-23T09:34:46.856Z"
   },
   {
    "duration": 53,
    "start_time": "2023-05-23T09:34:46.865Z"
   },
   {
    "duration": 346,
    "start_time": "2023-05-23T09:34:46.920Z"
   },
   {
    "duration": 16,
    "start_time": "2023-05-23T09:34:47.268Z"
   },
   {
    "duration": 102,
    "start_time": "2023-05-23T09:34:47.286Z"
   },
   {
    "duration": 107,
    "start_time": "2023-05-23T09:34:47.391Z"
   },
   {
    "duration": 43,
    "start_time": "2023-05-23T09:34:47.500Z"
   },
   {
    "duration": 22,
    "start_time": "2023-05-23T09:34:47.544Z"
   },
   {
    "duration": 28,
    "start_time": "2023-05-23T09:35:03.972Z"
   },
   {
    "duration": 29,
    "start_time": "2023-05-23T09:35:22.112Z"
   },
   {
    "duration": 36,
    "start_time": "2023-05-23T09:35:29.112Z"
   },
   {
    "duration": 41,
    "start_time": "2023-05-23T09:36:35.647Z"
   },
   {
    "duration": 39,
    "start_time": "2023-05-23T09:37:00.673Z"
   },
   {
    "duration": 136,
    "start_time": "2023-05-23T09:37:55.562Z"
   },
   {
    "duration": 43,
    "start_time": "2023-05-23T09:38:52.321Z"
   },
   {
    "duration": 41,
    "start_time": "2023-05-23T09:39:32.520Z"
   },
   {
    "duration": 42,
    "start_time": "2023-05-23T09:39:54.317Z"
   },
   {
    "duration": 113,
    "start_time": "2023-05-23T09:39:59.124Z"
   },
   {
    "duration": 38,
    "start_time": "2023-05-23T09:40:03.653Z"
   },
   {
    "duration": 50,
    "start_time": "2023-05-23T09:41:40.138Z"
   },
   {
    "duration": 44,
    "start_time": "2023-05-23T09:42:12.625Z"
   },
   {
    "duration": 31,
    "start_time": "2023-05-23T09:42:20.243Z"
   },
   {
    "duration": 35,
    "start_time": "2023-05-23T09:42:28.987Z"
   },
   {
    "duration": 1337,
    "start_time": "2023-05-23T10:05:19.209Z"
   },
   {
    "duration": 221,
    "start_time": "2023-05-23T10:05:20.549Z"
   },
   {
    "duration": 11,
    "start_time": "2023-05-23T10:05:20.772Z"
   },
   {
    "duration": 53,
    "start_time": "2023-05-23T10:05:20.785Z"
   },
   {
    "duration": 37,
    "start_time": "2023-05-23T10:05:20.841Z"
   },
   {
    "duration": 50,
    "start_time": "2023-05-23T10:05:20.880Z"
   },
   {
    "duration": 110,
    "start_time": "2023-05-23T10:05:20.936Z"
   },
   {
    "duration": 132,
    "start_time": "2023-05-23T10:05:21.052Z"
   },
   {
    "duration": 1100,
    "start_time": "2023-05-23T10:05:21.186Z"
   },
   {
    "duration": 11,
    "start_time": "2023-05-23T10:05:22.288Z"
   },
   {
    "duration": 98,
    "start_time": "2023-05-23T10:05:22.301Z"
   },
   {
    "duration": 10,
    "start_time": "2023-05-23T10:05:22.401Z"
   },
   {
    "duration": 49,
    "start_time": "2023-05-23T10:05:22.412Z"
   },
   {
    "duration": 48,
    "start_time": "2023-05-23T10:05:22.464Z"
   },
   {
    "duration": 38,
    "start_time": "2023-05-23T10:05:22.514Z"
   },
   {
    "duration": 62,
    "start_time": "2023-05-23T10:05:22.554Z"
   },
   {
    "duration": 376,
    "start_time": "2023-05-23T10:05:22.618Z"
   },
   {
    "duration": 17,
    "start_time": "2023-05-23T10:05:22.996Z"
   },
   {
    "duration": 132,
    "start_time": "2023-05-23T10:05:23.026Z"
   },
   {
    "duration": 147,
    "start_time": "2023-05-23T10:05:23.160Z"
   },
   {
    "duration": 66,
    "start_time": "2023-05-23T10:05:23.310Z"
   },
   {
    "duration": 11,
    "start_time": "2023-05-23T10:05:23.378Z"
   },
   {
    "duration": 5320,
    "start_time": "2023-05-23T10:21:51.667Z"
   },
   {
    "duration": 1169,
    "start_time": "2023-05-23T10:28:32.268Z"
   },
   {
    "duration": 195,
    "start_time": "2023-05-23T10:28:33.439Z"
   },
   {
    "duration": 20,
    "start_time": "2023-05-23T10:28:33.635Z"
   },
   {
    "duration": 39,
    "start_time": "2023-05-23T10:28:33.657Z"
   },
   {
    "duration": 15,
    "start_time": "2023-05-23T10:28:33.699Z"
   },
   {
    "duration": 37,
    "start_time": "2023-05-23T10:28:33.715Z"
   },
   {
    "duration": 88,
    "start_time": "2023-05-23T10:28:33.754Z"
   },
   {
    "duration": 98,
    "start_time": "2023-05-23T10:28:33.844Z"
   },
   {
    "duration": 956,
    "start_time": "2023-05-23T10:28:33.944Z"
   },
   {
    "duration": 10,
    "start_time": "2023-05-23T10:28:34.902Z"
   },
   {
    "duration": 50,
    "start_time": "2023-05-23T10:28:34.925Z"
   },
   {
    "duration": 20,
    "start_time": "2023-05-23T10:28:34.977Z"
   },
   {
    "duration": 32,
    "start_time": "2023-05-23T10:28:35.000Z"
   },
   {
    "duration": 35,
    "start_time": "2023-05-23T10:28:35.034Z"
   },
   {
    "duration": 12,
    "start_time": "2023-05-23T10:28:35.072Z"
   },
   {
    "duration": 58,
    "start_time": "2023-05-23T10:28:35.086Z"
   },
   {
    "duration": 355,
    "start_time": "2023-05-23T10:28:35.146Z"
   },
   {
    "duration": 33,
    "start_time": "2023-05-23T10:28:35.503Z"
   },
   {
    "duration": 75,
    "start_time": "2023-05-23T10:28:35.540Z"
   },
   {
    "duration": 93,
    "start_time": "2023-05-23T10:28:35.617Z"
   },
   {
    "duration": 60,
    "start_time": "2023-05-23T10:28:35.712Z"
   },
   {
    "duration": 11,
    "start_time": "2023-05-23T10:28:35.774Z"
   },
   {
    "duration": 9,
    "start_time": "2023-05-23T10:28:35.786Z"
   },
   {
    "duration": 8,
    "start_time": "2023-05-23T10:29:50.408Z"
   },
   {
    "duration": 23,
    "start_time": "2023-05-23T10:30:01.807Z"
   },
   {
    "duration": 51,
    "start_time": "2023-05-23T10:53:42.797Z"
   },
   {
    "duration": 40,
    "start_time": "2023-05-23T10:54:03.392Z"
   },
   {
    "duration": 25,
    "start_time": "2023-05-23T10:55:13.452Z"
   },
   {
    "duration": 30,
    "start_time": "2023-05-23T10:55:23.755Z"
   },
   {
    "duration": 45,
    "start_time": "2023-05-23T10:55:59.814Z"
   },
   {
    "duration": 42,
    "start_time": "2023-05-23T10:56:11.513Z"
   },
   {
    "duration": 42,
    "start_time": "2023-05-23T11:30:42.023Z"
   },
   {
    "duration": 41,
    "start_time": "2023-05-23T11:31:21.265Z"
   },
   {
    "duration": 44,
    "start_time": "2023-05-23T11:33:21.039Z"
   },
   {
    "duration": 10,
    "start_time": "2023-05-23T11:37:23.026Z"
   },
   {
    "duration": 52,
    "start_time": "2023-05-23T11:38:55.028Z"
   },
   {
    "duration": 134,
    "start_time": "2023-05-23T11:59:13.243Z"
   },
   {
    "duration": 62,
    "start_time": "2023-05-23T11:59:51.143Z"
   },
   {
    "duration": 96,
    "start_time": "2023-05-23T12:00:43.822Z"
   },
   {
    "duration": 42,
    "start_time": "2023-05-23T12:02:49.872Z"
   },
   {
    "duration": 73,
    "start_time": "2023-05-23T12:02:55.881Z"
   },
   {
    "duration": 48,
    "start_time": "2023-05-23T14:30:44.899Z"
   },
   {
    "duration": 41,
    "start_time": "2023-05-23T14:31:16.418Z"
   },
   {
    "duration": 47,
    "start_time": "2023-05-23T15:26:31.800Z"
   },
   {
    "duration": 1316,
    "start_time": "2023-05-23T15:27:02.442Z"
   },
   {
    "duration": 214,
    "start_time": "2023-05-23T15:27:03.761Z"
   },
   {
    "duration": 10,
    "start_time": "2023-05-23T15:27:03.977Z"
   },
   {
    "duration": 45,
    "start_time": "2023-05-23T15:27:03.989Z"
   },
   {
    "duration": 44,
    "start_time": "2023-05-23T15:27:04.041Z"
   },
   {
    "duration": 29,
    "start_time": "2023-05-23T15:27:04.087Z"
   },
   {
    "duration": 123,
    "start_time": "2023-05-23T15:27:04.117Z"
   },
   {
    "duration": 99,
    "start_time": "2023-05-23T15:27:04.242Z"
   },
   {
    "duration": 1020,
    "start_time": "2023-05-23T15:27:04.343Z"
   },
   {
    "duration": 10,
    "start_time": "2023-05-23T15:27:05.365Z"
   },
   {
    "duration": 51,
    "start_time": "2023-05-23T15:27:05.377Z"
   },
   {
    "duration": 16,
    "start_time": "2023-05-23T15:27:05.435Z"
   },
   {
    "duration": 13,
    "start_time": "2023-05-23T15:27:05.453Z"
   },
   {
    "duration": 13,
    "start_time": "2023-05-23T15:27:05.470Z"
   },
   {
    "duration": 12,
    "start_time": "2023-05-23T15:27:05.485Z"
   },
   {
    "duration": 52,
    "start_time": "2023-05-23T15:27:05.499Z"
   },
   {
    "duration": 367,
    "start_time": "2023-05-23T15:27:05.553Z"
   },
   {
    "duration": 25,
    "start_time": "2023-05-23T15:27:05.929Z"
   },
   {
    "duration": 81,
    "start_time": "2023-05-23T15:27:05.956Z"
   },
   {
    "duration": 99,
    "start_time": "2023-05-23T15:27:06.039Z"
   },
   {
    "duration": 33,
    "start_time": "2023-05-23T15:27:06.139Z"
   },
   {
    "duration": 84,
    "start_time": "2023-05-23T15:27:06.174Z"
   },
   {
    "duration": 43,
    "start_time": "2023-05-23T15:27:06.259Z"
   },
   {
    "duration": 35,
    "start_time": "2023-05-23T15:27:06.304Z"
   },
   {
    "duration": 33,
    "start_time": "2023-05-23T15:27:06.343Z"
   },
   {
    "duration": 30,
    "start_time": "2023-05-23T15:27:06.377Z"
   },
   {
    "duration": 1328,
    "start_time": "2023-05-23T15:33:16.013Z"
   },
   {
    "duration": 177,
    "start_time": "2023-05-23T15:33:17.343Z"
   },
   {
    "duration": 15,
    "start_time": "2023-05-23T15:33:17.521Z"
   },
   {
    "duration": 40,
    "start_time": "2023-05-23T15:33:17.538Z"
   },
   {
    "duration": 24,
    "start_time": "2023-05-23T15:33:17.581Z"
   },
   {
    "duration": 28,
    "start_time": "2023-05-23T15:33:17.607Z"
   },
   {
    "duration": 71,
    "start_time": "2023-05-23T15:33:17.639Z"
   },
   {
    "duration": 96,
    "start_time": "2023-05-23T15:33:17.711Z"
   },
   {
    "duration": 967,
    "start_time": "2023-05-23T15:33:17.809Z"
   },
   {
    "duration": 9,
    "start_time": "2023-05-23T15:33:18.777Z"
   },
   {
    "duration": 52,
    "start_time": "2023-05-23T15:33:18.787Z"
   },
   {
    "duration": 11,
    "start_time": "2023-05-23T15:33:18.841Z"
   },
   {
    "duration": 20,
    "start_time": "2023-05-23T15:33:18.854Z"
   },
   {
    "duration": 16,
    "start_time": "2023-05-23T15:33:18.878Z"
   },
   {
    "duration": 17,
    "start_time": "2023-05-23T15:33:18.896Z"
   },
   {
    "duration": 62,
    "start_time": "2023-05-23T15:33:18.915Z"
   },
   {
    "duration": 362,
    "start_time": "2023-05-23T15:33:18.979Z"
   },
   {
    "duration": 17,
    "start_time": "2023-05-23T15:33:19.343Z"
   },
   {
    "duration": 94,
    "start_time": "2023-05-23T15:33:19.362Z"
   },
   {
    "duration": 104,
    "start_time": "2023-05-23T15:33:19.458Z"
   },
   {
    "duration": 34,
    "start_time": "2023-05-23T15:33:19.564Z"
   },
   {
    "duration": 159,
    "start_time": "2023-05-23T15:33:19.600Z"
   },
   {
    "duration": 137,
    "start_time": "2023-05-23T15:33:19.762Z"
   },
   {
    "duration": 0,
    "start_time": "2023-05-23T15:33:19.900Z"
   },
   {
    "duration": 0,
    "start_time": "2023-05-23T15:33:19.901Z"
   },
   {
    "duration": 0,
    "start_time": "2023-05-23T15:33:19.903Z"
   },
   {
    "duration": 66,
    "start_time": "2023-05-23T15:34:53.643Z"
   },
   {
    "duration": 50,
    "start_time": "2023-05-23T15:35:25.668Z"
   },
   {
    "duration": 1436,
    "start_time": "2023-05-23T15:37:07.762Z"
   },
   {
    "duration": 283,
    "start_time": "2023-05-23T15:37:09.201Z"
   },
   {
    "duration": 12,
    "start_time": "2023-05-23T15:37:09.487Z"
   },
   {
    "duration": 54,
    "start_time": "2023-05-23T15:37:09.501Z"
   },
   {
    "duration": 29,
    "start_time": "2023-05-23T15:37:09.560Z"
   },
   {
    "duration": 17,
    "start_time": "2023-05-23T15:37:09.591Z"
   },
   {
    "duration": 101,
    "start_time": "2023-05-23T15:37:09.610Z"
   },
   {
    "duration": 116,
    "start_time": "2023-05-23T15:37:09.713Z"
   },
   {
    "duration": 1202,
    "start_time": "2023-05-23T15:37:09.833Z"
   },
   {
    "duration": 13,
    "start_time": "2023-05-23T15:37:11.037Z"
   },
   {
    "duration": 64,
    "start_time": "2023-05-23T15:37:11.053Z"
   },
   {
    "duration": 44,
    "start_time": "2023-05-23T15:37:11.120Z"
   },
   {
    "duration": 29,
    "start_time": "2023-05-23T15:37:11.167Z"
   },
   {
    "duration": 18,
    "start_time": "2023-05-23T15:37:11.205Z"
   },
   {
    "duration": 11,
    "start_time": "2023-05-23T15:37:11.225Z"
   },
   {
    "duration": 136,
    "start_time": "2023-05-23T15:37:11.238Z"
   },
   {
    "duration": 474,
    "start_time": "2023-05-23T15:37:11.379Z"
   },
   {
    "duration": 22,
    "start_time": "2023-05-23T15:37:11.856Z"
   },
   {
    "duration": 135,
    "start_time": "2023-05-23T15:37:11.880Z"
   },
   {
    "duration": 121,
    "start_time": "2023-05-23T15:37:12.017Z"
   },
   {
    "duration": 62,
    "start_time": "2023-05-23T15:37:12.140Z"
   },
   {
    "duration": 154,
    "start_time": "2023-05-23T15:37:12.224Z"
   },
   {
    "duration": 85,
    "start_time": "2023-05-23T15:37:12.380Z"
   },
   {
    "duration": 12,
    "start_time": "2023-05-23T15:37:12.469Z"
   },
   {
    "duration": 69,
    "start_time": "2023-05-23T15:37:12.483Z"
   },
   {
    "duration": 40,
    "start_time": "2023-05-23T15:37:12.559Z"
   },
   {
    "duration": 147,
    "start_time": "2023-05-23T16:08:41.654Z"
   },
   {
    "duration": 1297,
    "start_time": "2023-05-23T16:08:49.282Z"
   },
   {
    "duration": 195,
    "start_time": "2023-05-23T16:08:50.581Z"
   },
   {
    "duration": 12,
    "start_time": "2023-05-23T16:08:50.777Z"
   },
   {
    "duration": 40,
    "start_time": "2023-05-23T16:08:50.790Z"
   },
   {
    "duration": 16,
    "start_time": "2023-05-23T16:08:50.835Z"
   },
   {
    "duration": 54,
    "start_time": "2023-05-23T16:08:50.853Z"
   },
   {
    "duration": 85,
    "start_time": "2023-05-23T16:08:50.909Z"
   },
   {
    "duration": 140,
    "start_time": "2023-05-23T16:08:50.997Z"
   },
   {
    "duration": 1053,
    "start_time": "2023-05-23T16:08:51.148Z"
   },
   {
    "duration": 10,
    "start_time": "2023-05-23T16:08:52.203Z"
   },
   {
    "duration": 51,
    "start_time": "2023-05-23T16:08:52.214Z"
   },
   {
    "duration": 22,
    "start_time": "2023-05-23T16:08:52.266Z"
   },
   {
    "duration": 9,
    "start_time": "2023-05-23T16:08:52.290Z"
   },
   {
    "duration": 15,
    "start_time": "2023-05-23T16:08:52.302Z"
   },
   {
    "duration": 8,
    "start_time": "2023-05-23T16:08:52.319Z"
   },
   {
    "duration": 70,
    "start_time": "2023-05-23T16:08:52.334Z"
   },
   {
    "duration": 374,
    "start_time": "2023-05-23T16:08:52.406Z"
   },
   {
    "duration": 17,
    "start_time": "2023-05-23T16:08:52.783Z"
   },
   {
    "duration": 110,
    "start_time": "2023-05-23T16:08:52.802Z"
   },
   {
    "duration": 128,
    "start_time": "2023-05-23T16:08:52.915Z"
   },
   {
    "duration": 53,
    "start_time": "2023-05-23T16:08:53.045Z"
   },
   {
    "duration": 100,
    "start_time": "2023-05-23T16:08:53.100Z"
   },
   {
    "duration": 70,
    "start_time": "2023-05-23T16:08:53.202Z"
   },
   {
    "duration": 108,
    "start_time": "2023-05-23T16:08:53.275Z"
   },
   {
    "duration": 14,
    "start_time": "2023-05-23T16:08:53.385Z"
   },
   {
    "duration": 64,
    "start_time": "2023-05-23T16:08:53.401Z"
   },
   {
    "duration": 33,
    "start_time": "2023-05-23T16:08:53.467Z"
   },
   {
    "duration": 62,
    "start_time": "2023-05-23T16:10:36.252Z"
   },
   {
    "duration": 1406,
    "start_time": "2023-05-23T16:12:51.292Z"
   },
   {
    "duration": 193,
    "start_time": "2023-05-23T16:12:52.700Z"
   },
   {
    "duration": 12,
    "start_time": "2023-05-23T16:12:52.895Z"
   },
   {
    "duration": 52,
    "start_time": "2023-05-23T16:12:52.909Z"
   },
   {
    "duration": 16,
    "start_time": "2023-05-23T16:12:52.966Z"
   },
   {
    "duration": 16,
    "start_time": "2023-05-23T16:12:52.984Z"
   },
   {
    "duration": 111,
    "start_time": "2023-05-23T16:12:53.002Z"
   },
   {
    "duration": 100,
    "start_time": "2023-05-23T16:12:53.114Z"
   },
   {
    "duration": 1097,
    "start_time": "2023-05-23T16:12:53.224Z"
   },
   {
    "duration": 39,
    "start_time": "2023-05-23T16:12:54.323Z"
   },
   {
    "duration": 36,
    "start_time": "2023-05-23T16:12:54.370Z"
   },
   {
    "duration": 10,
    "start_time": "2023-05-23T16:12:54.407Z"
   },
   {
    "duration": 60,
    "start_time": "2023-05-23T16:12:54.419Z"
   },
   {
    "duration": 11,
    "start_time": "2023-05-23T16:12:54.483Z"
   },
   {
    "duration": 25,
    "start_time": "2023-05-23T16:12:54.496Z"
   },
   {
    "duration": 55,
    "start_time": "2023-05-23T16:12:54.523Z"
   },
   {
    "duration": 441,
    "start_time": "2023-05-23T16:12:54.580Z"
   },
   {
    "duration": 29,
    "start_time": "2023-05-23T16:12:55.028Z"
   },
   {
    "duration": 142,
    "start_time": "2023-05-23T16:12:55.061Z"
   },
   {
    "duration": 141,
    "start_time": "2023-05-23T16:12:55.206Z"
   },
   {
    "duration": 47,
    "start_time": "2023-05-23T16:12:55.354Z"
   },
   {
    "duration": 101,
    "start_time": "2023-05-23T16:12:55.403Z"
   },
   {
    "duration": 84,
    "start_time": "2023-05-23T16:12:55.506Z"
   },
   {
    "duration": 112,
    "start_time": "2023-05-23T16:12:55.592Z"
   },
   {
    "duration": 10,
    "start_time": "2023-05-23T16:12:55.706Z"
   },
   {
    "duration": 56,
    "start_time": "2023-05-23T16:12:55.718Z"
   },
   {
    "duration": 39,
    "start_time": "2023-05-23T16:12:55.776Z"
   },
   {
    "duration": 78,
    "start_time": "2023-05-23T16:14:41.746Z"
   },
   {
    "duration": 75,
    "start_time": "2023-05-23T16:16:26.309Z"
   },
   {
    "duration": 1433,
    "start_time": "2023-05-23T16:38:18.521Z"
   },
   {
    "duration": 1318,
    "start_time": "2023-05-23T16:39:10.666Z"
   },
   {
    "duration": 7,
    "start_time": "2023-05-23T16:39:36.947Z"
   },
   {
    "duration": 1497,
    "start_time": "2023-05-23T16:39:48.197Z"
   },
   {
    "duration": 10,
    "start_time": "2023-05-23T16:40:08.219Z"
   },
   {
    "duration": 9,
    "start_time": "2023-05-23T16:41:20.708Z"
   },
   {
    "duration": 6,
    "start_time": "2023-05-23T16:41:30.874Z"
   },
   {
    "duration": 99,
    "start_time": "2023-05-23T16:41:47.690Z"
   },
   {
    "duration": 12,
    "start_time": "2023-05-23T16:51:32.542Z"
   },
   {
    "duration": 7,
    "start_time": "2023-05-23T16:52:12.365Z"
   },
   {
    "duration": 9,
    "start_time": "2023-05-23T16:53:14.340Z"
   },
   {
    "duration": 6,
    "start_time": "2023-05-23T16:54:31.494Z"
   },
   {
    "duration": 5,
    "start_time": "2023-05-23T16:54:42.104Z"
   },
   {
    "duration": 5,
    "start_time": "2023-05-23T16:55:12.802Z"
   },
   {
    "duration": 9,
    "start_time": "2023-05-23T16:55:24.327Z"
   },
   {
    "duration": 4,
    "start_time": "2023-05-23T16:56:06.961Z"
   },
   {
    "duration": 47,
    "start_time": "2023-05-24T06:38:09.626Z"
   },
   {
    "duration": 1336,
    "start_time": "2023-05-24T06:38:14.979Z"
   },
   {
    "duration": 687,
    "start_time": "2023-05-24T06:38:16.317Z"
   },
   {
    "duration": 11,
    "start_time": "2023-05-24T06:38:17.006Z"
   },
   {
    "duration": 24,
    "start_time": "2023-05-24T06:38:17.018Z"
   },
   {
    "duration": 11,
    "start_time": "2023-05-24T06:38:17.045Z"
   },
   {
    "duration": 22,
    "start_time": "2023-05-24T06:38:17.058Z"
   },
   {
    "duration": 64,
    "start_time": "2023-05-24T06:38:17.081Z"
   },
   {
    "duration": 92,
    "start_time": "2023-05-24T06:38:17.147Z"
   },
   {
    "duration": 863,
    "start_time": "2023-05-24T06:38:17.241Z"
   },
   {
    "duration": 9,
    "start_time": "2023-05-24T06:38:18.106Z"
   },
   {
    "duration": 25,
    "start_time": "2023-05-24T06:38:18.117Z"
   },
   {
    "duration": 9,
    "start_time": "2023-05-24T06:38:18.144Z"
   },
   {
    "duration": 23,
    "start_time": "2023-05-24T06:38:18.154Z"
   },
   {
    "duration": 10,
    "start_time": "2023-05-24T06:38:18.179Z"
   },
   {
    "duration": 6,
    "start_time": "2023-05-24T06:38:18.190Z"
   },
   {
    "duration": 27,
    "start_time": "2023-05-24T06:38:18.198Z"
   },
   {
    "duration": 346,
    "start_time": "2023-05-24T06:38:18.226Z"
   },
   {
    "duration": 14,
    "start_time": "2023-05-24T06:38:18.574Z"
   },
   {
    "duration": 65,
    "start_time": "2023-05-24T06:38:18.590Z"
   },
   {
    "duration": 89,
    "start_time": "2023-05-24T06:38:18.656Z"
   },
   {
    "duration": 40,
    "start_time": "2023-05-24T06:38:18.746Z"
   },
   {
    "duration": 58,
    "start_time": "2023-05-24T06:38:18.788Z"
   },
   {
    "duration": 57,
    "start_time": "2023-05-24T06:38:18.848Z"
   },
   {
    "duration": 72,
    "start_time": "2023-05-24T06:38:18.906Z"
   },
   {
    "duration": 57,
    "start_time": "2023-05-24T06:38:18.980Z"
   },
   {
    "duration": 12,
    "start_time": "2023-05-24T06:38:19.039Z"
   },
   {
    "duration": 25,
    "start_time": "2023-05-24T06:38:19.052Z"
   },
   {
    "duration": 46,
    "start_time": "2023-05-24T06:38:19.078Z"
   },
   {
    "duration": 81,
    "start_time": "2023-05-24T06:38:19.125Z"
   },
   {
    "duration": 37,
    "start_time": "2023-05-24T06:38:19.208Z"
   },
   {
    "duration": 41,
    "start_time": "2023-05-24T06:38:19.247Z"
   },
   {
    "duration": 115,
    "start_time": "2023-05-24T06:39:38.768Z"
   },
   {
    "duration": 15,
    "start_time": "2023-05-24T06:39:55.462Z"
   },
   {
    "duration": 1168,
    "start_time": "2023-05-24T06:40:14.306Z"
   },
   {
    "duration": 158,
    "start_time": "2023-05-24T06:40:15.476Z"
   },
   {
    "duration": 9,
    "start_time": "2023-05-24T06:40:15.635Z"
   },
   {
    "duration": 24,
    "start_time": "2023-05-24T06:40:15.646Z"
   },
   {
    "duration": 12,
    "start_time": "2023-05-24T06:40:15.672Z"
   },
   {
    "duration": 16,
    "start_time": "2023-05-24T06:40:15.685Z"
   },
   {
    "duration": 82,
    "start_time": "2023-05-24T06:40:15.702Z"
   },
   {
    "duration": 91,
    "start_time": "2023-05-24T06:40:15.785Z"
   },
   {
    "duration": 843,
    "start_time": "2023-05-24T06:40:15.878Z"
   },
   {
    "duration": 8,
    "start_time": "2023-05-24T06:40:16.723Z"
   },
   {
    "duration": 24,
    "start_time": "2023-05-24T06:40:16.732Z"
   },
   {
    "duration": 19,
    "start_time": "2023-05-24T06:40:16.757Z"
   },
   {
    "duration": 4,
    "start_time": "2023-05-24T06:40:16.778Z"
   },
   {
    "duration": 10,
    "start_time": "2023-05-24T06:40:16.784Z"
   },
   {
    "duration": 6,
    "start_time": "2023-05-24T06:40:16.795Z"
   },
   {
    "duration": 28,
    "start_time": "2023-05-24T06:40:16.802Z"
   },
   {
    "duration": 344,
    "start_time": "2023-05-24T06:40:16.831Z"
   },
   {
    "duration": 15,
    "start_time": "2023-05-24T06:40:17.177Z"
   },
   {
    "duration": 63,
    "start_time": "2023-05-24T06:40:17.194Z"
   },
   {
    "duration": 74,
    "start_time": "2023-05-24T06:40:17.276Z"
   },
   {
    "duration": 46,
    "start_time": "2023-05-24T06:40:17.352Z"
   },
   {
    "duration": 59,
    "start_time": "2023-05-24T06:40:17.400Z"
   },
   {
    "duration": 47,
    "start_time": "2023-05-24T06:40:17.474Z"
   },
   {
    "duration": 80,
    "start_time": "2023-05-24T06:40:17.523Z"
   },
   {
    "duration": 61,
    "start_time": "2023-05-24T06:40:17.604Z"
   },
   {
    "duration": 13,
    "start_time": "2023-05-24T06:40:17.675Z"
   },
   {
    "duration": 6,
    "start_time": "2023-05-24T06:40:17.690Z"
   },
   {
    "duration": 124,
    "start_time": "2023-05-24T06:40:17.697Z"
   },
   {
    "duration": 10,
    "start_time": "2023-05-24T06:40:17.823Z"
   },
   {
    "duration": 52,
    "start_time": "2023-05-24T06:40:17.835Z"
   },
   {
    "duration": 28,
    "start_time": "2023-05-24T06:40:17.889Z"
   },
   {
    "duration": 120,
    "start_time": "2023-05-24T06:45:03.676Z"
   },
   {
    "duration": 14,
    "start_time": "2023-05-24T06:45:11.263Z"
   },
   {
    "duration": 1134,
    "start_time": "2023-05-24T06:45:15.807Z"
   },
   {
    "duration": 154,
    "start_time": "2023-05-24T06:45:16.943Z"
   },
   {
    "duration": 9,
    "start_time": "2023-05-24T06:45:17.099Z"
   },
   {
    "duration": 20,
    "start_time": "2023-05-24T06:45:17.110Z"
   },
   {
    "duration": 10,
    "start_time": "2023-05-24T06:45:17.132Z"
   },
   {
    "duration": 39,
    "start_time": "2023-05-24T06:45:17.144Z"
   },
   {
    "duration": 62,
    "start_time": "2023-05-24T06:45:17.184Z"
   },
   {
    "duration": 96,
    "start_time": "2023-05-24T06:45:17.248Z"
   },
   {
    "duration": 854,
    "start_time": "2023-05-24T06:45:17.346Z"
   },
   {
    "duration": 9,
    "start_time": "2023-05-24T06:45:18.202Z"
   },
   {
    "duration": 33,
    "start_time": "2023-05-24T06:45:18.213Z"
   },
   {
    "duration": 9,
    "start_time": "2023-05-24T06:45:18.247Z"
   },
   {
    "duration": 6,
    "start_time": "2023-05-24T06:45:18.257Z"
   },
   {
    "duration": 10,
    "start_time": "2023-05-24T06:45:18.274Z"
   },
   {
    "duration": 41,
    "start_time": "2023-05-24T06:45:18.285Z"
   },
   {
    "duration": 34,
    "start_time": "2023-05-24T06:45:18.328Z"
   },
   {
    "duration": 342,
    "start_time": "2023-05-24T06:45:18.364Z"
   },
   {
    "duration": 16,
    "start_time": "2023-05-24T06:45:18.708Z"
   },
   {
    "duration": 82,
    "start_time": "2023-05-24T06:45:18.727Z"
   },
   {
    "duration": 87,
    "start_time": "2023-05-24T06:45:18.810Z"
   },
   {
    "duration": 32,
    "start_time": "2023-05-24T06:45:18.898Z"
   },
   {
    "duration": 71,
    "start_time": "2023-05-24T06:45:18.931Z"
   },
   {
    "duration": 44,
    "start_time": "2023-05-24T06:45:19.004Z"
   },
   {
    "duration": 75,
    "start_time": "2023-05-24T06:45:19.050Z"
   },
   {
    "duration": 68,
    "start_time": "2023-05-24T06:45:19.127Z"
   },
   {
    "duration": 12,
    "start_time": "2023-05-24T06:45:19.197Z"
   },
   {
    "duration": 7,
    "start_time": "2023-05-24T06:45:19.210Z"
   },
   {
    "duration": 1451,
    "start_time": "2023-05-24T06:45:19.219Z"
   },
   {
    "duration": 0,
    "start_time": "2023-05-24T06:45:20.672Z"
   },
   {
    "duration": 0,
    "start_time": "2023-05-24T06:45:20.673Z"
   },
   {
    "duration": 0,
    "start_time": "2023-05-24T06:45:20.675Z"
   },
   {
    "duration": 16,
    "start_time": "2023-05-24T06:45:39.415Z"
   },
   {
    "duration": 14,
    "start_time": "2023-05-24T06:46:13.014Z"
   },
   {
    "duration": 1170,
    "start_time": "2023-05-24T06:46:21.572Z"
   },
   {
    "duration": 159,
    "start_time": "2023-05-24T06:46:22.744Z"
   },
   {
    "duration": 10,
    "start_time": "2023-05-24T06:46:22.904Z"
   },
   {
    "duration": 20,
    "start_time": "2023-05-24T06:46:22.916Z"
   },
   {
    "duration": 11,
    "start_time": "2023-05-24T06:46:22.938Z"
   },
   {
    "duration": 38,
    "start_time": "2023-05-24T06:46:22.951Z"
   },
   {
    "duration": 63,
    "start_time": "2023-05-24T06:46:22.991Z"
   },
   {
    "duration": 105,
    "start_time": "2023-05-24T06:46:23.056Z"
   },
   {
    "duration": 950,
    "start_time": "2023-05-24T06:46:23.162Z"
   },
   {
    "duration": 13,
    "start_time": "2023-05-24T06:46:24.116Z"
   },
   {
    "duration": 29,
    "start_time": "2023-05-24T06:46:24.135Z"
   },
   {
    "duration": 12,
    "start_time": "2023-05-24T06:46:24.177Z"
   },
   {
    "duration": 20,
    "start_time": "2023-05-24T06:46:24.191Z"
   },
   {
    "duration": 13,
    "start_time": "2023-05-24T06:46:24.213Z"
   },
   {
    "duration": 9,
    "start_time": "2023-05-24T06:46:24.228Z"
   },
   {
    "duration": 47,
    "start_time": "2023-05-24T06:46:24.239Z"
   },
   {
    "duration": 326,
    "start_time": "2023-05-24T06:46:24.288Z"
   },
   {
    "duration": 14,
    "start_time": "2023-05-24T06:46:24.616Z"
   },
   {
    "duration": 73,
    "start_time": "2023-05-24T06:46:24.631Z"
   },
   {
    "duration": 88,
    "start_time": "2023-05-24T06:46:24.706Z"
   },
   {
    "duration": 37,
    "start_time": "2023-05-24T06:46:24.796Z"
   },
   {
    "duration": 83,
    "start_time": "2023-05-24T06:46:24.836Z"
   },
   {
    "duration": 60,
    "start_time": "2023-05-24T06:46:24.920Z"
   },
   {
    "duration": 77,
    "start_time": "2023-05-24T06:46:24.982Z"
   },
   {
    "duration": 60,
    "start_time": "2023-05-24T06:46:25.074Z"
   },
   {
    "duration": 13,
    "start_time": "2023-05-24T06:46:25.135Z"
   },
   {
    "duration": 4,
    "start_time": "2023-05-24T06:46:25.150Z"
   },
   {
    "duration": 51,
    "start_time": "2023-05-24T06:46:25.177Z"
   },
   {
    "duration": 9,
    "start_time": "2023-05-24T06:46:25.229Z"
   },
   {
    "duration": 50,
    "start_time": "2023-05-24T06:46:25.240Z"
   },
   {
    "duration": 28,
    "start_time": "2023-05-24T06:46:25.291Z"
   },
   {
    "duration": 111,
    "start_time": "2023-05-24T06:46:50.074Z"
   },
   {
    "duration": 1213,
    "start_time": "2023-05-24T06:46:56.987Z"
   },
   {
    "duration": 162,
    "start_time": "2023-05-24T06:46:58.203Z"
   },
   {
    "duration": 11,
    "start_time": "2023-05-24T06:46:58.367Z"
   },
   {
    "duration": 21,
    "start_time": "2023-05-24T06:46:58.380Z"
   },
   {
    "duration": 11,
    "start_time": "2023-05-24T06:46:58.405Z"
   },
   {
    "duration": 16,
    "start_time": "2023-05-24T06:46:58.418Z"
   },
   {
    "duration": 91,
    "start_time": "2023-05-24T06:46:58.435Z"
   },
   {
    "duration": 89,
    "start_time": "2023-05-24T06:46:58.528Z"
   },
   {
    "duration": 824,
    "start_time": "2023-05-24T06:46:58.619Z"
   },
   {
    "duration": 9,
    "start_time": "2023-05-24T06:46:59.444Z"
   },
   {
    "duration": 44,
    "start_time": "2023-05-24T06:46:59.455Z"
   },
   {
    "duration": 11,
    "start_time": "2023-05-24T06:46:59.501Z"
   },
   {
    "duration": 6,
    "start_time": "2023-05-24T06:46:59.513Z"
   },
   {
    "duration": 16,
    "start_time": "2023-05-24T06:46:59.522Z"
   },
   {
    "duration": 6,
    "start_time": "2023-05-24T06:46:59.540Z"
   },
   {
    "duration": 70,
    "start_time": "2023-05-24T06:46:59.548Z"
   },
   {
    "duration": 316,
    "start_time": "2023-05-24T06:46:59.620Z"
   },
   {
    "duration": 15,
    "start_time": "2023-05-24T06:46:59.937Z"
   },
   {
    "duration": 80,
    "start_time": "2023-05-24T06:46:59.953Z"
   },
   {
    "duration": 90,
    "start_time": "2023-05-24T06:47:00.035Z"
   },
   {
    "duration": 32,
    "start_time": "2023-05-24T06:47:00.126Z"
   },
   {
    "duration": 70,
    "start_time": "2023-05-24T06:47:00.159Z"
   },
   {
    "duration": 57,
    "start_time": "2023-05-24T06:47:00.231Z"
   },
   {
    "duration": 64,
    "start_time": "2023-05-24T06:47:00.290Z"
   },
   {
    "duration": 76,
    "start_time": "2023-05-24T06:47:00.355Z"
   },
   {
    "duration": 12,
    "start_time": "2023-05-24T06:47:00.433Z"
   },
   {
    "duration": 30,
    "start_time": "2023-05-24T06:47:00.447Z"
   },
   {
    "duration": 132,
    "start_time": "2023-05-24T06:47:00.479Z"
   },
   {
    "duration": 10,
    "start_time": "2023-05-24T06:47:00.613Z"
   },
   {
    "duration": 71,
    "start_time": "2023-05-24T06:47:00.625Z"
   },
   {
    "duration": 35,
    "start_time": "2023-05-24T06:47:00.698Z"
   },
   {
    "duration": 9,
    "start_time": "2023-05-24T08:51:04.210Z"
   },
   {
    "duration": 1208,
    "start_time": "2023-05-24T08:52:10.976Z"
   },
   {
    "duration": 172,
    "start_time": "2023-05-24T08:52:12.186Z"
   },
   {
    "duration": 12,
    "start_time": "2023-05-24T08:52:12.360Z"
   },
   {
    "duration": 30,
    "start_time": "2023-05-24T08:52:12.374Z"
   },
   {
    "duration": 14,
    "start_time": "2023-05-24T08:52:12.407Z"
   },
   {
    "duration": 27,
    "start_time": "2023-05-24T08:52:12.422Z"
   },
   {
    "duration": 74,
    "start_time": "2023-05-24T08:52:12.451Z"
   },
   {
    "duration": 91,
    "start_time": "2023-05-24T08:52:12.526Z"
   },
   {
    "duration": 870,
    "start_time": "2023-05-24T08:52:12.619Z"
   },
   {
    "duration": 11,
    "start_time": "2023-05-24T08:52:13.491Z"
   },
   {
    "duration": 25,
    "start_time": "2023-05-24T08:52:13.504Z"
   },
   {
    "duration": 10,
    "start_time": "2023-05-24T08:52:13.530Z"
   },
   {
    "duration": 3,
    "start_time": "2023-05-24T08:52:13.542Z"
   },
   {
    "duration": 11,
    "start_time": "2023-05-24T08:52:13.574Z"
   },
   {
    "duration": 9,
    "start_time": "2023-05-24T08:52:13.587Z"
   },
   {
    "duration": 44,
    "start_time": "2023-05-24T08:52:13.598Z"
   },
   {
    "duration": 367,
    "start_time": "2023-05-24T08:52:13.643Z"
   },
   {
    "duration": 17,
    "start_time": "2023-05-24T08:52:14.012Z"
   },
   {
    "duration": 113,
    "start_time": "2023-05-24T08:52:14.031Z"
   },
   {
    "duration": 130,
    "start_time": "2023-05-24T08:52:14.146Z"
   },
   {
    "duration": 46,
    "start_time": "2023-05-24T08:52:14.278Z"
   },
   {
    "duration": 94,
    "start_time": "2023-05-24T08:52:14.327Z"
   },
   {
    "duration": 59,
    "start_time": "2023-05-24T08:52:14.423Z"
   },
   {
    "duration": 64,
    "start_time": "2023-05-24T08:52:14.483Z"
   },
   {
    "duration": 78,
    "start_time": "2023-05-24T08:52:14.549Z"
   },
   {
    "duration": 13,
    "start_time": "2023-05-24T08:52:14.629Z"
   },
   {
    "duration": 10,
    "start_time": "2023-05-24T08:52:14.643Z"
   },
   {
    "duration": 123,
    "start_time": "2023-05-24T08:52:14.655Z"
   },
   {
    "duration": 9,
    "start_time": "2023-05-24T08:52:14.779Z"
   },
   {
    "duration": 127,
    "start_time": "2023-05-24T08:52:14.790Z"
   },
   {
    "duration": 0,
    "start_time": "2023-05-24T08:52:14.918Z"
   },
   {
    "duration": 0,
    "start_time": "2023-05-24T08:52:14.920Z"
   },
   {
    "duration": 0,
    "start_time": "2023-05-24T08:52:14.920Z"
   },
   {
    "duration": 54,
    "start_time": "2023-05-24T08:53:24.189Z"
   },
   {
    "duration": 46,
    "start_time": "2023-05-24T08:53:46.315Z"
   },
   {
    "duration": 8,
    "start_time": "2023-05-24T08:54:30.600Z"
   },
   {
    "duration": 65,
    "start_time": "2023-05-24T08:55:47.330Z"
   },
   {
    "duration": 75,
    "start_time": "2023-05-24T08:56:42.311Z"
   },
   {
    "duration": 7,
    "start_time": "2023-05-24T08:58:29.683Z"
   },
   {
    "duration": 49,
    "start_time": "2023-05-24T08:58:35.970Z"
   },
   {
    "duration": 9,
    "start_time": "2023-05-24T08:59:07.188Z"
   },
   {
    "duration": 77,
    "start_time": "2023-05-24T11:20:53.963Z"
   },
   {
    "duration": 67,
    "start_time": "2023-05-24T11:21:06.486Z"
   },
   {
    "duration": 71,
    "start_time": "2023-05-24T11:21:26.786Z"
   },
   {
    "duration": 65,
    "start_time": "2023-05-24T11:21:36.962Z"
   },
   {
    "duration": 66,
    "start_time": "2023-05-24T11:21:52.178Z"
   },
   {
    "duration": 63,
    "start_time": "2023-05-24T11:22:37.254Z"
   },
   {
    "duration": 9238,
    "start_time": "2023-05-24T11:22:49.604Z"
   },
   {
    "duration": 85,
    "start_time": "2023-05-24T13:11:56.763Z"
   },
   {
    "duration": 1293,
    "start_time": "2023-05-24T14:06:01.499Z"
   },
   {
    "duration": 166,
    "start_time": "2023-05-24T14:06:02.794Z"
   },
   {
    "duration": 9,
    "start_time": "2023-05-24T14:06:02.962Z"
   },
   {
    "duration": 29,
    "start_time": "2023-05-24T14:06:02.976Z"
   },
   {
    "duration": 11,
    "start_time": "2023-05-24T14:06:03.008Z"
   },
   {
    "duration": 15,
    "start_time": "2023-05-24T14:06:03.021Z"
   },
   {
    "duration": 93,
    "start_time": "2023-05-24T14:06:03.038Z"
   },
   {
    "duration": 104,
    "start_time": "2023-05-24T14:06:03.133Z"
   },
   {
    "duration": 998,
    "start_time": "2023-05-24T14:06:03.239Z"
   },
   {
    "duration": 9,
    "start_time": "2023-05-24T14:06:04.239Z"
   },
   {
    "duration": 42,
    "start_time": "2023-05-24T14:06:04.250Z"
   },
   {
    "duration": 10,
    "start_time": "2023-05-24T14:06:04.294Z"
   },
   {
    "duration": 5,
    "start_time": "2023-05-24T14:06:04.306Z"
   },
   {
    "duration": 11,
    "start_time": "2023-05-24T14:06:04.315Z"
   },
   {
    "duration": 10,
    "start_time": "2023-05-24T14:06:04.328Z"
   },
   {
    "duration": 77,
    "start_time": "2023-05-24T14:06:04.340Z"
   },
   {
    "duration": 387,
    "start_time": "2023-05-24T14:06:04.419Z"
   },
   {
    "duration": 16,
    "start_time": "2023-05-24T14:06:04.807Z"
   },
   {
    "duration": 101,
    "start_time": "2023-05-24T14:06:04.825Z"
   },
   {
    "duration": 98,
    "start_time": "2023-05-24T14:06:04.928Z"
   },
   {
    "duration": 34,
    "start_time": "2023-05-24T14:06:05.027Z"
   },
   {
    "duration": 82,
    "start_time": "2023-05-24T14:06:05.063Z"
   },
   {
    "duration": 69,
    "start_time": "2023-05-24T14:06:05.146Z"
   },
   {
    "duration": 81,
    "start_time": "2023-05-24T14:06:05.217Z"
   },
   {
    "duration": 61,
    "start_time": "2023-05-24T14:06:05.299Z"
   },
   {
    "duration": 20,
    "start_time": "2023-05-24T14:06:05.376Z"
   },
   {
    "duration": 11,
    "start_time": "2023-05-24T14:06:05.398Z"
   },
   {
    "duration": 135,
    "start_time": "2023-05-24T14:06:05.410Z"
   },
   {
    "duration": 9,
    "start_time": "2023-05-24T14:06:05.547Z"
   },
   {
    "duration": 79,
    "start_time": "2023-05-24T14:06:05.557Z"
   },
   {
    "duration": 9,
    "start_time": "2023-05-24T14:06:05.638Z"
   },
   {
    "duration": 62,
    "start_time": "2023-05-24T14:06:05.649Z"
   },
   {
    "duration": 30,
    "start_time": "2023-05-24T14:06:05.713Z"
   },
   {
    "duration": 60,
    "start_time": "2023-05-24T15:16:03.043Z"
   },
   {
    "duration": 87,
    "start_time": "2023-05-24T15:19:11.339Z"
   },
   {
    "duration": 102,
    "start_time": "2023-05-24T15:19:18.846Z"
   },
   {
    "duration": 114,
    "start_time": "2023-05-24T15:24:44.858Z"
   },
   {
    "duration": 91,
    "start_time": "2023-05-24T15:24:57.095Z"
   },
   {
    "duration": 113,
    "start_time": "2023-05-24T15:25:02.979Z"
   },
   {
    "duration": 109,
    "start_time": "2023-05-24T15:25:40.876Z"
   },
   {
    "duration": 105,
    "start_time": "2023-05-24T15:25:46.924Z"
   },
   {
    "duration": 107,
    "start_time": "2023-05-24T15:26:59.200Z"
   },
   {
    "duration": 118,
    "start_time": "2023-05-24T15:27:36.247Z"
   },
   {
    "duration": 269,
    "start_time": "2023-05-24T15:28:20.147Z"
   },
   {
    "duration": 113,
    "start_time": "2023-05-24T15:28:43.655Z"
   },
   {
    "duration": 120,
    "start_time": "2023-05-24T15:28:50.390Z"
   },
   {
    "duration": 125,
    "start_time": "2023-05-24T15:28:58.408Z"
   },
   {
    "duration": 124,
    "start_time": "2023-05-24T15:32:30.728Z"
   },
   {
    "duration": 112,
    "start_time": "2023-05-24T15:32:46.267Z"
   },
   {
    "duration": 117,
    "start_time": "2023-05-24T15:32:59.641Z"
   },
   {
    "duration": 122,
    "start_time": "2023-05-24T15:33:53.129Z"
   },
   {
    "duration": 148,
    "start_time": "2023-05-24T15:34:10.249Z"
   },
   {
    "duration": 106,
    "start_time": "2023-05-24T15:34:31.440Z"
   },
   {
    "duration": 149,
    "start_time": "2023-05-24T15:35:44.339Z"
   },
   {
    "duration": 153,
    "start_time": "2023-05-24T15:36:01.768Z"
   },
   {
    "duration": 116,
    "start_time": "2023-05-24T15:36:12.533Z"
   },
   {
    "duration": 97,
    "start_time": "2023-05-24T15:36:20.878Z"
   },
   {
    "duration": 139,
    "start_time": "2023-05-24T15:36:25.746Z"
   },
   {
    "duration": 106,
    "start_time": "2023-05-24T15:36:35.989Z"
   },
   {
    "duration": 1290,
    "start_time": "2023-05-24T15:51:09.558Z"
   },
   {
    "duration": 100,
    "start_time": "2023-05-24T15:51:29.542Z"
   },
   {
    "duration": 114,
    "start_time": "2023-05-24T15:51:34.751Z"
   },
   {
    "duration": 97,
    "start_time": "2023-05-24T15:51:48.885Z"
   },
   {
    "duration": 102,
    "start_time": "2023-05-24T15:51:57.878Z"
   },
   {
    "duration": 100,
    "start_time": "2023-05-24T15:52:22.145Z"
   },
   {
    "duration": 88,
    "start_time": "2023-05-24T15:52:46.842Z"
   },
   {
    "duration": 91,
    "start_time": "2023-05-24T15:53:03.788Z"
   },
   {
    "duration": 10,
    "start_time": "2023-05-24T15:53:15.241Z"
   },
   {
    "duration": 108,
    "start_time": "2023-05-24T15:54:22.459Z"
   },
   {
    "duration": 115,
    "start_time": "2023-05-24T15:54:39.449Z"
   },
   {
    "duration": 115,
    "start_time": "2023-05-24T15:54:53.507Z"
   },
   {
    "duration": 107,
    "start_time": "2023-05-24T15:55:01.746Z"
   },
   {
    "duration": 103,
    "start_time": "2023-05-24T15:55:17.458Z"
   },
   {
    "duration": 103,
    "start_time": "2023-05-24T15:55:35.752Z"
   },
   {
    "duration": 8,
    "start_time": "2023-05-24T15:57:21.759Z"
   },
   {
    "duration": 7,
    "start_time": "2023-05-24T15:57:39.845Z"
   },
   {
    "duration": 144,
    "start_time": "2023-05-24T15:57:40.685Z"
   },
   {
    "duration": 69,
    "start_time": "2023-05-24T15:58:40.905Z"
   },
   {
    "duration": 95,
    "start_time": "2023-05-24T16:03:28.955Z"
   },
   {
    "duration": 5,
    "start_time": "2023-05-24T16:03:35.658Z"
   },
   {
    "duration": 107,
    "start_time": "2023-05-24T16:03:36.440Z"
   },
   {
    "duration": 118,
    "start_time": "2023-05-24T16:07:34.175Z"
   },
   {
    "duration": 94,
    "start_time": "2023-05-24T16:07:43.146Z"
   },
   {
    "duration": 104,
    "start_time": "2023-05-24T16:08:01.115Z"
   },
   {
    "duration": 388,
    "start_time": "2023-05-24T16:11:02.278Z"
   },
   {
    "duration": 9,
    "start_time": "2023-05-24T16:11:03.008Z"
   },
   {
    "duration": 91,
    "start_time": "2023-05-24T16:12:02.349Z"
   },
   {
    "duration": 8,
    "start_time": "2023-05-24T16:12:02.975Z"
   },
   {
    "duration": 91,
    "start_time": "2023-05-24T16:12:23.001Z"
   },
   {
    "duration": 8,
    "start_time": "2023-05-24T16:12:23.588Z"
   },
   {
    "duration": 115,
    "start_time": "2023-05-24T16:18:33.334Z"
   },
   {
    "duration": 104,
    "start_time": "2023-05-24T16:19:21.995Z"
   },
   {
    "duration": 10,
    "start_time": "2023-05-24T16:19:22.889Z"
   },
   {
    "duration": 78,
    "start_time": "2023-05-24T16:19:41.846Z"
   },
   {
    "duration": 127,
    "start_time": "2023-05-24T16:19:54.019Z"
   },
   {
    "duration": 98,
    "start_time": "2023-05-24T16:20:01.278Z"
   },
   {
    "duration": 120,
    "start_time": "2023-05-24T16:20:15.456Z"
   },
   {
    "duration": 78,
    "start_time": "2023-05-24T16:20:34.705Z"
   },
   {
    "duration": 78,
    "start_time": "2023-05-24T16:20:43.518Z"
   },
   {
    "duration": 91,
    "start_time": "2023-05-24T16:20:48.618Z"
   },
   {
    "duration": 115,
    "start_time": "2023-05-24T16:21:13.448Z"
   },
   {
    "duration": 96,
    "start_time": "2023-05-24T16:21:26.565Z"
   },
   {
    "duration": 96,
    "start_time": "2023-05-24T16:21:36.542Z"
   },
   {
    "duration": 132,
    "start_time": "2023-05-24T16:23:23.950Z"
   },
   {
    "duration": 97,
    "start_time": "2023-05-24T16:23:46.354Z"
   },
   {
    "duration": 102,
    "start_time": "2023-05-24T16:39:10.139Z"
   },
   {
    "duration": 95,
    "start_time": "2023-05-24T16:40:25.894Z"
   },
   {
    "duration": 12,
    "start_time": "2023-05-24T16:46:28.760Z"
   },
   {
    "duration": 7,
    "start_time": "2023-05-24T16:46:34.882Z"
   },
   {
    "duration": 14,
    "start_time": "2023-05-24T16:46:37.199Z"
   },
   {
    "duration": 1371,
    "start_time": "2023-05-25T04:52:21.077Z"
   },
   {
    "duration": 713,
    "start_time": "2023-05-25T04:52:22.450Z"
   },
   {
    "duration": 13,
    "start_time": "2023-05-25T04:52:23.164Z"
   },
   {
    "duration": 23,
    "start_time": "2023-05-25T04:52:23.178Z"
   },
   {
    "duration": 12,
    "start_time": "2023-05-25T04:52:23.204Z"
   },
   {
    "duration": 16,
    "start_time": "2023-05-25T04:52:23.218Z"
   },
   {
    "duration": 90,
    "start_time": "2023-05-25T04:52:23.236Z"
   },
   {
    "duration": 90,
    "start_time": "2023-05-25T04:52:23.328Z"
   },
   {
    "duration": 1038,
    "start_time": "2023-05-25T04:52:23.420Z"
   },
   {
    "duration": 19,
    "start_time": "2023-05-25T04:52:24.461Z"
   },
   {
    "duration": 26,
    "start_time": "2023-05-25T04:52:24.482Z"
   },
   {
    "duration": 10,
    "start_time": "2023-05-25T04:52:24.510Z"
   },
   {
    "duration": 10,
    "start_time": "2023-05-25T04:52:24.522Z"
   },
   {
    "duration": 14,
    "start_time": "2023-05-25T04:52:24.536Z"
   },
   {
    "duration": 10,
    "start_time": "2023-05-25T04:52:24.574Z"
   },
   {
    "duration": 43,
    "start_time": "2023-05-25T04:52:24.587Z"
   },
   {
    "duration": 393,
    "start_time": "2023-05-25T04:52:24.632Z"
   },
   {
    "duration": 15,
    "start_time": "2023-05-25T04:52:25.027Z"
   },
   {
    "duration": 84,
    "start_time": "2023-05-25T04:52:25.044Z"
   },
   {
    "duration": 100,
    "start_time": "2023-05-25T04:52:25.129Z"
   },
   {
    "duration": 57,
    "start_time": "2023-05-25T04:52:25.233Z"
   },
   {
    "duration": 85,
    "start_time": "2023-05-25T04:52:25.292Z"
   },
   {
    "duration": 58,
    "start_time": "2023-05-25T04:52:25.379Z"
   },
   {
    "duration": 108,
    "start_time": "2023-05-25T04:52:25.442Z"
   },
   {
    "duration": 87,
    "start_time": "2023-05-25T04:52:25.552Z"
   },
   {
    "duration": 16,
    "start_time": "2023-05-25T04:52:25.641Z"
   },
   {
    "duration": 6,
    "start_time": "2023-05-25T04:52:25.675Z"
   },
   {
    "duration": 138,
    "start_time": "2023-05-25T04:52:25.683Z"
   },
   {
    "duration": 10,
    "start_time": "2023-05-25T04:52:25.822Z"
   },
   {
    "duration": 8,
    "start_time": "2023-05-25T04:52:25.834Z"
   },
   {
    "duration": 121,
    "start_time": "2023-05-25T04:52:25.843Z"
   },
   {
    "duration": 162,
    "start_time": "2023-05-25T04:52:25.966Z"
   },
   {
    "duration": 0,
    "start_time": "2023-05-25T04:52:26.130Z"
   },
   {
    "duration": 0,
    "start_time": "2023-05-25T04:52:26.132Z"
   },
   {
    "duration": 0,
    "start_time": "2023-05-25T04:52:26.134Z"
   },
   {
    "duration": 441,
    "start_time": "2023-05-25T06:15:22.490Z"
   },
   {
    "duration": 106,
    "start_time": "2023-05-25T06:15:44.547Z"
   },
   {
    "duration": 454,
    "start_time": "2023-05-25T06:16:25.808Z"
   },
   {
    "duration": 104,
    "start_time": "2023-05-25T06:16:45.891Z"
   },
   {
    "duration": 1247,
    "start_time": "2023-05-25T06:16:49.966Z"
   },
   {
    "duration": 14,
    "start_time": "2023-05-25T06:17:09.468Z"
   },
   {
    "duration": 9,
    "start_time": "2023-05-25T06:17:10.907Z"
   },
   {
    "duration": 5,
    "start_time": "2023-05-25T06:18:50.895Z"
   },
   {
    "duration": 140,
    "start_time": "2023-05-25T06:18:54.308Z"
   },
   {
    "duration": 25,
    "start_time": "2023-05-25T06:18:54.992Z"
   },
   {
    "duration": 104,
    "start_time": "2023-05-25T06:26:42.157Z"
   },
   {
    "duration": 8,
    "start_time": "2023-05-25T06:26:50.102Z"
   },
   {
    "duration": 20,
    "start_time": "2023-05-25T06:27:11.312Z"
   },
   {
    "duration": 10,
    "start_time": "2023-05-25T06:27:59.868Z"
   },
   {
    "duration": 18,
    "start_time": "2023-05-25T06:48:43.867Z"
   },
   {
    "duration": 11,
    "start_time": "2023-05-25T06:49:17.215Z"
   },
   {
    "duration": 12,
    "start_time": "2023-05-25T06:49:42.940Z"
   },
   {
    "duration": 7,
    "start_time": "2023-05-25T06:50:00.947Z"
   },
   {
    "duration": 8,
    "start_time": "2023-05-25T06:50:14.707Z"
   },
   {
    "duration": 7,
    "start_time": "2023-05-25T06:50:27.949Z"
   },
   {
    "duration": 32,
    "start_time": "2023-05-25T06:58:56.431Z"
   },
   {
    "duration": 101,
    "start_time": "2023-05-25T06:59:17.997Z"
   },
   {
    "duration": 79,
    "start_time": "2023-05-25T06:59:24.257Z"
   },
   {
    "duration": 21,
    "start_time": "2023-05-25T06:59:31.784Z"
   },
   {
    "duration": 5,
    "start_time": "2023-05-25T06:59:56.544Z"
   },
   {
    "duration": 57,
    "start_time": "2023-05-25T07:01:00.500Z"
   },
   {
    "duration": 5,
    "start_time": "2023-05-25T07:21:32.227Z"
   },
   {
    "duration": 9,
    "start_time": "2023-05-25T07:22:01.276Z"
   },
   {
    "duration": 4,
    "start_time": "2023-05-25T07:22:06.428Z"
   },
   {
    "duration": 20,
    "start_time": "2023-05-25T07:23:01.367Z"
   },
   {
    "duration": 18,
    "start_time": "2023-05-25T07:23:24.789Z"
   },
   {
    "duration": 10,
    "start_time": "2023-05-25T07:23:41.267Z"
   },
   {
    "duration": 8,
    "start_time": "2023-05-25T07:24:25.227Z"
   },
   {
    "duration": 10,
    "start_time": "2023-05-25T07:24:33.796Z"
   },
   {
    "duration": 14,
    "start_time": "2023-05-25T07:29:10.660Z"
   },
   {
    "duration": 9,
    "start_time": "2023-05-25T07:29:21.747Z"
   },
   {
    "duration": 19,
    "start_time": "2023-05-25T07:30:51.365Z"
   },
   {
    "duration": 99,
    "start_time": "2023-05-25T07:31:12.435Z"
   },
   {
    "duration": 14,
    "start_time": "2023-05-25T07:31:44.595Z"
   },
   {
    "duration": 177,
    "start_time": "2023-05-25T07:31:56.655Z"
   },
   {
    "duration": 8,
    "start_time": "2023-05-25T07:33:27.149Z"
   },
   {
    "duration": 11,
    "start_time": "2023-05-25T07:33:31.807Z"
   },
   {
    "duration": 9,
    "start_time": "2023-05-25T07:33:37.108Z"
   },
   {
    "duration": 106,
    "start_time": "2023-05-25T07:33:42.747Z"
   },
   {
    "duration": 13,
    "start_time": "2023-05-25T07:36:01.890Z"
   },
   {
    "duration": 14,
    "start_time": "2023-05-25T07:36:39.118Z"
   },
   {
    "duration": 10,
    "start_time": "2023-05-25T07:37:21.420Z"
   },
   {
    "duration": 96,
    "start_time": "2023-05-25T07:38:04.998Z"
   },
   {
    "duration": 14,
    "start_time": "2023-05-25T07:38:12.658Z"
   },
   {
    "duration": 22,
    "start_time": "2023-05-25T07:39:22.461Z"
   },
   {
    "duration": 14,
    "start_time": "2023-05-25T07:39:32.358Z"
   },
   {
    "duration": 9,
    "start_time": "2023-05-25T07:39:51.507Z"
   },
   {
    "duration": 11,
    "start_time": "2023-05-25T07:39:52.140Z"
   },
   {
    "duration": 9,
    "start_time": "2023-05-25T07:40:37.740Z"
   },
   {
    "duration": 8,
    "start_time": "2023-05-25T07:40:45.359Z"
   },
   {
    "duration": 9,
    "start_time": "2023-05-25T07:40:52.886Z"
   },
   {
    "duration": 9,
    "start_time": "2023-05-25T07:42:54.086Z"
   },
   {
    "duration": 12,
    "start_time": "2023-05-25T07:43:55.859Z"
   },
   {
    "duration": 8,
    "start_time": "2023-05-25T07:44:17.839Z"
   },
   {
    "duration": 1225,
    "start_time": "2023-05-25T07:44:24.076Z"
   },
   {
    "duration": 699,
    "start_time": "2023-05-25T07:44:25.304Z"
   },
   {
    "duration": 9,
    "start_time": "2023-05-25T07:44:26.005Z"
   },
   {
    "duration": 26,
    "start_time": "2023-05-25T07:44:26.015Z"
   },
   {
    "duration": 11,
    "start_time": "2023-05-25T07:44:26.045Z"
   },
   {
    "duration": 29,
    "start_time": "2023-05-25T07:44:26.058Z"
   },
   {
    "duration": 67,
    "start_time": "2023-05-25T07:44:26.089Z"
   },
   {
    "duration": 135,
    "start_time": "2023-05-25T07:44:26.158Z"
   },
   {
    "duration": 886,
    "start_time": "2023-05-25T07:44:26.295Z"
   },
   {
    "duration": 9,
    "start_time": "2023-05-25T07:44:27.183Z"
   },
   {
    "duration": 24,
    "start_time": "2023-05-25T07:44:27.196Z"
   },
   {
    "duration": 12,
    "start_time": "2023-05-25T07:44:27.222Z"
   },
   {
    "duration": 4,
    "start_time": "2023-05-25T07:44:27.236Z"
   },
   {
    "duration": 10,
    "start_time": "2023-05-25T07:44:27.274Z"
   },
   {
    "duration": 8,
    "start_time": "2023-05-25T07:44:27.286Z"
   },
   {
    "duration": 41,
    "start_time": "2023-05-25T07:44:27.296Z"
   },
   {
    "duration": 382,
    "start_time": "2023-05-25T07:44:27.339Z"
   },
   {
    "duration": 16,
    "start_time": "2023-05-25T07:44:27.722Z"
   },
   {
    "duration": 94,
    "start_time": "2023-05-25T07:44:27.740Z"
   },
   {
    "duration": 148,
    "start_time": "2023-05-25T07:44:27.835Z"
   },
   {
    "duration": 38,
    "start_time": "2023-05-25T07:44:27.984Z"
   },
   {
    "duration": 93,
    "start_time": "2023-05-25T07:44:28.025Z"
   },
   {
    "duration": 25,
    "start_time": "2023-05-25T07:44:28.120Z"
   },
   {
    "duration": 84,
    "start_time": "2023-05-25T07:44:28.147Z"
   },
   {
    "duration": 82,
    "start_time": "2023-05-25T07:44:28.233Z"
   },
   {
    "duration": 15,
    "start_time": "2023-05-25T07:44:28.317Z"
   },
   {
    "duration": 12,
    "start_time": "2023-05-25T07:44:28.334Z"
   },
   {
    "duration": 137,
    "start_time": "2023-05-25T07:44:28.347Z"
   },
   {
    "duration": 13,
    "start_time": "2023-05-25T07:44:28.486Z"
   },
   {
    "duration": 131,
    "start_time": "2023-05-25T07:44:28.501Z"
   },
   {
    "duration": 12,
    "start_time": "2023-05-25T07:44:28.634Z"
   },
   {
    "duration": 7,
    "start_time": "2023-05-25T07:44:28.648Z"
   },
   {
    "duration": 190,
    "start_time": "2023-05-25T07:44:28.657Z"
   },
   {
    "duration": 0,
    "start_time": "2023-05-25T07:44:28.848Z"
   },
   {
    "duration": 0,
    "start_time": "2023-05-25T07:44:28.850Z"
   },
   {
    "duration": 0,
    "start_time": "2023-05-25T07:44:28.851Z"
   },
   {
    "duration": 0,
    "start_time": "2023-05-25T07:44:28.852Z"
   },
   {
    "duration": 0,
    "start_time": "2023-05-25T07:44:28.853Z"
   },
   {
    "duration": 0,
    "start_time": "2023-05-25T07:44:28.854Z"
   },
   {
    "duration": 0,
    "start_time": "2023-05-25T07:44:28.855Z"
   },
   {
    "duration": 9,
    "start_time": "2023-05-25T07:45:08.763Z"
   },
   {
    "duration": 1386,
    "start_time": "2023-05-25T07:45:33.643Z"
   },
   {
    "duration": 206,
    "start_time": "2023-05-25T07:45:35.031Z"
   },
   {
    "duration": 11,
    "start_time": "2023-05-25T07:45:35.238Z"
   },
   {
    "duration": 34,
    "start_time": "2023-05-25T07:45:35.251Z"
   },
   {
    "duration": 12,
    "start_time": "2023-05-25T07:45:35.287Z"
   },
   {
    "duration": 15,
    "start_time": "2023-05-25T07:45:35.301Z"
   },
   {
    "duration": 90,
    "start_time": "2023-05-25T07:45:35.318Z"
   },
   {
    "duration": 90,
    "start_time": "2023-05-25T07:45:35.410Z"
   },
   {
    "duration": 989,
    "start_time": "2023-05-25T07:45:35.502Z"
   },
   {
    "duration": 10,
    "start_time": "2023-05-25T07:45:36.493Z"
   },
   {
    "duration": 34,
    "start_time": "2023-05-25T07:45:36.505Z"
   },
   {
    "duration": 9,
    "start_time": "2023-05-25T07:45:36.541Z"
   },
   {
    "duration": 23,
    "start_time": "2023-05-25T07:45:36.552Z"
   },
   {
    "duration": 15,
    "start_time": "2023-05-25T07:45:36.578Z"
   },
   {
    "duration": 8,
    "start_time": "2023-05-25T07:45:36.595Z"
   },
   {
    "duration": 71,
    "start_time": "2023-05-25T07:45:36.604Z"
   },
   {
    "duration": 350,
    "start_time": "2023-05-25T07:45:36.677Z"
   },
   {
    "duration": 19,
    "start_time": "2023-05-25T07:45:37.030Z"
   },
   {
    "duration": 124,
    "start_time": "2023-05-25T07:45:37.052Z"
   },
   {
    "duration": 83,
    "start_time": "2023-05-25T07:45:37.177Z"
   },
   {
    "duration": 42,
    "start_time": "2023-05-25T07:45:37.262Z"
   },
   {
    "duration": 76,
    "start_time": "2023-05-25T07:45:37.306Z"
   },
   {
    "duration": 25,
    "start_time": "2023-05-25T07:45:37.383Z"
   },
   {
    "duration": 132,
    "start_time": "2023-05-25T07:45:37.410Z"
   },
   {
    "duration": 71,
    "start_time": "2023-05-25T07:45:37.544Z"
   },
   {
    "duration": 15,
    "start_time": "2023-05-25T07:45:37.616Z"
   },
   {
    "duration": 5,
    "start_time": "2023-05-25T07:45:37.633Z"
   },
   {
    "duration": 151,
    "start_time": "2023-05-25T07:45:37.640Z"
   },
   {
    "duration": 9,
    "start_time": "2023-05-25T07:45:37.793Z"
   },
   {
    "duration": 147,
    "start_time": "2023-05-25T07:45:37.804Z"
   },
   {
    "duration": 9,
    "start_time": "2023-05-25T07:45:37.952Z"
   },
   {
    "duration": 13,
    "start_time": "2023-05-25T07:45:37.962Z"
   },
   {
    "duration": 6,
    "start_time": "2023-05-25T07:45:37.977Z"
   },
   {
    "duration": 140,
    "start_time": "2023-05-25T07:45:37.985Z"
   },
   {
    "duration": 0,
    "start_time": "2023-05-25T07:45:38.127Z"
   },
   {
    "duration": 0,
    "start_time": "2023-05-25T07:45:38.129Z"
   },
   {
    "duration": 0,
    "start_time": "2023-05-25T07:45:38.130Z"
   },
   {
    "duration": 0,
    "start_time": "2023-05-25T07:45:38.132Z"
   },
   {
    "duration": 0,
    "start_time": "2023-05-25T07:45:38.133Z"
   },
   {
    "duration": 0,
    "start_time": "2023-05-25T07:45:38.135Z"
   },
   {
    "duration": 12,
    "start_time": "2023-05-25T07:46:02.428Z"
   },
   {
    "duration": 100,
    "start_time": "2023-05-25T07:49:20.358Z"
   },
   {
    "duration": 97,
    "start_time": "2023-05-25T07:49:26.678Z"
   },
   {
    "duration": 6,
    "start_time": "2023-05-25T07:49:43.819Z"
   },
   {
    "duration": 3,
    "start_time": "2023-05-25T07:49:59.933Z"
   },
   {
    "duration": 7,
    "start_time": "2023-05-25T07:50:04.998Z"
   },
   {
    "duration": 13,
    "start_time": "2023-05-25T07:50:16.578Z"
   },
   {
    "duration": 9,
    "start_time": "2023-05-25T08:32:07.898Z"
   },
   {
    "duration": 54,
    "start_time": "2023-05-25T08:32:30.427Z"
   },
   {
    "duration": 49,
    "start_time": "2023-05-25T08:33:47.338Z"
   },
   {
    "duration": 72,
    "start_time": "2023-05-25T08:34:29.658Z"
   },
   {
    "duration": 48,
    "start_time": "2023-05-25T08:34:48.998Z"
   },
   {
    "duration": 58,
    "start_time": "2023-05-25T08:34:57.358Z"
   },
   {
    "duration": 48,
    "start_time": "2023-05-25T08:35:03.805Z"
   },
   {
    "duration": 50,
    "start_time": "2023-05-25T08:36:00.046Z"
   },
   {
    "duration": 44,
    "start_time": "2023-05-25T08:36:22.986Z"
   },
   {
    "duration": 8,
    "start_time": "2023-05-25T08:36:52.517Z"
   },
   {
    "duration": 19,
    "start_time": "2023-05-25T08:47:12.378Z"
   },
   {
    "duration": 13,
    "start_time": "2023-05-25T09:45:14.333Z"
   },
   {
    "duration": 6,
    "start_time": "2023-05-25T09:45:26.002Z"
   },
   {
    "duration": 37,
    "start_time": "2023-05-25T09:45:29.483Z"
   },
   {
    "duration": 8,
    "start_time": "2023-05-25T10:05:28.127Z"
   },
   {
    "duration": 24,
    "start_time": "2023-05-25T10:05:29.423Z"
   },
   {
    "duration": 9,
    "start_time": "2023-05-25T10:05:55.248Z"
   },
   {
    "duration": 34,
    "start_time": "2023-05-25T10:05:55.571Z"
   },
   {
    "duration": 104,
    "start_time": "2023-05-25T10:06:52.242Z"
   },
   {
    "duration": 8,
    "start_time": "2023-05-25T10:06:53.691Z"
   },
   {
    "duration": 31,
    "start_time": "2023-05-25T10:06:56.442Z"
   },
   {
    "duration": 115,
    "start_time": "2023-05-25T10:09:42.430Z"
   },
   {
    "duration": 112,
    "start_time": "2023-05-25T10:09:51.850Z"
   },
   {
    "duration": 130,
    "start_time": "2023-05-25T10:10:08.098Z"
   },
   {
    "duration": 15,
    "start_time": "2023-05-25T10:10:38.742Z"
   },
   {
    "duration": 80,
    "start_time": "2023-05-25T10:10:45.593Z"
   },
   {
    "duration": 119,
    "start_time": "2023-05-25T10:11:18.669Z"
   },
   {
    "duration": 97,
    "start_time": "2023-05-25T10:11:25.710Z"
   },
   {
    "duration": 7,
    "start_time": "2023-05-25T10:11:32.709Z"
   },
   {
    "duration": 27,
    "start_time": "2023-05-25T10:11:33.341Z"
   },
   {
    "duration": 1267,
    "start_time": "2023-05-25T10:11:40.443Z"
   },
   {
    "duration": 727,
    "start_time": "2023-05-25T10:11:41.713Z"
   },
   {
    "duration": 12,
    "start_time": "2023-05-25T10:11:42.442Z"
   },
   {
    "duration": 31,
    "start_time": "2023-05-25T10:11:42.455Z"
   },
   {
    "duration": 14,
    "start_time": "2023-05-25T10:11:42.489Z"
   },
   {
    "duration": 24,
    "start_time": "2023-05-25T10:11:42.504Z"
   },
   {
    "duration": 91,
    "start_time": "2023-05-25T10:11:42.530Z"
   },
   {
    "duration": 90,
    "start_time": "2023-05-25T10:11:42.623Z"
   },
   {
    "duration": 891,
    "start_time": "2023-05-25T10:11:42.715Z"
   },
   {
    "duration": 9,
    "start_time": "2023-05-25T10:11:43.608Z"
   },
   {
    "duration": 28,
    "start_time": "2023-05-25T10:11:43.619Z"
   },
   {
    "duration": 26,
    "start_time": "2023-05-25T10:11:43.650Z"
   },
   {
    "duration": 4,
    "start_time": "2023-05-25T10:11:43.678Z"
   },
   {
    "duration": 18,
    "start_time": "2023-05-25T10:11:43.685Z"
   },
   {
    "duration": 7,
    "start_time": "2023-05-25T10:11:43.704Z"
   },
   {
    "duration": 30,
    "start_time": "2023-05-25T10:11:43.713Z"
   },
   {
    "duration": 421,
    "start_time": "2023-05-25T10:11:43.744Z"
   },
   {
    "duration": 22,
    "start_time": "2023-05-25T10:11:44.174Z"
   },
   {
    "duration": 144,
    "start_time": "2023-05-25T10:11:44.198Z"
   },
   {
    "duration": 120,
    "start_time": "2023-05-25T10:11:44.344Z"
   },
   {
    "duration": 50,
    "start_time": "2023-05-25T10:11:44.474Z"
   },
   {
    "duration": 119,
    "start_time": "2023-05-25T10:11:44.526Z"
   },
   {
    "duration": 42,
    "start_time": "2023-05-25T10:11:44.648Z"
   },
   {
    "duration": 83,
    "start_time": "2023-05-25T10:11:44.692Z"
   },
   {
    "duration": 70,
    "start_time": "2023-05-25T10:11:44.777Z"
   },
   {
    "duration": 28,
    "start_time": "2023-05-25T10:11:44.850Z"
   },
   {
    "duration": 4,
    "start_time": "2023-05-25T10:11:44.880Z"
   },
   {
    "duration": 159,
    "start_time": "2023-05-25T10:11:44.886Z"
   },
   {
    "duration": 61,
    "start_time": "2023-05-25T10:11:45.046Z"
   },
   {
    "duration": 105,
    "start_time": "2023-05-25T10:11:45.109Z"
   },
   {
    "duration": 5,
    "start_time": "2023-05-25T10:11:45.216Z"
   },
   {
    "duration": 48,
    "start_time": "2023-05-25T10:11:45.223Z"
   },
   {
    "duration": 176,
    "start_time": "2023-05-25T10:34:24.242Z"
   },
   {
    "duration": 490,
    "start_time": "2023-05-25T13:51:55.699Z"
   },
   {
    "duration": 119,
    "start_time": "2023-05-25T14:06:42.278Z"
   },
   {
    "duration": 1332,
    "start_time": "2023-05-25T14:06:51.520Z"
   },
   {
    "duration": 755,
    "start_time": "2023-05-25T14:06:52.854Z"
   },
   {
    "duration": 9,
    "start_time": "2023-05-25T14:06:53.611Z"
   },
   {
    "duration": 21,
    "start_time": "2023-05-25T14:06:53.622Z"
   },
   {
    "duration": 15,
    "start_time": "2023-05-25T14:06:53.645Z"
   },
   {
    "duration": 22,
    "start_time": "2023-05-25T14:06:53.661Z"
   },
   {
    "duration": 65,
    "start_time": "2023-05-25T14:06:53.685Z"
   },
   {
    "duration": 109,
    "start_time": "2023-05-25T14:06:53.753Z"
   },
   {
    "duration": 959,
    "start_time": "2023-05-25T14:06:53.864Z"
   },
   {
    "duration": 10,
    "start_time": "2023-05-25T14:06:54.825Z"
   },
   {
    "duration": 28,
    "start_time": "2023-05-25T14:06:54.837Z"
   },
   {
    "duration": 16,
    "start_time": "2023-05-25T14:06:54.876Z"
   },
   {
    "duration": 4,
    "start_time": "2023-05-25T14:06:54.894Z"
   },
   {
    "duration": 11,
    "start_time": "2023-05-25T14:06:54.900Z"
   },
   {
    "duration": 8,
    "start_time": "2023-05-25T14:06:54.912Z"
   },
   {
    "duration": 58,
    "start_time": "2023-05-25T14:06:54.922Z"
   },
   {
    "duration": 350,
    "start_time": "2023-05-25T14:06:54.982Z"
   },
   {
    "duration": 16,
    "start_time": "2023-05-25T14:06:55.333Z"
   },
   {
    "duration": 80,
    "start_time": "2023-05-25T14:06:55.351Z"
   },
   {
    "duration": 91,
    "start_time": "2023-05-25T14:06:55.433Z"
   },
   {
    "duration": 34,
    "start_time": "2023-05-25T14:06:55.527Z"
   },
   {
    "duration": 69,
    "start_time": "2023-05-25T14:06:55.576Z"
   },
   {
    "duration": 45,
    "start_time": "2023-05-25T14:06:55.647Z"
   },
   {
    "duration": 81,
    "start_time": "2023-05-25T14:06:55.694Z"
   },
   {
    "duration": 65,
    "start_time": "2023-05-25T14:06:55.777Z"
   },
   {
    "duration": 30,
    "start_time": "2023-05-25T14:06:55.844Z"
   },
   {
    "duration": 151,
    "start_time": "2023-05-25T14:06:55.876Z"
   },
   {
    "duration": 3,
    "start_time": "2023-05-25T14:06:56.029Z"
   },
   {
    "duration": 39,
    "start_time": "2023-05-25T14:06:56.034Z"
   },
   {
    "duration": 4,
    "start_time": "2023-05-25T14:06:56.075Z"
   },
   {
    "duration": 51,
    "start_time": "2023-05-25T14:06:56.081Z"
   },
   {
    "duration": 71,
    "start_time": "2023-05-25T14:06:56.134Z"
   },
   {
    "duration": 120,
    "start_time": "2023-05-25T14:06:56.207Z"
   },
   {
    "duration": 6,
    "start_time": "2023-05-25T14:06:56.329Z"
   },
   {
    "duration": 46,
    "start_time": "2023-05-25T14:06:56.336Z"
   },
   {
    "duration": 190,
    "start_time": "2023-05-25T14:06:56.384Z"
   },
   {
    "duration": 3,
    "start_time": "2023-05-25T14:07:21.159Z"
   },
   {
    "duration": 3,
    "start_time": "2023-05-25T14:07:53.699Z"
   },
   {
    "duration": 168,
    "start_time": "2023-05-25T14:08:30.746Z"
   },
   {
    "duration": 164,
    "start_time": "2023-05-25T14:14:09.423Z"
   },
   {
    "duration": 166,
    "start_time": "2023-05-25T14:14:28.899Z"
   },
   {
    "duration": 155,
    "start_time": "2023-05-25T14:14:37.248Z"
   },
   {
    "duration": 165,
    "start_time": "2023-05-25T14:15:25.497Z"
   },
   {
    "duration": 274,
    "start_time": "2023-05-25T14:15:48.547Z"
   },
   {
    "duration": 172,
    "start_time": "2023-05-25T14:16:02.989Z"
   },
   {
    "duration": 170,
    "start_time": "2023-05-25T14:16:09.291Z"
   },
   {
    "duration": 136,
    "start_time": "2023-05-25T14:17:13.457Z"
   },
   {
    "duration": 258,
    "start_time": "2023-05-25T14:18:53.609Z"
   },
   {
    "duration": 173,
    "start_time": "2023-05-25T14:19:18.649Z"
   },
   {
    "duration": 176,
    "start_time": "2023-05-25T14:19:36.750Z"
   },
   {
    "duration": 180,
    "start_time": "2023-05-25T14:19:42.379Z"
   },
   {
    "duration": 130,
    "start_time": "2023-05-25T14:20:36.328Z"
   },
   {
    "duration": 211,
    "start_time": "2023-05-25T14:20:44.062Z"
   },
   {
    "duration": 164,
    "start_time": "2023-05-25T14:20:52.382Z"
   },
   {
    "duration": 134,
    "start_time": "2023-05-25T14:24:14.706Z"
   },
   {
    "duration": 101,
    "start_time": "2023-05-25T14:24:37.661Z"
   },
   {
    "duration": 149,
    "start_time": "2023-05-25T14:25:00.569Z"
   },
   {
    "duration": 155,
    "start_time": "2023-05-25T14:25:06.409Z"
   },
   {
    "duration": 152,
    "start_time": "2023-05-25T14:25:16.836Z"
   },
   {
    "duration": 187,
    "start_time": "2023-05-25T14:25:30.953Z"
   },
   {
    "duration": 183,
    "start_time": "2023-05-25T14:25:48.508Z"
   },
   {
    "duration": 153,
    "start_time": "2023-05-25T14:26:58.879Z"
   },
   {
    "duration": 303,
    "start_time": "2023-05-25T14:27:13.367Z"
   },
   {
    "duration": 7,
    "start_time": "2023-05-25T14:35:56.070Z"
   },
   {
    "duration": 6,
    "start_time": "2023-05-25T15:11:42.702Z"
   },
   {
    "duration": 154,
    "start_time": "2023-05-25T15:11:57.430Z"
   },
   {
    "duration": 175,
    "start_time": "2023-05-25T15:12:30.341Z"
   },
   {
    "duration": 154,
    "start_time": "2023-05-25T15:12:37.600Z"
   },
   {
    "duration": 142,
    "start_time": "2023-05-25T15:13:18.042Z"
   },
   {
    "duration": 155,
    "start_time": "2023-05-25T15:15:30.409Z"
   },
   {
    "duration": 158,
    "start_time": "2023-05-25T15:17:04.122Z"
   },
   {
    "duration": 9,
    "start_time": "2023-05-25T15:18:37.588Z"
   },
   {
    "duration": 16,
    "start_time": "2023-05-25T15:19:11.040Z"
   },
   {
    "duration": 13,
    "start_time": "2023-05-25T15:19:32.240Z"
   },
   {
    "duration": 1286,
    "start_time": "2023-05-25T15:19:39.039Z"
   },
   {
    "duration": 166,
    "start_time": "2023-05-25T15:19:40.327Z"
   },
   {
    "duration": 8,
    "start_time": "2023-05-25T15:19:40.495Z"
   },
   {
    "duration": 23,
    "start_time": "2023-05-25T15:19:40.505Z"
   },
   {
    "duration": 12,
    "start_time": "2023-05-25T15:19:40.531Z"
   },
   {
    "duration": 37,
    "start_time": "2023-05-25T15:19:40.544Z"
   },
   {
    "duration": 71,
    "start_time": "2023-05-25T15:19:40.583Z"
   },
   {
    "duration": 96,
    "start_time": "2023-05-25T15:19:40.656Z"
   },
   {
    "duration": 906,
    "start_time": "2023-05-25T15:19:40.754Z"
   },
   {
    "duration": 13,
    "start_time": "2023-05-25T15:19:41.662Z"
   },
   {
    "duration": 28,
    "start_time": "2023-05-25T15:19:41.676Z"
   },
   {
    "duration": 9,
    "start_time": "2023-05-25T15:19:41.706Z"
   },
   {
    "duration": 4,
    "start_time": "2023-05-25T15:19:41.717Z"
   },
   {
    "duration": 14,
    "start_time": "2023-05-25T15:19:41.724Z"
   },
   {
    "duration": 7,
    "start_time": "2023-05-25T15:19:41.739Z"
   },
   {
    "duration": 51,
    "start_time": "2023-05-25T15:19:41.748Z"
   },
   {
    "duration": 349,
    "start_time": "2023-05-25T15:19:41.801Z"
   },
   {
    "duration": 7,
    "start_time": "2023-05-25T15:19:42.151Z"
   },
   {
    "duration": 24,
    "start_time": "2023-05-25T15:19:42.160Z"
   },
   {
    "duration": 68,
    "start_time": "2023-05-25T15:19:42.186Z"
   },
   {
    "duration": 92,
    "start_time": "2023-05-25T15:19:42.256Z"
   },
   {
    "duration": 45,
    "start_time": "2023-05-25T15:19:42.350Z"
   },
   {
    "duration": 84,
    "start_time": "2023-05-25T15:19:42.397Z"
   },
   {
    "duration": 23,
    "start_time": "2023-05-25T15:19:42.483Z"
   },
   {
    "duration": 80,
    "start_time": "2023-05-25T15:19:42.507Z"
   },
   {
    "duration": 65,
    "start_time": "2023-05-25T15:19:42.589Z"
   },
   {
    "duration": 29,
    "start_time": "2023-05-25T15:19:42.655Z"
   },
   {
    "duration": 322,
    "start_time": "2023-05-25T15:19:42.686Z"
   },
   {
    "duration": 0,
    "start_time": "2023-05-25T15:19:43.010Z"
   },
   {
    "duration": 0,
    "start_time": "2023-05-25T15:19:43.011Z"
   },
   {
    "duration": 0,
    "start_time": "2023-05-25T15:19:43.011Z"
   },
   {
    "duration": 0,
    "start_time": "2023-05-25T15:19:43.013Z"
   },
   {
    "duration": 0,
    "start_time": "2023-05-25T15:19:43.014Z"
   },
   {
    "duration": 0,
    "start_time": "2023-05-25T15:19:43.014Z"
   },
   {
    "duration": 0,
    "start_time": "2023-05-25T15:19:43.015Z"
   },
   {
    "duration": 0,
    "start_time": "2023-05-25T15:19:43.016Z"
   },
   {
    "duration": 18,
    "start_time": "2023-05-25T15:20:00.889Z"
   },
   {
    "duration": 1281,
    "start_time": "2023-05-25T15:20:37.449Z"
   },
   {
    "duration": 165,
    "start_time": "2023-05-25T15:20:38.732Z"
   },
   {
    "duration": 9,
    "start_time": "2023-05-25T15:20:38.899Z"
   },
   {
    "duration": 23,
    "start_time": "2023-05-25T15:20:38.909Z"
   },
   {
    "duration": 12,
    "start_time": "2023-05-25T15:20:38.934Z"
   },
   {
    "duration": 37,
    "start_time": "2023-05-25T15:20:38.948Z"
   },
   {
    "duration": 70,
    "start_time": "2023-05-25T15:20:38.986Z"
   },
   {
    "duration": 98,
    "start_time": "2023-05-25T15:20:39.058Z"
   },
   {
    "duration": 904,
    "start_time": "2023-05-25T15:20:39.158Z"
   },
   {
    "duration": 12,
    "start_time": "2023-05-25T15:20:40.064Z"
   },
   {
    "duration": 43,
    "start_time": "2023-05-25T15:20:40.078Z"
   },
   {
    "duration": 14,
    "start_time": "2023-05-25T15:20:40.123Z"
   },
   {
    "duration": 8,
    "start_time": "2023-05-25T15:20:40.139Z"
   },
   {
    "duration": 27,
    "start_time": "2023-05-25T15:20:40.149Z"
   },
   {
    "duration": 8,
    "start_time": "2023-05-25T15:20:40.178Z"
   },
   {
    "duration": 43,
    "start_time": "2023-05-25T15:20:40.189Z"
   },
   {
    "duration": 379,
    "start_time": "2023-05-25T15:20:40.234Z"
   },
   {
    "duration": 7,
    "start_time": "2023-05-25T15:20:40.615Z"
   },
   {
    "duration": 18,
    "start_time": "2023-05-25T15:20:40.624Z"
   },
   {
    "duration": 107,
    "start_time": "2023-05-25T15:20:40.644Z"
   },
   {
    "duration": 94,
    "start_time": "2023-05-25T15:20:40.753Z"
   },
   {
    "duration": 65,
    "start_time": "2023-05-25T15:20:40.849Z"
   },
   {
    "duration": 76,
    "start_time": "2023-05-25T15:20:40.915Z"
   },
   {
    "duration": 36,
    "start_time": "2023-05-25T15:20:40.993Z"
   },
   {
    "duration": 88,
    "start_time": "2023-05-25T15:20:41.031Z"
   },
   {
    "duration": 81,
    "start_time": "2023-05-25T15:20:41.120Z"
   },
   {
    "duration": 14,
    "start_time": "2023-05-25T15:20:41.203Z"
   },
   {
    "duration": 130,
    "start_time": "2023-05-25T15:20:41.219Z"
   },
   {
    "duration": 0,
    "start_time": "2023-05-25T15:20:41.352Z"
   },
   {
    "duration": 0,
    "start_time": "2023-05-25T15:20:41.353Z"
   },
   {
    "duration": 0,
    "start_time": "2023-05-25T15:20:41.354Z"
   },
   {
    "duration": 0,
    "start_time": "2023-05-25T15:20:41.355Z"
   },
   {
    "duration": 0,
    "start_time": "2023-05-25T15:20:41.356Z"
   },
   {
    "duration": 0,
    "start_time": "2023-05-25T15:20:41.450Z"
   },
   {
    "duration": 0,
    "start_time": "2023-05-25T15:20:41.451Z"
   },
   {
    "duration": 0,
    "start_time": "2023-05-25T15:20:41.452Z"
   },
   {
    "duration": 7,
    "start_time": "2023-05-25T15:21:05.746Z"
   },
   {
    "duration": 10,
    "start_time": "2023-05-25T15:21:13.981Z"
   },
   {
    "duration": 9,
    "start_time": "2023-05-25T15:21:31.879Z"
   },
   {
    "duration": 147,
    "start_time": "2023-05-25T15:22:03.439Z"
   },
   {
    "duration": 18,
    "start_time": "2023-05-25T15:25:50.538Z"
   },
   {
    "duration": 147,
    "start_time": "2023-05-25T15:26:36.676Z"
   },
   {
    "duration": 160,
    "start_time": "2023-05-25T15:26:52.116Z"
   },
   {
    "duration": 159,
    "start_time": "2023-05-25T15:33:23.218Z"
   },
   {
    "duration": 8,
    "start_time": "2023-05-25T15:34:42.616Z"
   },
   {
    "duration": 6,
    "start_time": "2023-05-25T15:34:56.460Z"
   },
   {
    "duration": 482,
    "start_time": "2023-05-25T15:35:06.331Z"
   },
   {
    "duration": 4,
    "start_time": "2023-05-25T15:35:30.669Z"
   },
   {
    "duration": 9,
    "start_time": "2023-05-25T15:35:38.218Z"
   },
   {
    "duration": 460,
    "start_time": "2023-05-25T15:36:01.004Z"
   },
   {
    "duration": 458,
    "start_time": "2023-05-25T15:36:48.804Z"
   },
   {
    "duration": 766,
    "start_time": "2023-05-25T15:37:05.556Z"
   },
   {
    "duration": 336,
    "start_time": "2023-05-25T15:45:23.013Z"
   },
   {
    "duration": 160,
    "start_time": "2023-05-25T15:45:40.013Z"
   },
   {
    "duration": 156,
    "start_time": "2023-05-25T15:46:06.813Z"
   },
   {
    "duration": 7,
    "start_time": "2023-05-25T15:46:56.779Z"
   },
   {
    "duration": 166,
    "start_time": "2023-05-25T15:47:10.450Z"
   },
   {
    "duration": 161,
    "start_time": "2023-05-25T15:54:40.490Z"
   },
   {
    "duration": 192,
    "start_time": "2023-05-25T15:54:59.983Z"
   },
   {
    "duration": 166,
    "start_time": "2023-05-25T15:55:12.281Z"
   },
   {
    "duration": 165,
    "start_time": "2023-05-25T15:56:32.263Z"
   },
   {
    "duration": 5,
    "start_time": "2023-05-25T15:57:52.280Z"
   },
   {
    "duration": 163,
    "start_time": "2023-05-25T15:58:40.550Z"
   },
   {
    "duration": 252,
    "start_time": "2023-05-25T15:58:49.730Z"
   },
   {
    "duration": 170,
    "start_time": "2023-05-25T15:59:13.509Z"
   },
   {
    "duration": 6,
    "start_time": "2023-05-25T15:59:25.309Z"
   },
   {
    "duration": 164,
    "start_time": "2023-05-25T15:59:46.457Z"
   },
   {
    "duration": 6,
    "start_time": "2023-05-25T15:59:49.689Z"
   },
   {
    "duration": 165,
    "start_time": "2023-05-25T16:00:07.820Z"
   },
   {
    "duration": 7,
    "start_time": "2023-05-25T16:00:11.378Z"
   },
   {
    "duration": 156,
    "start_time": "2023-05-25T16:00:18.640Z"
   },
   {
    "duration": 8,
    "start_time": "2023-05-25T16:00:20.849Z"
   },
   {
    "duration": 159,
    "start_time": "2023-05-25T16:00:36.847Z"
   },
   {
    "duration": 1247,
    "start_time": "2023-05-25T16:00:54.632Z"
   },
   {
    "duration": 157,
    "start_time": "2023-05-25T16:00:55.881Z"
   },
   {
    "duration": 9,
    "start_time": "2023-05-25T16:00:56.040Z"
   },
   {
    "duration": 30,
    "start_time": "2023-05-25T16:00:56.051Z"
   },
   {
    "duration": 13,
    "start_time": "2023-05-25T16:00:56.083Z"
   },
   {
    "duration": 19,
    "start_time": "2023-05-25T16:00:56.098Z"
   },
   {
    "duration": 95,
    "start_time": "2023-05-25T16:00:56.118Z"
   },
   {
    "duration": 102,
    "start_time": "2023-05-25T16:00:56.216Z"
   },
   {
    "duration": 856,
    "start_time": "2023-05-25T16:00:56.320Z"
   },
   {
    "duration": 9,
    "start_time": "2023-05-25T16:00:57.177Z"
   },
   {
    "duration": 27,
    "start_time": "2023-05-25T16:00:57.187Z"
   },
   {
    "duration": 9,
    "start_time": "2023-05-25T16:00:57.215Z"
   },
   {
    "duration": 15,
    "start_time": "2023-05-25T16:00:57.226Z"
   },
   {
    "duration": 18,
    "start_time": "2023-05-25T16:00:57.244Z"
   },
   {
    "duration": 13,
    "start_time": "2023-05-25T16:00:57.263Z"
   },
   {
    "duration": 39,
    "start_time": "2023-05-25T16:00:57.277Z"
   },
   {
    "duration": 353,
    "start_time": "2023-05-25T16:00:57.317Z"
   },
   {
    "duration": 9,
    "start_time": "2023-05-25T16:00:57.671Z"
   },
   {
    "duration": 18,
    "start_time": "2023-05-25T16:00:57.682Z"
   },
   {
    "duration": 103,
    "start_time": "2023-05-25T16:00:57.702Z"
   },
   {
    "duration": 93,
    "start_time": "2023-05-25T16:00:57.807Z"
   },
   {
    "duration": 36,
    "start_time": "2023-05-25T16:00:57.902Z"
   },
   {
    "duration": 87,
    "start_time": "2023-05-25T16:00:57.940Z"
   },
   {
    "duration": 26,
    "start_time": "2023-05-25T16:00:58.029Z"
   },
   {
    "duration": 87,
    "start_time": "2023-05-25T16:00:58.057Z"
   },
   {
    "duration": 84,
    "start_time": "2023-05-25T16:00:58.146Z"
   },
   {
    "duration": 13,
    "start_time": "2023-05-25T16:00:58.232Z"
   },
   {
    "duration": 11,
    "start_time": "2023-05-25T16:00:58.246Z"
   },
   {
    "duration": 270,
    "start_time": "2023-05-25T16:00:58.258Z"
   },
   {
    "duration": 6,
    "start_time": "2023-05-25T16:00:58.530Z"
   },
   {
    "duration": 7,
    "start_time": "2023-05-25T16:00:58.538Z"
   },
   {
    "duration": 67,
    "start_time": "2023-05-25T16:00:58.547Z"
   },
   {
    "duration": 61,
    "start_time": "2023-05-25T16:00:58.616Z"
   },
   {
    "duration": 106,
    "start_time": "2023-05-25T16:00:58.679Z"
   },
   {
    "duration": 5,
    "start_time": "2023-05-25T16:00:58.787Z"
   },
   {
    "duration": 32,
    "start_time": "2023-05-25T16:00:58.793Z"
   },
   {
    "duration": 191,
    "start_time": "2023-05-25T16:00:58.826Z"
   },
   {
    "duration": 141,
    "start_time": "2023-05-25T16:02:46.727Z"
   },
   {
    "duration": 155,
    "start_time": "2023-05-25T16:02:52.620Z"
   },
   {
    "duration": 171,
    "start_time": "2023-05-25T16:03:50.820Z"
   },
   {
    "duration": 110,
    "start_time": "2023-05-25T16:04:45.670Z"
   },
   {
    "duration": 172,
    "start_time": "2023-05-25T16:05:00.780Z"
   },
   {
    "duration": 162,
    "start_time": "2023-05-25T16:05:59.348Z"
   },
   {
    "duration": 170,
    "start_time": "2023-05-25T16:06:19.969Z"
   },
   {
    "duration": 170,
    "start_time": "2023-05-25T16:06:30.549Z"
   },
   {
    "duration": 143,
    "start_time": "2023-05-25T16:06:47.339Z"
   },
   {
    "duration": 161,
    "start_time": "2023-05-25T16:06:58.459Z"
   },
   {
    "duration": 286,
    "start_time": "2023-05-25T16:07:17.347Z"
   },
   {
    "duration": 177,
    "start_time": "2023-05-25T16:07:25.847Z"
   },
   {
    "duration": 178,
    "start_time": "2023-05-25T16:07:38.438Z"
   },
   {
    "duration": 101,
    "start_time": "2023-05-25T16:08:08.646Z"
   },
   {
    "duration": 99,
    "start_time": "2023-05-25T16:08:20.797Z"
   },
   {
    "duration": 2275,
    "start_time": "2023-05-25T16:10:56.008Z"
   },
   {
    "duration": 177,
    "start_time": "2023-05-25T16:13:43.715Z"
   },
   {
    "duration": 172,
    "start_time": "2023-05-25T16:13:49.109Z"
   },
   {
    "duration": 106,
    "start_time": "2023-05-25T16:28:58.609Z"
   },
   {
    "duration": 126,
    "start_time": "2023-05-25T16:29:08.270Z"
   },
   {
    "duration": 61,
    "start_time": "2023-05-25T16:32:13.599Z"
   },
   {
    "duration": 58,
    "start_time": "2023-05-25T16:32:32.669Z"
   },
   {
    "duration": 58,
    "start_time": "2023-05-25T16:32:59.220Z"
   },
   {
    "duration": 69,
    "start_time": "2023-05-25T16:40:27.726Z"
   },
   {
    "duration": 68,
    "start_time": "2023-05-25T16:40:43.420Z"
   },
   {
    "duration": 72,
    "start_time": "2023-05-25T16:40:55.279Z"
   },
   {
    "duration": 68,
    "start_time": "2023-05-25T16:41:04.500Z"
   },
   {
    "duration": 64,
    "start_time": "2023-05-25T16:41:29.594Z"
   },
   {
    "duration": 63,
    "start_time": "2023-05-25T16:41:46.870Z"
   },
   {
    "duration": 67,
    "start_time": "2023-05-25T16:42:30.893Z"
   },
   {
    "duration": 123,
    "start_time": "2023-05-25T16:52:16.368Z"
   },
   {
    "duration": 64,
    "start_time": "2023-05-25T16:52:20.855Z"
   },
   {
    "duration": 66,
    "start_time": "2023-05-25T16:52:54.834Z"
   },
   {
    "duration": 59,
    "start_time": "2023-05-25T16:57:51.649Z"
   },
   {
    "duration": 9,
    "start_time": "2023-05-25T16:59:58.289Z"
   },
   {
    "duration": 1632,
    "start_time": "2023-05-25T17:00:25.788Z"
   },
   {
    "duration": 11,
    "start_time": "2023-05-25T17:00:39.399Z"
   },
   {
    "duration": 26,
    "start_time": "2023-05-25T17:00:55.599Z"
   },
   {
    "duration": 9,
    "start_time": "2023-05-25T17:10:53.661Z"
   },
   {
    "duration": 143,
    "start_time": "2023-05-25T17:12:59.986Z"
   },
   {
    "duration": 1672,
    "start_time": "2023-05-25T17:16:42.969Z"
   },
   {
    "duration": 10,
    "start_time": "2023-05-25T17:17:00.671Z"
   },
   {
    "duration": 119,
    "start_time": "2023-05-25T17:17:39.478Z"
   },
   {
    "duration": 9,
    "start_time": "2023-05-25T17:20:38.489Z"
   },
   {
    "duration": 9,
    "start_time": "2023-05-25T17:20:56.670Z"
   },
   {
    "duration": 9,
    "start_time": "2023-05-25T17:23:19.719Z"
   },
   {
    "duration": 8,
    "start_time": "2023-05-25T17:25:29.779Z"
   },
   {
    "duration": 5,
    "start_time": "2023-05-25T17:25:41.999Z"
   },
   {
    "duration": 19,
    "start_time": "2023-05-25T17:29:04.826Z"
   },
   {
    "duration": 12,
    "start_time": "2023-05-25T17:34:14.881Z"
   },
   {
    "duration": 11,
    "start_time": "2023-05-25T17:35:10.450Z"
   },
   {
    "duration": 7,
    "start_time": "2023-05-25T17:42:19.890Z"
   },
   {
    "duration": 28,
    "start_time": "2023-05-25T17:42:21.327Z"
   },
   {
    "duration": 5,
    "start_time": "2023-05-25T17:42:45.619Z"
   },
   {
    "duration": 6,
    "start_time": "2023-05-25T17:43:43.694Z"
   },
   {
    "duration": 25,
    "start_time": "2023-05-25T17:43:51.289Z"
   },
   {
    "duration": 5,
    "start_time": "2023-05-25T17:44:02.819Z"
   },
   {
    "duration": 116,
    "start_time": "2023-05-25T17:44:08.639Z"
   },
   {
    "duration": 21,
    "start_time": "2023-05-25T17:44:12.037Z"
   },
   {
    "duration": 1675,
    "start_time": "2023-05-25T17:44:21.509Z"
   },
   {
    "duration": 3,
    "start_time": "2023-05-25T17:45:21.880Z"
   },
   {
    "duration": 8,
    "start_time": "2023-05-25T17:45:27.398Z"
   },
   {
    "duration": 1689,
    "start_time": "2023-05-25T17:45:38.035Z"
   },
   {
    "duration": 1744,
    "start_time": "2023-05-25T17:46:06.020Z"
   },
   {
    "duration": 1757,
    "start_time": "2023-05-25T17:46:15.069Z"
   },
   {
    "duration": 8,
    "start_time": "2023-05-25T17:49:08.471Z"
   },
   {
    "duration": 27,
    "start_time": "2023-05-25T17:49:10.804Z"
   },
   {
    "duration": 11,
    "start_time": "2023-05-25T17:49:22.090Z"
   },
   {
    "duration": 5,
    "start_time": "2023-05-25T17:49:28.809Z"
   },
   {
    "duration": 22,
    "start_time": "2023-05-25T17:49:34.630Z"
   },
   {
    "duration": 15,
    "start_time": "2023-05-25T17:49:43.928Z"
   },
   {
    "duration": 8,
    "start_time": "2023-05-25T17:50:02.280Z"
   },
   {
    "duration": 26,
    "start_time": "2023-05-25T17:50:08.102Z"
   },
   {
    "duration": 26,
    "start_time": "2023-05-25T17:53:52.019Z"
   },
   {
    "duration": 9,
    "start_time": "2023-05-25T18:03:02.690Z"
   },
   {
    "duration": 23,
    "start_time": "2023-05-25T18:03:21.139Z"
   },
   {
    "duration": 28,
    "start_time": "2023-05-25T18:23:21.208Z"
   },
   {
    "duration": 25,
    "start_time": "2023-05-25T18:23:47.729Z"
   },
   {
    "duration": 23,
    "start_time": "2023-05-25T18:23:52.877Z"
   },
   {
    "duration": 1234,
    "start_time": "2023-05-25T18:25:11.169Z"
   },
   {
    "duration": 159,
    "start_time": "2023-05-25T18:25:12.404Z"
   },
   {
    "duration": 13,
    "start_time": "2023-05-25T18:25:12.565Z"
   },
   {
    "duration": 21,
    "start_time": "2023-05-25T18:25:12.581Z"
   },
   {
    "duration": 12,
    "start_time": "2023-05-25T18:25:12.603Z"
   },
   {
    "duration": 14,
    "start_time": "2023-05-25T18:25:12.617Z"
   },
   {
    "duration": 91,
    "start_time": "2023-05-25T18:25:12.633Z"
   },
   {
    "duration": 87,
    "start_time": "2023-05-25T18:25:12.726Z"
   },
   {
    "duration": 859,
    "start_time": "2023-05-25T18:25:12.815Z"
   },
   {
    "duration": 9,
    "start_time": "2023-05-25T18:25:13.677Z"
   },
   {
    "duration": 35,
    "start_time": "2023-05-25T18:25:13.687Z"
   },
   {
    "duration": 10,
    "start_time": "2023-05-25T18:25:13.724Z"
   },
   {
    "duration": 9,
    "start_time": "2023-05-25T18:25:13.735Z"
   },
   {
    "duration": 12,
    "start_time": "2023-05-25T18:25:13.745Z"
   },
   {
    "duration": 17,
    "start_time": "2023-05-25T18:25:13.758Z"
   },
   {
    "duration": 30,
    "start_time": "2023-05-25T18:25:13.777Z"
   },
   {
    "duration": 431,
    "start_time": "2023-05-25T18:25:13.809Z"
   },
   {
    "duration": 12,
    "start_time": "2023-05-25T18:25:14.242Z"
   },
   {
    "duration": 28,
    "start_time": "2023-05-25T18:25:14.256Z"
   },
   {
    "duration": 67,
    "start_time": "2023-05-25T18:25:14.285Z"
   },
   {
    "duration": 96,
    "start_time": "2023-05-25T18:25:14.354Z"
   },
   {
    "duration": 47,
    "start_time": "2023-05-25T18:25:14.452Z"
   },
   {
    "duration": 75,
    "start_time": "2023-05-25T18:25:14.500Z"
   },
   {
    "duration": 25,
    "start_time": "2023-05-25T18:25:14.577Z"
   },
   {
    "duration": 80,
    "start_time": "2023-05-25T18:25:14.604Z"
   },
   {
    "duration": 65,
    "start_time": "2023-05-25T18:25:14.685Z"
   },
   {
    "duration": 26,
    "start_time": "2023-05-25T18:25:14.751Z"
   },
   {
    "duration": 269,
    "start_time": "2023-05-25T18:25:14.780Z"
   },
   {
    "duration": 5,
    "start_time": "2023-05-25T18:25:15.051Z"
   },
   {
    "duration": 73,
    "start_time": "2023-05-25T18:25:15.057Z"
   },
   {
    "duration": 59,
    "start_time": "2023-05-25T18:25:15.132Z"
   },
   {
    "duration": 132,
    "start_time": "2023-05-25T18:25:15.192Z"
   },
   {
    "duration": 10,
    "start_time": "2023-05-25T18:25:15.326Z"
   },
   {
    "duration": 14,
    "start_time": "2023-05-25T18:25:15.338Z"
   },
   {
    "duration": 38,
    "start_time": "2023-05-25T18:25:15.353Z"
   },
   {
    "duration": 10,
    "start_time": "2023-05-25T18:25:15.392Z"
   },
   {
    "duration": 7,
    "start_time": "2023-05-25T18:25:15.404Z"
   },
   {
    "duration": 21,
    "start_time": "2023-05-25T18:25:15.412Z"
   },
   {
    "duration": 54,
    "start_time": "2023-05-25T18:25:15.435Z"
   },
   {
    "duration": 27,
    "start_time": "2023-05-25T18:25:15.491Z"
   },
   {
    "duration": 25,
    "start_time": "2023-05-25T18:25:15.520Z"
   },
   {
    "duration": 64,
    "start_time": "2023-05-25T18:25:15.547Z"
   },
   {
    "duration": 183,
    "start_time": "2023-05-25T18:26:33.075Z"
   },
   {
    "duration": 1283,
    "start_time": "2023-05-25T19:02:49.517Z"
   },
   {
    "duration": 170,
    "start_time": "2023-05-25T19:02:50.803Z"
   },
   {
    "duration": 14,
    "start_time": "2023-05-25T19:02:50.976Z"
   },
   {
    "duration": 26,
    "start_time": "2023-05-25T19:02:50.992Z"
   },
   {
    "duration": 12,
    "start_time": "2023-05-25T19:02:51.021Z"
   },
   {
    "duration": 46,
    "start_time": "2023-05-25T19:02:51.035Z"
   },
   {
    "duration": 79,
    "start_time": "2023-05-25T19:02:51.084Z"
   },
   {
    "duration": 82,
    "start_time": "2023-05-25T19:02:51.176Z"
   },
   {
    "duration": 911,
    "start_time": "2023-05-25T19:02:51.276Z"
   },
   {
    "duration": 10,
    "start_time": "2023-05-25T19:02:52.190Z"
   },
   {
    "duration": 25,
    "start_time": "2023-05-25T19:02:52.202Z"
   },
   {
    "duration": 10,
    "start_time": "2023-05-25T19:02:52.229Z"
   },
   {
    "duration": 36,
    "start_time": "2023-05-25T19:02:52.240Z"
   },
   {
    "duration": 12,
    "start_time": "2023-05-25T19:02:52.280Z"
   },
   {
    "duration": 24,
    "start_time": "2023-05-25T19:02:52.294Z"
   },
   {
    "duration": 41,
    "start_time": "2023-05-25T19:02:52.319Z"
   },
   {
    "duration": 357,
    "start_time": "2023-05-25T19:02:52.362Z"
   },
   {
    "duration": 21,
    "start_time": "2023-05-25T19:02:52.721Z"
   },
   {
    "duration": 87,
    "start_time": "2023-05-25T19:02:52.745Z"
   },
   {
    "duration": 92,
    "start_time": "2023-05-25T19:02:52.835Z"
   },
   {
    "duration": 33,
    "start_time": "2023-05-25T19:02:52.928Z"
   },
   {
    "duration": 72,
    "start_time": "2023-05-25T19:02:52.963Z"
   },
   {
    "duration": 45,
    "start_time": "2023-05-25T19:02:53.038Z"
   },
   {
    "duration": 71,
    "start_time": "2023-05-25T19:02:53.085Z"
   },
   {
    "duration": 77,
    "start_time": "2023-05-25T19:02:53.157Z"
   },
   {
    "duration": 14,
    "start_time": "2023-05-25T19:02:53.235Z"
   },
   {
    "duration": 398,
    "start_time": "2023-05-25T19:02:53.251Z"
   },
   {
    "duration": 5,
    "start_time": "2023-05-25T19:02:53.651Z"
   },
   {
    "duration": 70,
    "start_time": "2023-05-25T19:02:53.658Z"
   },
   {
    "duration": 84,
    "start_time": "2023-05-25T19:02:53.731Z"
   },
   {
    "duration": 147,
    "start_time": "2023-05-25T19:02:53.817Z"
   },
   {
    "duration": 19,
    "start_time": "2023-05-25T19:02:53.966Z"
   },
   {
    "duration": 28,
    "start_time": "2023-05-25T19:02:53.987Z"
   },
   {
    "duration": 72,
    "start_time": "2023-05-25T19:02:54.017Z"
   },
   {
    "duration": 13,
    "start_time": "2023-05-25T19:02:54.093Z"
   },
   {
    "duration": 27,
    "start_time": "2023-05-25T19:02:54.108Z"
   },
   {
    "duration": 38,
    "start_time": "2023-05-25T19:02:54.138Z"
   },
   {
    "duration": 31,
    "start_time": "2023-05-25T19:02:54.179Z"
   },
   {
    "duration": 53,
    "start_time": "2023-05-25T19:02:54.213Z"
   },
   {
    "duration": 31,
    "start_time": "2023-05-25T19:02:54.269Z"
   },
   {
    "duration": 40,
    "start_time": "2023-05-25T19:02:54.305Z"
   },
   {
    "duration": 1181,
    "start_time": "2023-05-25T20:59:06.062Z"
   },
   {
    "duration": 148,
    "start_time": "2023-05-25T20:59:07.244Z"
   },
   {
    "duration": 10,
    "start_time": "2023-05-25T20:59:07.393Z"
   },
   {
    "duration": 21,
    "start_time": "2023-05-25T20:59:07.405Z"
   },
   {
    "duration": 27,
    "start_time": "2023-05-25T20:59:07.428Z"
   },
   {
    "duration": 14,
    "start_time": "2023-05-25T20:59:07.456Z"
   },
   {
    "duration": 84,
    "start_time": "2023-05-25T20:59:07.471Z"
   },
   {
    "duration": 79,
    "start_time": "2023-05-25T20:59:07.556Z"
   },
   {
    "duration": 909,
    "start_time": "2023-05-25T20:59:07.636Z"
   },
   {
    "duration": 9,
    "start_time": "2023-05-25T20:59:08.547Z"
   },
   {
    "duration": 22,
    "start_time": "2023-05-25T20:59:08.558Z"
   },
   {
    "duration": 9,
    "start_time": "2023-05-25T20:59:08.582Z"
   },
   {
    "duration": 4,
    "start_time": "2023-05-25T20:59:08.592Z"
   },
   {
    "duration": 13,
    "start_time": "2023-05-25T20:59:08.598Z"
   },
   {
    "duration": 7,
    "start_time": "2023-05-25T20:59:08.612Z"
   },
   {
    "duration": 24,
    "start_time": "2023-05-25T20:59:08.651Z"
   },
   {
    "duration": 321,
    "start_time": "2023-05-25T20:59:08.676Z"
   },
   {
    "duration": 16,
    "start_time": "2023-05-25T20:59:08.998Z"
   },
   {
    "duration": 72,
    "start_time": "2023-05-25T20:59:09.015Z"
   },
   {
    "duration": 86,
    "start_time": "2023-05-25T20:59:09.088Z"
   },
   {
    "duration": 31,
    "start_time": "2023-05-25T20:59:09.176Z"
   },
   {
    "duration": 80,
    "start_time": "2023-05-25T20:59:09.209Z"
   },
   {
    "duration": 22,
    "start_time": "2023-05-25T20:59:09.291Z"
   },
   {
    "duration": 73,
    "start_time": "2023-05-25T20:59:09.315Z"
   },
   {
    "duration": 67,
    "start_time": "2023-05-25T20:59:09.390Z"
   },
   {
    "duration": 12,
    "start_time": "2023-05-25T20:59:09.458Z"
   },
   {
    "duration": 237,
    "start_time": "2023-05-25T20:59:09.472Z"
   },
   {
    "duration": 4,
    "start_time": "2023-05-25T20:59:09.712Z"
   },
   {
    "duration": 64,
    "start_time": "2023-05-25T20:59:09.717Z"
   },
   {
    "duration": 47,
    "start_time": "2023-05-25T20:59:09.783Z"
   },
   {
    "duration": 126,
    "start_time": "2023-05-25T20:59:09.832Z"
   },
   {
    "duration": 9,
    "start_time": "2023-05-25T20:59:09.960Z"
   },
   {
    "duration": 12,
    "start_time": "2023-05-25T20:59:09.970Z"
   },
   {
    "duration": 36,
    "start_time": "2023-05-25T20:59:09.983Z"
   },
   {
    "duration": 9,
    "start_time": "2023-05-25T20:59:10.021Z"
   },
   {
    "duration": 20,
    "start_time": "2023-05-25T20:59:10.031Z"
   },
   {
    "duration": 21,
    "start_time": "2023-05-25T20:59:10.053Z"
   },
   {
    "duration": 26,
    "start_time": "2023-05-25T20:59:10.075Z"
   },
   {
    "duration": 62,
    "start_time": "2023-05-25T20:59:10.103Z"
   },
   {
    "duration": 26,
    "start_time": "2023-05-25T20:59:10.166Z"
   },
   {
    "duration": 24,
    "start_time": "2023-05-25T20:59:10.194Z"
   },
   {
    "duration": 1500,
    "start_time": "2023-05-26T03:13:11.845Z"
   },
   {
    "duration": 704,
    "start_time": "2023-05-26T03:13:13.347Z"
   },
   {
    "duration": 10,
    "start_time": "2023-05-26T03:13:14.052Z"
   },
   {
    "duration": 20,
    "start_time": "2023-05-26T03:13:14.064Z"
   },
   {
    "duration": 12,
    "start_time": "2023-05-26T03:13:14.087Z"
   },
   {
    "duration": 29,
    "start_time": "2023-05-26T03:13:14.100Z"
   },
   {
    "duration": 64,
    "start_time": "2023-05-26T03:13:14.131Z"
   },
   {
    "duration": 92,
    "start_time": "2023-05-26T03:13:14.196Z"
   },
   {
    "duration": 862,
    "start_time": "2023-05-26T03:13:14.290Z"
   },
   {
    "duration": 10,
    "start_time": "2023-05-26T03:13:15.154Z"
   },
   {
    "duration": 26,
    "start_time": "2023-05-26T03:13:15.166Z"
   },
   {
    "duration": 9,
    "start_time": "2023-05-26T03:13:15.194Z"
   },
   {
    "duration": 22,
    "start_time": "2023-05-26T03:13:15.205Z"
   },
   {
    "duration": 15,
    "start_time": "2023-05-26T03:13:15.230Z"
   },
   {
    "duration": 9,
    "start_time": "2023-05-26T03:13:15.246Z"
   },
   {
    "duration": 36,
    "start_time": "2023-05-26T03:13:15.256Z"
   },
   {
    "duration": 362,
    "start_time": "2023-05-26T03:13:15.293Z"
   },
   {
    "duration": 15,
    "start_time": "2023-05-26T03:13:15.657Z"
   },
   {
    "duration": 84,
    "start_time": "2023-05-26T03:13:15.674Z"
   },
   {
    "duration": 96,
    "start_time": "2023-05-26T03:13:15.760Z"
   },
   {
    "duration": 36,
    "start_time": "2023-05-26T03:13:15.859Z"
   },
   {
    "duration": 79,
    "start_time": "2023-05-26T03:13:15.897Z"
   },
   {
    "duration": 27,
    "start_time": "2023-05-26T03:13:15.977Z"
   },
   {
    "duration": 86,
    "start_time": "2023-05-26T03:13:16.006Z"
   },
   {
    "duration": 86,
    "start_time": "2023-05-26T03:13:16.094Z"
   },
   {
    "duration": 15,
    "start_time": "2023-05-26T03:13:16.182Z"
   },
   {
    "duration": 274,
    "start_time": "2023-05-26T03:13:16.199Z"
   },
   {
    "duration": 179,
    "start_time": "2023-05-26T03:13:16.475Z"
   },
   {
    "duration": 4,
    "start_time": "2023-05-26T03:13:16.658Z"
   },
   {
    "duration": 88,
    "start_time": "2023-05-26T03:13:16.664Z"
   },
   {
    "duration": 109,
    "start_time": "2023-05-26T03:13:16.753Z"
   },
   {
    "duration": 138,
    "start_time": "2023-05-26T03:13:16.864Z"
   },
   {
    "duration": 10,
    "start_time": "2023-05-26T03:13:17.004Z"
   },
   {
    "duration": 36,
    "start_time": "2023-05-26T03:13:17.015Z"
   },
   {
    "duration": 42,
    "start_time": "2023-05-26T03:13:17.053Z"
   },
   {
    "duration": 9,
    "start_time": "2023-05-26T03:13:17.097Z"
   },
   {
    "duration": 42,
    "start_time": "2023-05-26T03:13:17.108Z"
   },
   {
    "duration": 55,
    "start_time": "2023-05-26T03:13:17.152Z"
   },
   {
    "duration": 24,
    "start_time": "2023-05-26T03:13:17.209Z"
   },
   {
    "duration": 24,
    "start_time": "2023-05-26T03:13:17.234Z"
   },
   {
    "duration": 32,
    "start_time": "2023-05-26T03:13:17.262Z"
   },
   {
    "duration": 63,
    "start_time": "2023-05-26T03:13:17.296Z"
   },
   {
    "duration": 121,
    "start_time": "2023-05-26T03:15:42.544Z"
   },
   {
    "duration": 22,
    "start_time": "2023-05-26T03:15:55.704Z"
   },
   {
    "duration": 108,
    "start_time": "2023-05-26T03:16:20.864Z"
   },
   {
    "duration": 18,
    "start_time": "2023-05-26T03:16:28.585Z"
   },
   {
    "duration": 8,
    "start_time": "2023-05-26T03:16:33.545Z"
   },
   {
    "duration": 19,
    "start_time": "2023-05-26T03:18:00.772Z"
   },
   {
    "duration": 11,
    "start_time": "2023-05-26T03:18:13.264Z"
   },
   {
    "duration": 13,
    "start_time": "2023-05-26T03:18:31.864Z"
   },
   {
    "duration": 12,
    "start_time": "2023-05-26T03:18:38.753Z"
   },
   {
    "duration": 26,
    "start_time": "2023-05-26T03:21:01.612Z"
   },
   {
    "duration": 21,
    "start_time": "2023-05-26T03:23:11.594Z"
   },
   {
    "duration": 15,
    "start_time": "2023-05-26T03:23:44.344Z"
   },
   {
    "duration": 13,
    "start_time": "2023-05-26T03:24:12.084Z"
   },
   {
    "duration": 17,
    "start_time": "2023-05-26T03:24:21.164Z"
   },
   {
    "duration": 15,
    "start_time": "2023-05-26T03:24:32.764Z"
   },
   {
    "duration": 17,
    "start_time": "2023-05-26T03:24:40.973Z"
   },
   {
    "duration": 15,
    "start_time": "2023-05-26T03:25:17.784Z"
   },
   {
    "duration": 13,
    "start_time": "2023-05-26T03:25:24.872Z"
   },
   {
    "duration": 13,
    "start_time": "2023-05-26T03:25:32.873Z"
   },
   {
    "duration": 13,
    "start_time": "2023-05-26T03:25:44.753Z"
   },
   {
    "duration": 14,
    "start_time": "2023-05-26T03:34:01.172Z"
   },
   {
    "duration": 29,
    "start_time": "2023-05-26T03:39:06.926Z"
   },
   {
    "duration": 1355,
    "start_time": "2023-05-26T03:40:16.505Z"
   },
   {
    "duration": 185,
    "start_time": "2023-05-26T03:40:17.862Z"
   },
   {
    "duration": 12,
    "start_time": "2023-05-26T03:40:18.052Z"
   },
   {
    "duration": 29,
    "start_time": "2023-05-26T03:40:18.066Z"
   },
   {
    "duration": 28,
    "start_time": "2023-05-26T03:40:18.098Z"
   },
   {
    "duration": 31,
    "start_time": "2023-05-26T03:40:18.129Z"
   },
   {
    "duration": 90,
    "start_time": "2023-05-26T03:40:18.161Z"
   },
   {
    "duration": 105,
    "start_time": "2023-05-26T03:40:18.253Z"
   },
   {
    "duration": 905,
    "start_time": "2023-05-26T03:40:18.360Z"
   },
   {
    "duration": 9,
    "start_time": "2023-05-26T03:40:19.267Z"
   },
   {
    "duration": 28,
    "start_time": "2023-05-26T03:40:19.277Z"
   },
   {
    "duration": 21,
    "start_time": "2023-05-26T03:40:19.307Z"
   },
   {
    "duration": 6,
    "start_time": "2023-05-26T03:40:19.330Z"
   },
   {
    "duration": 12,
    "start_time": "2023-05-26T03:40:19.340Z"
   },
   {
    "duration": 10,
    "start_time": "2023-05-26T03:40:19.354Z"
   },
   {
    "duration": 59,
    "start_time": "2023-05-26T03:40:19.366Z"
   },
   {
    "duration": 395,
    "start_time": "2023-05-26T03:40:19.427Z"
   },
   {
    "duration": 16,
    "start_time": "2023-05-26T03:40:19.824Z"
   },
   {
    "duration": 85,
    "start_time": "2023-05-26T03:40:19.842Z"
   },
   {
    "duration": 82,
    "start_time": "2023-05-26T03:40:19.929Z"
   },
   {
    "duration": 43,
    "start_time": "2023-05-26T03:40:20.014Z"
   },
   {
    "duration": 95,
    "start_time": "2023-05-26T03:40:20.059Z"
   },
   {
    "duration": 24,
    "start_time": "2023-05-26T03:40:20.156Z"
   },
   {
    "duration": 76,
    "start_time": "2023-05-26T03:40:20.182Z"
   },
   {
    "duration": 73,
    "start_time": "2023-05-26T03:40:20.260Z"
   },
   {
    "duration": 13,
    "start_time": "2023-05-26T03:40:20.334Z"
   },
   {
    "duration": 263,
    "start_time": "2023-05-26T03:40:20.349Z"
   },
   {
    "duration": 160,
    "start_time": "2023-05-26T03:40:20.624Z"
   },
   {
    "duration": 4,
    "start_time": "2023-05-26T03:40:20.786Z"
   },
   {
    "duration": 79,
    "start_time": "2023-05-26T03:40:20.792Z"
   },
   {
    "duration": 104,
    "start_time": "2023-05-26T03:40:20.924Z"
   },
   {
    "duration": 133,
    "start_time": "2023-05-26T03:40:21.030Z"
   },
   {
    "duration": 11,
    "start_time": "2023-05-26T03:40:21.165Z"
   },
   {
    "duration": 21,
    "start_time": "2023-05-26T03:40:21.178Z"
   },
   {
    "duration": 73,
    "start_time": "2023-05-26T03:40:21.201Z"
   },
   {
    "duration": 10,
    "start_time": "2023-05-26T03:40:21.275Z"
   },
   {
    "duration": 14,
    "start_time": "2023-05-26T03:40:21.286Z"
   },
   {
    "duration": 22,
    "start_time": "2023-05-26T03:40:21.302Z"
   },
   {
    "duration": 24,
    "start_time": "2023-05-26T03:40:21.326Z"
   },
   {
    "duration": 30,
    "start_time": "2023-05-26T03:40:21.352Z"
   },
   {
    "duration": 51,
    "start_time": "2023-05-26T03:40:21.386Z"
   },
   {
    "duration": 25,
    "start_time": "2023-05-26T03:40:21.439Z"
   },
   {
    "duration": 104,
    "start_time": "2023-05-26T03:47:37.645Z"
   },
   {
    "duration": 23,
    "start_time": "2023-05-26T03:52:44.614Z"
   },
   {
    "duration": 111,
    "start_time": "2023-05-26T03:53:32.905Z"
   },
   {
    "duration": 29,
    "start_time": "2023-05-26T03:53:46.545Z"
   },
   {
    "duration": 10,
    "start_time": "2023-05-26T03:53:58.174Z"
   },
   {
    "duration": 40,
    "start_time": "2023-05-26T03:54:17.466Z"
   },
   {
    "duration": 23,
    "start_time": "2023-05-26T03:54:26.326Z"
   },
   {
    "duration": 14,
    "start_time": "2023-05-26T03:54:36.164Z"
   },
   {
    "duration": 13,
    "start_time": "2023-05-26T03:56:48.346Z"
   },
   {
    "duration": 14,
    "start_time": "2023-05-26T03:58:39.864Z"
   },
   {
    "duration": 12,
    "start_time": "2023-05-26T03:58:46.145Z"
   },
   {
    "duration": 17,
    "start_time": "2023-05-26T03:59:13.626Z"
   },
   {
    "duration": 17,
    "start_time": "2023-05-26T03:59:48.533Z"
   },
   {
    "duration": 13,
    "start_time": "2023-05-26T04:00:18.345Z"
   },
   {
    "duration": 13,
    "start_time": "2023-05-26T04:00:35.425Z"
   },
   {
    "duration": 13,
    "start_time": "2023-05-26T04:01:00.813Z"
   },
   {
    "duration": 13,
    "start_time": "2023-05-26T04:01:20.455Z"
   },
   {
    "duration": 129,
    "start_time": "2023-05-26T04:01:41.145Z"
   },
   {
    "duration": 13,
    "start_time": "2023-05-26T04:01:49.385Z"
   },
   {
    "duration": 12,
    "start_time": "2023-05-26T04:02:12.154Z"
   },
   {
    "duration": 12,
    "start_time": "2023-05-26T04:02:18.985Z"
   },
   {
    "duration": 15,
    "start_time": "2023-05-26T04:02:32.753Z"
   },
   {
    "duration": 1310,
    "start_time": "2023-05-26T04:02:54.025Z"
   },
   {
    "duration": 171,
    "start_time": "2023-05-26T04:02:55.337Z"
   },
   {
    "duration": 16,
    "start_time": "2023-05-26T04:02:55.510Z"
   },
   {
    "duration": 33,
    "start_time": "2023-05-26T04:02:55.529Z"
   },
   {
    "duration": 12,
    "start_time": "2023-05-26T04:02:55.563Z"
   },
   {
    "duration": 19,
    "start_time": "2023-05-26T04:02:55.577Z"
   },
   {
    "duration": 92,
    "start_time": "2023-05-26T04:02:55.598Z"
   },
   {
    "duration": 98,
    "start_time": "2023-05-26T04:02:55.691Z"
   },
   {
    "duration": 919,
    "start_time": "2023-05-26T04:02:55.791Z"
   },
   {
    "duration": 9,
    "start_time": "2023-05-26T04:02:56.713Z"
   },
   {
    "duration": 26,
    "start_time": "2023-05-26T04:02:56.725Z"
   },
   {
    "duration": 9,
    "start_time": "2023-05-26T04:02:56.753Z"
   },
   {
    "duration": 6,
    "start_time": "2023-05-26T04:02:56.764Z"
   },
   {
    "duration": 12,
    "start_time": "2023-05-26T04:02:56.772Z"
   },
   {
    "duration": 7,
    "start_time": "2023-05-26T04:02:56.786Z"
   },
   {
    "duration": 33,
    "start_time": "2023-05-26T04:02:56.825Z"
   },
   {
    "duration": 359,
    "start_time": "2023-05-26T04:02:56.859Z"
   },
   {
    "duration": 18,
    "start_time": "2023-05-26T04:02:57.219Z"
   },
   {
    "duration": 86,
    "start_time": "2023-05-26T04:02:57.239Z"
   },
   {
    "duration": 99,
    "start_time": "2023-05-26T04:02:57.327Z"
   },
   {
    "duration": 34,
    "start_time": "2023-05-26T04:02:57.428Z"
   },
   {
    "duration": 80,
    "start_time": "2023-05-26T04:02:57.463Z"
   },
   {
    "duration": 24,
    "start_time": "2023-05-26T04:02:57.544Z"
   },
   {
    "duration": 94,
    "start_time": "2023-05-26T04:02:57.570Z"
   },
   {
    "duration": 75,
    "start_time": "2023-05-26T04:02:57.665Z"
   },
   {
    "duration": 85,
    "start_time": "2023-05-26T04:02:57.742Z"
   },
   {
    "duration": 254,
    "start_time": "2023-05-26T04:02:57.828Z"
   },
   {
    "duration": 5,
    "start_time": "2023-05-26T04:02:58.086Z"
   },
   {
    "duration": 159,
    "start_time": "2023-05-26T04:02:58.093Z"
   },
   {
    "duration": 91,
    "start_time": "2023-05-26T04:02:58.254Z"
   },
   {
    "duration": 140,
    "start_time": "2023-05-26T04:02:58.347Z"
   },
   {
    "duration": 12,
    "start_time": "2023-05-26T04:02:58.488Z"
   },
   {
    "duration": 7,
    "start_time": "2023-05-26T04:02:58.502Z"
   },
   {
    "duration": 37,
    "start_time": "2023-05-26T04:02:58.525Z"
   },
   {
    "duration": 10,
    "start_time": "2023-05-26T04:02:58.563Z"
   },
   {
    "duration": 8,
    "start_time": "2023-05-26T04:02:58.575Z"
   },
   {
    "duration": 43,
    "start_time": "2023-05-26T04:02:58.585Z"
   },
   {
    "duration": 36,
    "start_time": "2023-05-26T04:02:58.631Z"
   },
   {
    "duration": 31,
    "start_time": "2023-05-26T04:02:58.669Z"
   },
   {
    "duration": 28,
    "start_time": "2023-05-26T04:02:58.726Z"
   },
   {
    "duration": 27,
    "start_time": "2023-05-26T04:02:58.756Z"
   },
   {
    "duration": 1298,
    "start_time": "2023-05-26T07:31:01.846Z"
   },
   {
    "duration": 158,
    "start_time": "2023-05-26T07:31:03.146Z"
   },
   {
    "duration": 11,
    "start_time": "2023-05-26T07:31:03.306Z"
   },
   {
    "duration": 36,
    "start_time": "2023-05-26T07:31:03.320Z"
   },
   {
    "duration": 13,
    "start_time": "2023-05-26T07:31:03.358Z"
   },
   {
    "duration": 13,
    "start_time": "2023-05-26T07:31:03.373Z"
   },
   {
    "duration": 94,
    "start_time": "2023-05-26T07:31:03.388Z"
   },
   {
    "duration": 100,
    "start_time": "2023-05-26T07:31:03.484Z"
   },
   {
    "duration": 979,
    "start_time": "2023-05-26T07:31:03.586Z"
   },
   {
    "duration": 9,
    "start_time": "2023-05-26T07:31:04.568Z"
   },
   {
    "duration": 31,
    "start_time": "2023-05-26T07:31:04.578Z"
   },
   {
    "duration": 10,
    "start_time": "2023-05-26T07:31:04.611Z"
   },
   {
    "duration": 6,
    "start_time": "2023-05-26T07:31:04.623Z"
   },
   {
    "duration": 11,
    "start_time": "2023-05-26T07:31:04.651Z"
   },
   {
    "duration": 9,
    "start_time": "2023-05-26T07:31:04.664Z"
   },
   {
    "duration": 27,
    "start_time": "2023-05-26T07:31:04.675Z"
   },
   {
    "duration": 366,
    "start_time": "2023-05-26T07:31:04.703Z"
   },
   {
    "duration": 15,
    "start_time": "2023-05-26T07:31:05.071Z"
   },
   {
    "duration": 75,
    "start_time": "2023-05-26T07:31:05.088Z"
   },
   {
    "duration": 90,
    "start_time": "2023-05-26T07:31:05.165Z"
   },
   {
    "duration": 33,
    "start_time": "2023-05-26T07:31:05.257Z"
   },
   {
    "duration": 77,
    "start_time": "2023-05-26T07:31:05.292Z"
   },
   {
    "duration": 26,
    "start_time": "2023-05-26T07:31:05.371Z"
   },
   {
    "duration": 76,
    "start_time": "2023-05-26T07:31:05.399Z"
   },
   {
    "duration": 74,
    "start_time": "2023-05-26T07:31:05.477Z"
   },
   {
    "duration": 21,
    "start_time": "2023-05-26T07:31:05.554Z"
   },
   {
    "duration": 484,
    "start_time": "2023-05-26T07:31:05.577Z"
   },
   {
    "duration": 4,
    "start_time": "2023-05-26T07:31:06.066Z"
   },
   {
    "duration": 117,
    "start_time": "2023-05-26T07:31:06.072Z"
   },
   {
    "duration": 85,
    "start_time": "2023-05-26T07:31:06.190Z"
   },
   {
    "duration": 128,
    "start_time": "2023-05-26T07:31:06.277Z"
   },
   {
    "duration": 10,
    "start_time": "2023-05-26T07:31:06.407Z"
   },
   {
    "duration": 9,
    "start_time": "2023-05-26T07:31:06.419Z"
   },
   {
    "duration": 44,
    "start_time": "2023-05-26T07:31:06.431Z"
   },
   {
    "duration": 11,
    "start_time": "2023-05-26T07:31:06.477Z"
   },
   {
    "duration": 15,
    "start_time": "2023-05-26T07:31:06.490Z"
   },
   {
    "duration": 30,
    "start_time": "2023-05-26T07:31:06.507Z"
   },
   {
    "duration": 28,
    "start_time": "2023-05-26T07:31:06.550Z"
   },
   {
    "duration": 25,
    "start_time": "2023-05-26T07:31:06.579Z"
   },
   {
    "duration": 58,
    "start_time": "2023-05-26T07:31:06.606Z"
   },
   {
    "duration": 25,
    "start_time": "2023-05-26T07:31:06.666Z"
   },
   {
    "duration": 144,
    "start_time": "2023-05-26T07:32:53.884Z"
   },
   {
    "duration": 15,
    "start_time": "2023-05-26T07:33:19.189Z"
   },
   {
    "duration": 1941,
    "start_time": "2023-05-26T07:40:51.501Z"
   },
   {
    "duration": 801,
    "start_time": "2023-05-26T07:40:53.445Z"
   },
   {
    "duration": 18,
    "start_time": "2023-05-26T07:40:54.249Z"
   },
   {
    "duration": 31,
    "start_time": "2023-05-26T07:40:54.269Z"
   },
   {
    "duration": 23,
    "start_time": "2023-05-26T07:40:54.304Z"
   },
   {
    "duration": 45,
    "start_time": "2023-05-26T07:40:54.329Z"
   },
   {
    "duration": 121,
    "start_time": "2023-05-26T07:40:54.376Z"
   },
   {
    "duration": 134,
    "start_time": "2023-05-26T07:40:54.500Z"
   },
   {
    "duration": 1166,
    "start_time": "2023-05-26T07:40:54.637Z"
   },
   {
    "duration": 11,
    "start_time": "2023-05-26T07:40:55.805Z"
   },
   {
    "duration": 51,
    "start_time": "2023-05-26T07:40:55.818Z"
   },
   {
    "duration": 14,
    "start_time": "2023-05-26T07:40:55.872Z"
   },
   {
    "duration": 6,
    "start_time": "2023-05-26T07:40:55.888Z"
   },
   {
    "duration": 37,
    "start_time": "2023-05-26T07:40:55.897Z"
   },
   {
    "duration": 24,
    "start_time": "2023-05-26T07:40:55.936Z"
   },
   {
    "duration": 29,
    "start_time": "2023-05-26T07:40:55.962Z"
   },
   {
    "duration": 415,
    "start_time": "2023-05-26T07:40:55.993Z"
   },
   {
    "duration": 17,
    "start_time": "2023-05-26T07:40:56.410Z"
   },
   {
    "duration": 86,
    "start_time": "2023-05-26T07:40:56.429Z"
   },
   {
    "duration": 106,
    "start_time": "2023-05-26T07:40:56.518Z"
   },
   {
    "duration": 47,
    "start_time": "2023-05-26T07:40:56.626Z"
   },
   {
    "duration": 83,
    "start_time": "2023-05-26T07:40:56.676Z"
   },
   {
    "duration": 28,
    "start_time": "2023-05-26T07:40:56.762Z"
   },
   {
    "duration": 92,
    "start_time": "2023-05-26T07:40:56.793Z"
   },
   {
    "duration": 98,
    "start_time": "2023-05-26T07:40:56.887Z"
   },
   {
    "duration": 21,
    "start_time": "2023-05-26T07:40:56.988Z"
   },
   {
    "duration": 478,
    "start_time": "2023-05-26T07:40:57.011Z"
   },
   {
    "duration": 7,
    "start_time": "2023-05-26T07:40:57.491Z"
   },
   {
    "duration": 172,
    "start_time": "2023-05-26T07:40:57.500Z"
   },
   {
    "duration": 125,
    "start_time": "2023-05-26T07:40:57.676Z"
   },
   {
    "duration": 226,
    "start_time": "2023-05-26T07:40:57.803Z"
   },
   {
    "duration": 14,
    "start_time": "2023-05-26T07:40:58.031Z"
   },
   {
    "duration": 8,
    "start_time": "2023-05-26T07:40:58.064Z"
   },
   {
    "duration": 79,
    "start_time": "2023-05-26T07:40:58.074Z"
   },
   {
    "duration": 13,
    "start_time": "2023-05-26T07:40:58.157Z"
   },
   {
    "duration": 14,
    "start_time": "2023-05-26T07:40:58.172Z"
   },
   {
    "duration": 28,
    "start_time": "2023-05-26T07:40:58.188Z"
   },
   {
    "duration": 62,
    "start_time": "2023-05-26T07:40:58.219Z"
   },
   {
    "duration": 42,
    "start_time": "2023-05-26T07:40:58.284Z"
   },
   {
    "duration": 65,
    "start_time": "2023-05-26T07:40:58.328Z"
   },
   {
    "duration": 59,
    "start_time": "2023-05-26T07:40:58.398Z"
   },
   {
    "duration": 21,
    "start_time": "2023-05-26T07:41:26.738Z"
   },
   {
    "duration": 25,
    "start_time": "2023-05-26T07:41:30.521Z"
   },
   {
    "duration": 22,
    "start_time": "2023-05-26T07:41:34.921Z"
   },
   {
    "duration": 22,
    "start_time": "2023-05-26T07:41:57.582Z"
   },
   {
    "duration": 10,
    "start_time": "2023-05-26T10:35:24.711Z"
   },
   {
    "duration": 13,
    "start_time": "2023-05-26T12:06:48.258Z"
   },
   {
    "duration": 8,
    "start_time": "2023-05-26T12:07:03.029Z"
   },
   {
    "duration": 12,
    "start_time": "2023-05-26T12:09:28.283Z"
   },
   {
    "duration": 8,
    "start_time": "2023-05-26T12:09:34.586Z"
   },
   {
    "duration": 13,
    "start_time": "2023-05-26T12:19:29.119Z"
   },
   {
    "duration": 6,
    "start_time": "2023-05-26T12:24:55.521Z"
   },
   {
    "duration": 9,
    "start_time": "2023-05-26T12:27:38.524Z"
   },
   {
    "duration": 2287,
    "start_time": "2023-05-26T12:29:43.948Z"
   },
   {
    "duration": 4,
    "start_time": "2023-05-26T12:29:53.939Z"
   },
   {
    "duration": 5,
    "start_time": "2023-05-26T12:29:59.987Z"
   },
   {
    "duration": 5,
    "start_time": "2023-05-26T12:30:55.719Z"
   },
   {
    "duration": 17,
    "start_time": "2023-05-26T12:31:16.750Z"
   },
   {
    "duration": 17,
    "start_time": "2023-05-26T12:31:22.793Z"
   },
   {
    "duration": 16,
    "start_time": "2023-05-26T12:32:13.918Z"
   },
   {
    "duration": 60,
    "start_time": "2023-05-26T12:33:23.827Z"
   },
   {
    "duration": 53,
    "start_time": "2023-05-26T12:33:48.389Z"
   },
   {
    "duration": 53,
    "start_time": "2023-05-26T12:34:03.975Z"
   },
   {
    "duration": 11,
    "start_time": "2023-05-26T12:34:24.549Z"
   },
   {
    "duration": 15,
    "start_time": "2023-05-26T12:35:29.997Z"
   },
   {
    "duration": 8,
    "start_time": "2023-05-26T12:35:43.750Z"
   },
   {
    "duration": 55,
    "start_time": "2023-05-26T12:40:21.350Z"
   },
   {
    "duration": 57,
    "start_time": "2023-05-26T12:40:37.697Z"
   },
   {
    "duration": 61,
    "start_time": "2023-05-26T12:40:43.266Z"
   },
   {
    "duration": 66,
    "start_time": "2023-05-26T12:40:53.657Z"
   },
   {
    "duration": 8,
    "start_time": "2023-05-26T12:41:10.841Z"
   },
   {
    "duration": 19,
    "start_time": "2023-05-26T12:41:30.810Z"
   },
   {
    "duration": 18,
    "start_time": "2023-05-26T12:41:57.420Z"
   },
   {
    "duration": 8,
    "start_time": "2023-05-26T12:42:07.997Z"
   },
   {
    "duration": 5,
    "start_time": "2023-05-26T12:42:30.742Z"
   },
   {
    "duration": 18,
    "start_time": "2023-05-26T12:42:37.518Z"
   },
   {
    "duration": 7,
    "start_time": "2023-05-26T12:42:45.082Z"
   },
   {
    "duration": 7,
    "start_time": "2023-05-26T12:42:49.600Z"
   },
   {
    "duration": 18,
    "start_time": "2023-05-26T12:42:58.621Z"
   },
   {
    "duration": 65,
    "start_time": "2023-05-26T12:44:11.171Z"
   },
   {
    "duration": 9,
    "start_time": "2023-05-26T12:46:54.592Z"
   },
   {
    "duration": 12,
    "start_time": "2023-05-26T12:47:32.896Z"
   },
   {
    "duration": 13,
    "start_time": "2023-05-26T12:48:09.558Z"
   },
   {
    "duration": 4,
    "start_time": "2023-05-26T12:49:51.117Z"
   },
   {
    "duration": 14,
    "start_time": "2023-05-26T12:50:03.716Z"
   },
   {
    "duration": 10,
    "start_time": "2023-05-26T12:51:08.908Z"
   },
   {
    "duration": 9,
    "start_time": "2023-05-26T12:51:48.173Z"
   },
   {
    "duration": 3,
    "start_time": "2023-05-26T12:51:59.384Z"
   },
   {
    "duration": 19,
    "start_time": "2023-05-26T12:52:07.388Z"
   },
   {
    "duration": 8,
    "start_time": "2023-05-26T12:52:43.485Z"
   },
   {
    "duration": 5,
    "start_time": "2023-05-26T12:53:42.583Z"
   },
   {
    "duration": 5,
    "start_time": "2023-05-26T12:53:47.287Z"
   },
   {
    "duration": 13,
    "start_time": "2023-05-26T12:53:57.640Z"
   },
   {
    "duration": 16,
    "start_time": "2023-05-26T12:56:17.685Z"
   }
  ],
  "kernelspec": {
   "display_name": "Python 3 (ipykernel)",
   "language": "python",
   "name": "python3"
  },
  "language_info": {
   "codemirror_mode": {
    "name": "ipython",
    "version": 3
   },
   "file_extension": ".py",
   "mimetype": "text/x-python",
   "name": "python",
   "nbconvert_exporter": "python",
   "pygments_lexer": "ipython3",
   "version": "3.11.4"
  },
  "toc": {
   "base_numbering": 1,
   "nav_menu": {},
   "number_sections": true,
   "sideBar": true,
   "skip_h1_title": true,
   "title_cell": "Table of Contents",
   "title_sidebar": "Contents",
   "toc_cell": false,
   "toc_position": {
    "height": "calc(100% - 180px)",
    "left": "10px",
    "top": "150px",
    "width": "294.237px"
   },
   "toc_section_display": true,
   "toc_window_display": true
  }
 },
 "nbformat": 4,
 "nbformat_minor": 2
}
